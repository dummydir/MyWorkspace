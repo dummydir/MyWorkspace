{
 "cells": [
  {
   "cell_type": "code",
   "execution_count": 6,
   "id": "7cd929c6",
   "metadata": {},
   "outputs": [],
   "source": [
    "x = (\"red\",\"blue\",\"Yellow\")"
   ]
  },
  {
   "cell_type": "code",
   "execution_count": 8,
   "id": "c2399d4d",
   "metadata": {},
   "outputs": [],
   "source": [
    "(cherry,piner,apple) = x"
   ]
  },
  {
   "cell_type": "code",
   "execution_count": 9,
   "id": "7be347d3",
   "metadata": {
    "collapsed": true
   },
   "outputs": [
    {
     "name": "stdout",
     "output_type": "stream",
     "text": [
      "red\n"
     ]
    }
   ],
   "source": [
    "print(cherry)"
   ]
  },
  {
   "cell_type": "code",
   "execution_count": null,
   "id": "512722e2",
   "metadata": {},
   "outputs": [],
   "source": []
  },
  {
   "cell_type": "code",
   "execution_count": null,
   "id": "ab99e18f",
   "metadata": {},
   "outputs": [],
   "source": []
  }
 ],
 "metadata": {
  "kernelspec": {
   "display_name": "Python 3",
   "language": "python",
   "name": "python3"
  },
  "language_info": {
   "codemirror_mode": {
    "name": "ipython",
    "version": 3
   },
   "file_extension": ".py",
   "mimetype": "text/x-python",
   "name": "python",
   "nbconvert_exporter": "python",
   "pygments_lexer": "ipython3",
   "version": "3.8.8"
  }
 },
 "nbformat": 4,
 "nbformat_minor": 5
}
