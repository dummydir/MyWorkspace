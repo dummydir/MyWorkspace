{
 "cells": [
  {
   "cell_type": "code",
   "execution_count": 12,
   "id": "14a438ad",
   "metadata": {},
   "outputs": [],
   "source": [
    "import pandas as pd\n",
    "import numpy as np\n",
    "from sklearn.cluster import KMeans\n",
    "from scipy.spatial.distance import cdist\n",
    "from sklearn.preprocessing import MinMaxScaler as mm"
   ]
  },
  {
   "cell_type": "code",
   "execution_count": 22,
   "id": "1670075a",
   "metadata": {},
   "outputs": [],
   "source": [
    "al_rd = pd.read_csv(\"D:/DS Files/DS Assingments/Assignments/Assignments Excel Sheets/EastWestAirlines.csv\")"
   ]
  },
  {
   "cell_type": "code",
   "execution_count": 23,
   "id": "22a3f4bc",
   "metadata": {
    "collapsed": true
   },
   "outputs": [
    {
     "name": "stdout",
     "output_type": "stream",
     "text": [
      "<class 'pandas.core.frame.DataFrame'>\n",
      "RangeIndex: 3999 entries, 0 to 3998\n",
      "Data columns (total 12 columns):\n",
      " #   Column             Non-Null Count  Dtype\n",
      "---  ------             --------------  -----\n",
      " 0   ID#                3999 non-null   int64\n",
      " 1   Balance            3999 non-null   int64\n",
      " 2   Qual_miles         3999 non-null   int64\n",
      " 3   cc1_miles          3999 non-null   int64\n",
      " 4   cc2_miles          3999 non-null   int64\n",
      " 5   cc3_miles          3999 non-null   int64\n",
      " 6   Bonus_miles        3999 non-null   int64\n",
      " 7   Bonus_trans        3999 non-null   int64\n",
      " 8   Flight_miles_12mo  3999 non-null   int64\n",
      " 9   Flight_trans_12    3999 non-null   int64\n",
      " 10  Days_since_enroll  3999 non-null   int64\n",
      " 11  Award?             3999 non-null   int64\n",
      "dtypes: int64(12)\n",
      "memory usage: 375.0 KB\n"
     ]
    }
   ],
   "source": [
    "al_rd.info()"
   ]
  },
  {
   "cell_type": "code",
   "execution_count": 24,
   "id": "0d1bf3f3",
   "metadata": {},
   "outputs": [],
   "source": [
    "def norm(i):\n",
    "    temp = (i-i.min())/(i.min()-i.max())\n",
    "    return temp"
   ]
  },
  {
   "cell_type": "code",
   "execution_count": 29,
   "id": "7c811714",
   "metadata": {},
   "outputs": [],
   "source": [
    "al_x = al_rd.iloc[:,1:]"
   ]
  },
  {
   "cell_type": "code",
   "execution_count": 30,
   "id": "66e427a6",
   "metadata": {},
   "outputs": [],
   "source": [
    "al_mm = norm(al_x)"
   ]
  },
  {
   "cell_type": "code",
   "execution_count": null,
   "id": "1a171df9",
   "metadata": {},
   "outputs": [],
   "source": [
    "al_mm"
   ]
  },
  {
   "cell_type": "code",
   "execution_count": 32,
   "id": "1615dbda",
   "metadata": {
    "collapsed": true
   },
   "outputs": [
    {
     "data": {
      "text/plain": [
       "KMeans(n_clusters=11)"
      ]
     },
     "execution_count": 32,
     "metadata": {},
     "output_type": "execute_result"
    }
   ],
   "source": [
    "kmean_cluster = KMeans(n_clusters= 11)\n",
    "kmean_cluster.fit(al_mm)"
   ]
  },
  {
   "cell_type": "code",
   "execution_count": 37,
   "id": "fbb66498",
   "metadata": {
    "collapsed": true
   },
   "outputs": [
    {
     "data": {
      "text/plain": [
       "array([7, 7, 7, ..., 2, 1, 1])"
      ]
     },
     "execution_count": 37,
     "metadata": {},
     "output_type": "execute_result"
    }
   ],
   "source": [
    "kmean_cluster.labels_"
   ]
  },
  {
   "cell_type": "code",
   "execution_count": 43,
   "id": "e40112e0",
   "metadata": {},
   "outputs": [
    {
     "data": {
      "text/plain": [
       "(345, 11)"
      ]
     },
     "execution_count": 43,
     "metadata": {},
     "output_type": "execute_result"
    }
   ],
   "source": [
    "al_mm.iloc[kmean_cluster.labels_==0,:].shape"
   ]
  },
  {
   "cell_type": "code",
   "execution_count": null,
   "id": "2f734122",
   "metadata": {},
   "outputs": [],
   "source": []
  },
  {
   "cell_type": "code",
   "execution_count": null,
   "id": "fb67a2db",
   "metadata": {},
   "outputs": [],
   "source": []
  },
  {
   "cell_type": "code",
   "execution_count": null,
   "id": "fad2584c",
   "metadata": {},
   "outputs": [],
   "source": []
  },
  {
   "cell_type": "code",
   "execution_count": null,
   "id": "1a548488",
   "metadata": {},
   "outputs": [],
   "source": []
  },
  {
   "cell_type": "code",
   "execution_count": null,
   "id": "e708c67a",
   "metadata": {},
   "outputs": [],
   "source": []
  },
  {
   "cell_type": "code",
   "execution_count": null,
   "id": "2640e96f",
   "metadata": {},
   "outputs": [],
   "source": []
  }
 ],
 "metadata": {
  "kernelspec": {
   "display_name": "Python 3",
   "language": "python",
   "name": "python3"
  },
  "language_info": {
   "codemirror_mode": {
    "name": "ipython",
    "version": 3
   },
   "file_extension": ".py",
   "mimetype": "text/x-python",
   "name": "python",
   "nbconvert_exporter": "python",
   "pygments_lexer": "ipython3",
   "version": "3.8.8"
  }
 },
 "nbformat": 4,
 "nbformat_minor": 5
}
