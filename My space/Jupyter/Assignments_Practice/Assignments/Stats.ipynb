{
 "cells": [
  {
   "cell_type": "markdown",
   "metadata": {
    "id": "rWpNN8IMSFm_"
   },
   "source": [
    "# 1. Random Variable and Probability"
   ]
  },
  {
   "cell_type": "code",
   "execution_count": 2,
   "metadata": {
    "id": "0vDuo1QnSFnB"
   },
   "outputs": [],
   "source": [
    "from scipy import stats"
   ]
  },
  {
   "cell_type": "code",
   "execution_count": 3,
   "metadata": {
    "id": "g-IxvUMiSFnD",
    "outputId": "858d82ae-93e1-49d8-ad91-56c4a3bab6bf"
   },
   "outputs": [
    {
     "data": {
      "text/plain": [
       "0.14254260383881612"
      ]
     },
     "execution_count": 3,
     "metadata": {},
     "output_type": "execute_result"
    }
   ],
   "source": [
    "stats.norm.cdf(x = 680, loc = 711, scale = 29) # 14 % of students scored less than 680."
   ]
  },
  {
   "cell_type": "code",
   "execution_count": 4,
   "metadata": {
    "id": "6GUUG-nfSFnE",
    "outputId": "c7de1da2-49b4-4fe9-cf51-31dc94472339"
   },
   "outputs": [
    {
     "data": {
      "text/plain": [
       "0.5267111786415019"
      ]
     },
     "execution_count": 4,
     "metadata": {},
     "output_type": "execute_result"
    }
   ],
   "source": [
    "stats.norm.cdf(x = 740 , loc = 711, scale = 29) - stats.norm.cdf(x = 697, loc = 711, scale = 29) \n",
    "#53 % of the students scored between 697 and 740."
   ]
  },
  {
   "cell_type": "markdown",
   "metadata": {
    "id": "1pc-hl7mSFnE"
   },
   "source": [
    "# 2. Normal Distribution"
   ]
  },
  {
   "cell_type": "code",
   "execution_count": 5,
   "metadata": {
    "id": "-b8Mb8BvSFnE"
   },
   "outputs": [],
   "source": [
    "import pandas as pd"
   ]
  },
  {
   "cell_type": "code",
   "execution_count": 7,
   "metadata": {
    "id": "JHgoGvXmSFnF"
   },
   "outputs": [],
   "source": [
    "glaxo_data = pd.read_csv('D:/DS Files/DS Assingments/Excel Data Sheets/GLAXO.csv')\n",
    "beml_data = pd.read_csv('D:/DS Files/DS Assingments/Excel Data Sheets/BEML.csv')"
   ]
  },
  {
   "cell_type": "code",
   "execution_count": null,
   "metadata": {
    "id": "VZPXmPoZSFnF",
    "outputId": "a67aa8b5-bcf9-4772-b6d6-d045bc04dfec"
   },
   "outputs": [],
   "source": [
    "glaxo_data.head()"
   ]
  },
  {
   "cell_type": "code",
   "execution_count": null,
   "metadata": {
    "id": "59XcQ9ndSFnF",
    "outputId": "73f51394-e959-4d23-ec98-2ec453c0f084"
   },
   "outputs": [],
   "source": [
    "beml_data.head()"
   ]
  },
  {
   "cell_type": "code",
   "execution_count": null,
   "metadata": {
    "id": "rgiXXmNDSFnF",
    "outputId": "5ecaa5cc-a6a5-4507-b034-37b8128a32f7"
   },
   "outputs": [],
   "source": [
    "glaxo_data.shape"
   ]
  },
  {
   "cell_type": "code",
   "execution_count": null,
   "metadata": {
    "id": "zqd2yQzwSFnG",
    "outputId": "17d488eb-0833-4bc8-c2f6-4336ff510baa"
   },
   "outputs": [],
   "source": [
    "beml_data.shape"
   ]
  },
  {
   "cell_type": "code",
   "execution_count": 8,
   "metadata": {
    "id": "189_OrIiSFnG"
   },
   "outputs": [],
   "source": [
    "beml_data_daily_trade  = beml_data[['Date','Close']]\n",
    "glaxo_data_daily_trade = glaxo_data[['Date','Close']] "
   ]
  },
  {
   "cell_type": "code",
   "execution_count": null,
   "metadata": {
    "id": "YBfjjGf4SFnG",
    "outputId": "c2a55b7c-ae9f-4665-921d-427e97c31ed8"
   },
   "outputs": [],
   "source": [
    "beml_data_daily_trade.head(10)"
   ]
  },
  {
   "cell_type": "code",
   "execution_count": null,
   "metadata": {
    "id": "sNrEhz-MSFnG",
    "outputId": "9d319a07-8339-41c0-a6ac-d77bd2272ed3"
   },
   "outputs": [],
   "source": [
    "glaxo_data_daily_trade.head(10)"
   ]
  },
  {
   "cell_type": "code",
   "execution_count": null,
   "metadata": {
    "id": "bBNQxXISSFnG",
    "outputId": "d71e5437-8e38-4df2-f738-ebddd6f29452"
   },
   "outputs": [],
   "source": [
    "glaxo_data_daily_trade.dtypes"
   ]
  },
  {
   "cell_type": "code",
   "execution_count": null,
   "metadata": {
    "id": "JCCDB-1JSFnH",
    "outputId": "b528f3d7-a1ba-4fe3-d2d8-fc57cc97c81e"
   },
   "outputs": [],
   "source": [
    "beml_data_daily_trade.dtypes"
   ]
  },
  {
   "cell_type": "code",
   "execution_count": 9,
   "metadata": {
    "collapsed": true,
    "id": "-wq_Y01FSFnH"
   },
   "outputs": [
    {
     "name": "stderr",
     "output_type": "stream",
     "text": [
      "E:\\ANACONDA\\lib\\site-packages\\pandas\\core\\generic.py:5494: SettingWithCopyWarning: \n",
      "A value is trying to be set on a copy of a slice from a DataFrame.\n",
      "Try using .loc[row_indexer,col_indexer] = value instead\n",
      "\n",
      "See the caveats in the documentation: https://pandas.pydata.org/pandas-docs/stable/user_guide/indexing.html#returning-a-view-versus-a-copy\n",
      "  self[name] = value\n"
     ]
    }
   ],
   "source": [
    "glaxo_data_daily_trade.Date = pd.to_datetime(glaxo_data_daily_trade.Date)\n",
    "beml_data_daily_trade.Date  = pd.to_datetime(beml_data_daily_trade.Date)"
   ]
  },
  {
   "cell_type": "code",
   "execution_count": null,
   "metadata": {
    "id": "Iznxh9KNSFnH"
   },
   "outputs": [],
   "source": [
    "import warnings\n",
    "warnings.filterwarnings('ignore')"
   ]
  },
  {
   "cell_type": "code",
   "execution_count": null,
   "metadata": {
    "id": "RTkFHqumSFnH",
    "outputId": "8b0b427b-24d6-4d47-f5d3-235b95964d6b"
   },
   "outputs": [],
   "source": [
    "glaxo_data_daily_trade.dtypes"
   ]
  },
  {
   "cell_type": "code",
   "execution_count": null,
   "metadata": {
    "id": "shz4YT4tSFnH",
    "outputId": "060cf90e-79d4-4b28-eaa9-a7d0fa847a7f"
   },
   "outputs": [],
   "source": [
    "beml_data_daily_trade.dtypes"
   ]
  },
  {
   "cell_type": "markdown",
   "metadata": {
    "id": "0lP79US_SFnH"
   },
   "source": [
    "## Data Vizulaiztion for analysis"
   ]
  },
  {
   "cell_type": "code",
   "execution_count": null,
   "metadata": {
    "id": "5GKCGNZFSFnH",
    "outputId": "8b060191-5056-4fc2-d489-c0c1ac7653ad"
   },
   "outputs": [],
   "source": [
    "import matplotlib.pyplot as plt\n",
    "\n",
    "plt.figure(figsize = (15,6))\n",
    "plt.plot(glaxo_data_daily_trade.Date, glaxo_data_daily_trade.Close)\n",
    "plt.title('Glaxo daily return',size = 30)\n",
    "plt.xlabel('Year',size = 15)\n",
    "plt.ylabel('Close Price',size =15)"
   ]
  },
  {
   "cell_type": "code",
   "execution_count": null,
   "metadata": {
    "id": "xUlXO57iSFnI",
    "outputId": "b7834a6f-177b-46dc-f35b-cea4756c9e47"
   },
   "outputs": [],
   "source": [
    "plt.figure(figsize = (15,6))\n",
    "plt.plot(beml_data_daily_trade.Date, beml_data_daily_trade.Close)\n",
    "plt.title('BEML daily return',size = 30)\n",
    "plt.xlabel('Year',size = 15)\n",
    "plt.ylabel('Close Price',size =15)"
   ]
  },
  {
   "cell_type": "markdown",
   "metadata": {
    "id": "BdmW9ZBNSFnI"
   },
   "source": [
    "## Understanding Gain"
   ]
  },
  {
   "cell_type": "code",
   "execution_count": 11,
   "metadata": {
    "collapsed": true,
    "id": "la3yNzj-SFnI"
   },
   "outputs": [
    {
     "name": "stderr",
     "output_type": "stream",
     "text": [
      "<ipython-input-11-698ad75d9e8d>:1: SettingWithCopyWarning: \n",
      "A value is trying to be set on a copy of a slice from a DataFrame.\n",
      "Try using .loc[row_indexer,col_indexer] = value instead\n",
      "\n",
      "See the caveats in the documentation: https://pandas.pydata.org/pandas-docs/stable/user_guide/indexing.html#returning-a-view-versus-a-copy\n",
      "  beml_data_daily_trade['Gain'] = beml_data_daily_trade.Close.pct_change(periods=1)\n",
      "<ipython-input-11-698ad75d9e8d>:2: SettingWithCopyWarning: \n",
      "A value is trying to be set on a copy of a slice from a DataFrame.\n",
      "Try using .loc[row_indexer,col_indexer] = value instead\n",
      "\n",
      "See the caveats in the documentation: https://pandas.pydata.org/pandas-docs/stable/user_guide/indexing.html#returning-a-view-versus-a-copy\n",
      "  glaxo_data_daily_trade['Gain'] = glaxo_data_daily_trade.Close.pct_change(periods=1)\n"
     ]
    }
   ],
   "source": [
    "beml_data_daily_trade['Gain'] = beml_data_daily_trade.Close.pct_change(periods=1)\n",
    "glaxo_data_daily_trade['Gain'] = glaxo_data_daily_trade.Close.pct_change(periods=1)"
   ]
  },
  {
   "cell_type": "code",
   "execution_count": null,
   "metadata": {
    "id": "h9l0UZxWSFnJ",
    "outputId": "56cfb2e2-875e-41e3-aebe-bf597a0b9186"
   },
   "outputs": [],
   "source": [
    "beml_data_daily_trade.head(10)"
   ]
  },
  {
   "cell_type": "code",
   "execution_count": null,
   "metadata": {
    "id": "055DkF66SFnJ",
    "outputId": "63a0136a-bd7f-409d-ccea-5891c5f72614"
   },
   "outputs": [],
   "source": [
    "glaxo_data_daily_trade.head(10)"
   ]
  },
  {
   "cell_type": "code",
   "execution_count": null,
   "metadata": {
    "id": "-Mjq3DuaSFnJ",
    "outputId": "f23e8909-3a05-4e6d-fa6a-665456fe4562"
   },
   "outputs": [],
   "source": [
    "glaxo_data_daily_trade.dtypes"
   ]
  },
  {
   "cell_type": "markdown",
   "metadata": {
    "id": "jtZ6VGgfSFnJ"
   },
   "source": [
    "## Data Cleaning"
   ]
  },
  {
   "cell_type": "code",
   "execution_count": null,
   "metadata": {
    "id": "yxfsae6SSFnJ"
   },
   "outputs": [],
   "source": [
    "glaxo_data_daily_trade.dropna(inplace=True)\n",
    "beml_data_daily_trade.dropna(inplace = True)"
   ]
  },
  {
   "cell_type": "code",
   "execution_count": null,
   "metadata": {
    "id": "XwoIE66ySFnK",
    "outputId": "bd849abe-9a8a-4cae-9ed5-84c4d48e0fa4"
   },
   "outputs": [],
   "source": [
    "glaxo_data_daily_trade.head()"
   ]
  },
  {
   "cell_type": "code",
   "execution_count": null,
   "metadata": {
    "id": "HVY1S7xoSFnK",
    "outputId": "c9c61998-1c91-4123-83b1-aff4db17d0cc"
   },
   "outputs": [],
   "source": [
    "beml_data_daily_trade.head()"
   ]
  },
  {
   "cell_type": "markdown",
   "metadata": {
    "id": "5vBZxDMZSFnK"
   },
   "source": [
    "## Understanding Gain Vs Time"
   ]
  },
  {
   "cell_type": "code",
   "execution_count": null,
   "metadata": {
    "id": "wyj8gVHFSFnK",
    "outputId": "ecc984d1-611f-4cb8-ae47-4591d6976b4f"
   },
   "outputs": [],
   "source": [
    "plt.figure(figsize=(15,6))\n",
    "plt.title('GLAXO Trade', size=30)\n",
    "plt.plot(glaxo_data_daily_trade.Date,glaxo_data_daily_trade.Gain)\n",
    "plt.xlabel('Year',size=15)\n",
    "plt.ylabel('Gain',size=15)"
   ]
  },
  {
   "cell_type": "code",
   "execution_count": null,
   "metadata": {
    "id": "TapxVvppSFnK",
    "outputId": "32f3997c-bd00-46ec-a2df-e10e3cdca2d6"
   },
   "outputs": [],
   "source": [
    "plt.figure(figsize=(15,6))\n",
    "plt.title('BEML Trade', size=30)\n",
    "plt.plot(beml_data_daily_trade.Date,beml_data_daily_trade.Gain)\n",
    "plt.xlabel('Year',size=15)\n",
    "plt.ylabel('Gain',size=15)"
   ]
  },
  {
   "cell_type": "code",
   "execution_count": null,
   "metadata": {
    "id": "fgn_Fc6ISFnK",
    "outputId": "cc8fb6cb-841d-43dc-a291-9ddd93e64bd4"
   },
   "outputs": [],
   "source": [
    "import seaborn as sns\n",
    "sns.displot(data = beml_data_daily_trade,x='Gain')"
   ]
  },
  {
   "cell_type": "code",
   "execution_count": null,
   "metadata": {
    "id": "IoaGQ_5mSFnK",
    "outputId": "2da0a44e-16ec-48b1-f965-2ab13d633241"
   },
   "outputs": [],
   "source": [
    "sns.displot(data = glaxo_data_daily_trade,x='Gain')"
   ]
  },
  {
   "cell_type": "markdown",
   "metadata": {
    "id": "jLxwEKBZSFnL"
   },
   "source": [
    "## Finding out mean and std of BEML and GLAXO stocks for later analysis"
   ]
  },
  {
   "cell_type": "code",
   "execution_count": 12,
   "metadata": {
    "id": "FSkV742vSFnL",
    "outputId": "46822762-0dc0-4e97-b982-fa0eb400d541"
   },
   "outputs": [
    {
     "name": "stdout",
     "output_type": "stream",
     "text": [
      "Mean of Glaxo:  0.0004\n",
      "STD of Glaxo:  0.0134\n"
     ]
    }
   ],
   "source": [
    "print(\"Mean of Glaxo: \",round(glaxo_data_daily_trade.Gain.mean(),4))\n",
    "print(\"STD of Glaxo: \",round(glaxo_data_daily_trade.Gain.std(),4))"
   ]
  },
  {
   "cell_type": "code",
   "execution_count": 13,
   "metadata": {
    "id": "PA66DNceSFnL",
    "outputId": "4a1a9f3d-b0b3-4eb0-9478-9a922ade369a"
   },
   "outputs": [
    {
     "name": "stdout",
     "output_type": "stream",
     "text": [
      "Mean of BEML:  0.0003\n",
      "STD of BEML:  0.0264\n"
     ]
    }
   ],
   "source": [
    "print(\"Mean of BEML: \",round(beml_data_daily_trade.Gain.mean(),4))\n",
    "print(\"STD of BEML: \",round(beml_data_daily_trade.Gain.std(),4))"
   ]
  },
  {
   "cell_type": "markdown",
   "metadata": {
    "id": "FHjLoyMTSFnL"
   },
   "source": [
    "## Question to Raise before investing money on any stocks - GO PROACTIVE!!"
   ]
  },
  {
   "cell_type": "code",
   "execution_count": null,
   "metadata": {
    "id": "Lz-826OYSFnL",
    "outputId": "e77de51d-cc86-4c30-e3bd-c2e426d90075"
   },
   "outputs": [],
   "source": [
    "#Probability of making  2% loss or higher in Glaxo:\n",
    "stats.norm.cdf(x = -0.02, loc = 0.0004, scale = 0.0134)\n",
    "#There will 6% chance that you will loose 2% of your money."
   ]
  },
  {
   "cell_type": "code",
   "execution_count": 14,
   "metadata": {
    "id": "PMCvtEQJSFnL",
    "outputId": "27aa4e5c-1705-4925-b772-95bc765bbf99"
   },
   "outputs": [
    {
     "data": {
      "text/plain": [
       "0.22096464496279805"
      ]
     },
     "execution_count": 14,
     "metadata": {},
     "output_type": "execute_result"
    }
   ],
   "source": [
    "#Probability of making 2% loss or higher in BEML: \n",
    "stats.norm.cdf(x=-0.02,loc = 0.0003,scale=0.0264)\n",
    "#There will 22% chance that you will loose 2% of your money."
   ]
  },
  {
   "cell_type": "code",
   "execution_count": null,
   "metadata": {
    "id": "_DJoWhbRSFnL",
    "outputId": "afa52594-cb0d-46ce-a8a3-2b14b07f3483"
   },
   "outputs": [],
   "source": [
    "#Probability of making 2% gain or higher in Glaxo:\n",
    "1 - stats.norm.cdf(x = 0.02, loc = 0.0004, scale = 0.0134)\n",
    "#There will 7% chance that you will gain 2% of your money."
   ]
  },
  {
   "cell_type": "code",
   "execution_count": 15,
   "metadata": {
    "id": "pWb_gXh7SFnM",
    "outputId": "0a1e5ebd-0ed7-45e7-bfbb-71b76728613a"
   },
   "outputs": [
    {
     "data": {
      "text/plain": [
       "0.2277696435431158"
      ]
     },
     "execution_count": 15,
     "metadata": {},
     "output_type": "execute_result"
    }
   ],
   "source": [
    "#Probability of making 2% gain or higher in BEML:\n",
    "1 - stats.norm.cdf(x = 0.02, loc = 0.0003, scale = 0.0264)\n",
    "#There will 23% chance that you will gain 2% of your money."
   ]
  },
  {
   "cell_type": "markdown",
   "metadata": {
    "id": "QMf3ttVTSFnM"
   },
   "source": [
    "# THE END !!!!!"
   ]
  }
 ],
 "metadata": {
  "colab": {
   "name": "Stats.ipynb",
   "provenance": []
  },
  "kernelspec": {
   "display_name": "Python 3",
   "language": "python",
   "name": "python3"
  },
  "language_info": {
   "codemirror_mode": {
    "name": "ipython",
    "version": 3
   },
   "file_extension": ".py",
   "mimetype": "text/x-python",
   "name": "python",
   "nbconvert_exporter": "python",
   "pygments_lexer": "ipython3",
   "version": "3.8.8"
  }
 },
 "nbformat": 4,
 "nbformat_minor": 1
}
