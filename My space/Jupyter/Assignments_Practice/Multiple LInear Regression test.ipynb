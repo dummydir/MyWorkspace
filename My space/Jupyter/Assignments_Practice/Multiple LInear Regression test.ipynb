{
 "cells": [
  {
   "cell_type": "code",
   "execution_count": null,
   "id": "d6cc84ff",
   "metadata": {},
   "outputs": [],
   "source": [
    "import pandas as pd\n",
    "import matplotlib.pyplot as mp\n",
    "import statsmodels.formula.api as sfa\n",
    "import seaborn as sb\n",
    "from  statsmodels.graphics.regressionplots import influence_plot\n",
    "import numpy as np"
   ]
  },
  {
   "cell_type": "code",
   "execution_count": null,
   "id": "cd308499",
   "metadata": {},
   "outputs": [],
   "source": [
    "cars = pd.read_csv(\"D:/DS Files/DS Assingments/Excel Data Sheets/cars.csv\")"
   ]
  },
  {
   "cell_type": "code",
   "execution_count": null,
   "id": "6e4ad285",
   "metadata": {},
   "outputs": [],
   "source": [
    "cars"
   ]
  },
  {
   "cell_type": "code",
   "execution_count": null,
   "id": "ca6ab79f",
   "metadata": {},
   "outputs": [],
   "source": [
    "cars.info()"
   ]
  },
  {
   "cell_type": "code",
   "execution_count": null,
   "id": "589868cf",
   "metadata": {},
   "outputs": [],
   "source": [
    "cars.isna().sum()"
   ]
  },
  {
   "cell_type": "code",
   "execution_count": null,
   "id": "eabc640e",
   "metadata": {},
   "outputs": [],
   "source": [
    "cars.corr()"
   ]
  },
  {
   "cell_type": "code",
   "execution_count": null,
   "id": "0d2427f7",
   "metadata": {},
   "outputs": [],
   "source": [
    "sb.pairplot(cars)"
   ]
  },
  {
   "cell_type": "code",
   "execution_count": null,
   "id": "deacf646",
   "metadata": {},
   "outputs": [],
   "source": [
    "# BULIDING A MODEL\n",
    "import statsmodels.formula.api as sf\n",
    "model_1 = sf.ols('MPG~HP+VOL+SP+WT',data = cars).fit()\n",
    "model_1.summary()"
   ]
  },
  {
   "cell_type": "code",
   "execution_count": null,
   "id": "0f9a64e3",
   "metadata": {},
   "outputs": [],
   "source": [
    "model_1.params"
   ]
  },
  {
   "cell_type": "code",
   "execution_count": null,
   "id": "92466148",
   "metadata": {},
   "outputs": [],
   "source": [
    "#### (model_1.pvalues,\"\\n\" , model_1.tvalues)"
   ]
  },
  {
   "cell_type": "code",
   "execution_count": null,
   "id": "85df8792",
   "metadata": {},
   "outputs": [],
   "source": [
    "(model_1.rsquared,model_1.rsquared_adj)"
   ]
  },
  {
   "cell_type": "code",
   "execution_count": null,
   "id": "cb86afb8",
   "metadata": {},
   "outputs": [],
   "source": [
    "#simple linear regression \n",
    "mpg_vl = sf.ols('MPG~VOL',data = cars).fit()\n",
    "print(mpg_vl.pvalues,'\\n',mpg_vl.tvalues)"
   ]
  },
  {
   "cell_type": "code",
   "execution_count": null,
   "id": "f46cd463",
   "metadata": {},
   "outputs": [],
   "source": [
    "mpg_wt = sf.ols('MPG~WT',data = cars).fit()\n",
    "print(mpg_wt.pvalues,'\\n',mpg_wt.tvalues)"
   ]
  },
  {
   "cell_type": "code",
   "execution_count": null,
   "id": "e07ec06d",
   "metadata": {},
   "outputs": [],
   "source": [
    "mpg_vl_wt = sf.ols(\"MPG~VOL+WT\",data= cars).fit()\n",
    "print(mpg_vl_wt.pvalues,'\\n',mpg_vl_wt.tvalues)"
   ]
  },
  {
   "cell_type": "code",
   "execution_count": null,
   "id": "bb7abbd8",
   "metadata": {},
   "outputs": [],
   "source": [
    "cars.head()"
   ]
  },
  {
   "cell_type": "code",
   "execution_count": null,
   "id": "02703458",
   "metadata": {},
   "outputs": [],
   "source": [
    "r_hp = sf.ols(\"HP~WT+VOL+SP\",data = cars).fit().rsquared\n",
    "vif_hp = 1/(1-r_hp)\n",
    "vif_hp"
   ]
  },
  {
   "cell_type": "code",
   "execution_count": null,
   "id": "ecaac08b",
   "metadata": {},
   "outputs": [],
   "source": [
    "r_vol =sf.ols(\"VOL~HP+WT+SP\",data = cars).fit().rsquared\n",
    "vif_vl = 1/(1-r_vol)\n",
    "vif_vl"
   ]
  },
  {
   "cell_type": "code",
   "execution_count": null,
   "id": "c0fc2e48",
   "metadata": {},
   "outputs": [],
   "source": [
    "r_sp = sf.ols(\"SP~WT+VOL+HP\",data = cars).fit().rsquared\n",
    "vif_sp = 1/(1-r_sp)\n",
    "vif_sp"
   ]
  },
  {
   "cell_type": "code",
   "execution_count": null,
   "id": "c3e756da",
   "metadata": {},
   "outputs": [],
   "source": [
    "r_wt = sf.ols(\"WT~SP+VOL+HP\",data = cars).fit().rsquared\n",
    "vif_wt = 1/(1-r_wt)\n",
    "vif_wt"
   ]
  },
  {
   "cell_type": "code",
   "execution_count": null,
   "id": "6091236e",
   "metadata": {},
   "outputs": [],
   "source": [
    "#STORING VIF VALUES INTA A DATAFRAME\n",
    "id = {'ID':['hp','vol','sp','wt'],'VIF':[vif_hp,vif_vl,vif_sp,vif_wt]}\n",
    "id_1 = pd.DataFrame(id)\n",
    "id_1"
   ]
  },
  {
   "cell_type": "code",
   "execution_count": null,
   "id": "240e4795",
   "metadata": {},
   "outputs": [],
   "source": [
    "#ploting qq plot \n",
    "import statsmodels.api as sta\n",
    "qqplot = sta.qqplot(model_1.resid,line= 'q')\n",
    "mp.title('qq plot')\n",
    "mp.show()"
   ]
  },
  {
   "cell_type": "code",
   "execution_count": null,
   "id": "06c8a6bb",
   "metadata": {},
   "outputs": [],
   "source": [
    "list(np.where(model_1.resid>10))"
   ]
  },
  {
   "cell_type": "code",
   "execution_count": null,
   "id": "474b51bc",
   "metadata": {},
   "outputs": [],
   "source": []
  },
  {
   "cell_type": "code",
   "execution_count": null,
   "id": "94cb05b8",
   "metadata": {},
   "outputs": [],
   "source": []
  },
  {
   "cell_type": "code",
   "execution_count": null,
   "id": "b4aaadc9",
   "metadata": {},
   "outputs": [],
   "source": []
  },
  {
   "cell_type": "code",
   "execution_count": null,
   "id": "3b0964f6",
   "metadata": {},
   "outputs": [],
   "source": []
  },
  {
   "cell_type": "code",
   "execution_count": null,
   "id": "cc145e76",
   "metadata": {},
   "outputs": [],
   "source": []
  },
  {
   "cell_type": "code",
   "execution_count": null,
   "id": "89eb682f",
   "metadata": {},
   "outputs": [],
   "source": []
  },
  {
   "cell_type": "code",
   "execution_count": null,
   "id": "46fab523",
   "metadata": {},
   "outputs": [],
   "source": []
  },
  {
   "cell_type": "code",
   "execution_count": null,
   "id": "f8f86d6d",
   "metadata": {},
   "outputs": [],
   "source": []
  },
  {
   "cell_type": "code",
   "execution_count": null,
   "id": "51135d7c",
   "metadata": {},
   "outputs": [],
   "source": []
  },
  {
   "cell_type": "code",
   "execution_count": null,
   "id": "35e41aa5",
   "metadata": {},
   "outputs": [],
   "source": []
  },
  {
   "cell_type": "code",
   "execution_count": null,
   "id": "c2f029f4",
   "metadata": {},
   "outputs": [],
   "source": []
  },
  {
   "cell_type": "code",
   "execution_count": null,
   "id": "7ca313d1",
   "metadata": {},
   "outputs": [],
   "source": []
  },
  {
   "cell_type": "code",
   "execution_count": null,
   "id": "b3ad07f6",
   "metadata": {},
   "outputs": [],
   "source": []
  },
  {
   "cell_type": "code",
   "execution_count": null,
   "id": "15f8b745",
   "metadata": {},
   "outputs": [],
   "source": []
  },
  {
   "cell_type": "code",
   "execution_count": null,
   "id": "69864317",
   "metadata": {},
   "outputs": [],
   "source": []
  }
 ],
 "metadata": {
  "kernelspec": {
   "display_name": "Python 3",
   "language": "python",
   "name": "python3"
  },
  "language_info": {
   "codemirror_mode": {
    "name": "ipython",
    "version": 3
   },
   "file_extension": ".py",
   "mimetype": "text/x-python",
   "name": "python",
   "nbconvert_exporter": "python",
   "pygments_lexer": "ipython3",
   "version": "3.8.8"
  }
 },
 "nbformat": 4,
 "nbformat_minor": 5
}
