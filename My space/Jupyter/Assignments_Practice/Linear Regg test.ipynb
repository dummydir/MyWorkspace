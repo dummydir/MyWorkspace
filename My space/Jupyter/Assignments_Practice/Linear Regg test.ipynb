{
 "cells": [
  {
   "cell_type": "code",
   "execution_count": 1,
   "id": "a74f2698",
   "metadata": {},
   "outputs": [],
   "source": [
    "import pandas as pd\n",
    "import matplotlib.pyplot as pl\n"
   ]
  },
  {
   "cell_type": "code",
   "execution_count": 2,
   "id": "5da795be",
   "metadata": {},
   "outputs": [],
   "source": [
    "cd = pd.read_csv(\"D:/DS Files/DS Assingments/Excel Data Sheets/NewspaperData.csv\")"
   ]
  },
  {
   "cell_type": "code",
   "execution_count": 3,
   "id": "93f31e01",
   "metadata": {},
   "outputs": [],
   "source": [
    "#cd.head()"
   ]
  },
  {
   "cell_type": "code",
   "execution_count": 4,
   "id": "d0067266",
   "metadata": {},
   "outputs": [],
   "source": [
    "#cd.corr()"
   ]
  },
  {
   "cell_type": "code",
   "execution_count": 5,
   "id": "82d4bd76",
   "metadata": {},
   "outputs": [],
   "source": [
    "import seaborn as sn\n",
    "#sn.distplot(cd['daily'])"
   ]
  },
  {
   "cell_type": "code",
   "execution_count": 6,
   "id": "668a8889",
   "metadata": {},
   "outputs": [],
   "source": [
    "import statsmodels.formula.api as sm\n",
    "out = sm.ols('sunday~daily',data = cd).fit()"
   ]
  },
  {
   "cell_type": "code",
   "execution_count": 7,
   "id": "26cae767",
   "metadata": {
    "collapsed": true
   },
   "outputs": [
    {
     "data": {
      "text/plain": [
       "<AxesSubplot:xlabel='daily', ylabel='sunday'>"
      ]
     },
     "execution_count": 7,
     "metadata": {},
     "output_type": "execute_result"
    },
    {
     "data": {
      "image/png": "[encoded data removed]",
      "text/plain": [
       "<Figure size 432x288 with 1 Axes>"
      ]
     },
     "metadata": {
      "needs_background": "light"
     },
     "output_type": "display_data"
    }
   ],
   "source": [
    "sn.regplot(x='daily',y = 'sunday', data = cd)"
   ]
  },
  {
   "cell_type": "code",
   "execution_count": 8,
   "id": "4df45ea5",
   "metadata": {
    "collapsed": true
   },
   "outputs": [
    {
     "data": {
      "text/plain": [
       "Intercept    13.835630\n",
       "daily         1.339715\n",
       "dtype: float64"
      ]
     },
     "execution_count": 8,
     "metadata": {},
     "output_type": "execute_result"
    }
   ],
   "source": [
    "out.params"
   ]
  },
  {
   "cell_type": "code",
   "execution_count": 9,
   "id": "ec4ed793",
   "metadata": {
    "collapsed": true
   },
   "outputs": [
    {
     "name": "stdout",
     "output_type": "stream",
     "text": [
      "Intercept     0.386427\n",
      "daily        18.934840\n",
      "dtype: float64 \n",
      " Intercept    7.017382e-01\n",
      "daily        6.016802e-19\n",
      "dtype: float64\n"
     ]
    }
   ],
   "source": [
    "#checking p and t values\n",
    "print(out.tvalues, '\\n' , out.pvalues)"
   ]
  },
  {
   "cell_type": "code",
   "execution_count": 10,
   "id": "29b1c442",
   "metadata": {
    "collapsed": true
   },
   "outputs": [
    {
     "data": {
      "text/plain": [
       "(0.9180596895873295, 0.9154990548869336)"
      ]
     },
     "execution_count": 10,
     "metadata": {},
     "output_type": "execute_result"
    }
   ],
   "source": [
    "(out.rsquared,out.rsquared_adj)\n"
   ]
  },
  {
   "cell_type": "code",
   "execution_count": 15,
   "id": "ba0c4362",
   "metadata": {},
   "outputs": [],
   "source": [
    "# creating new data and dataframe\n",
    "\n",
    "new = pd.Series([200,300])"
   ]
  },
  {
   "cell_type": "code",
   "execution_count": 16,
   "id": "46a16782",
   "metadata": {},
   "outputs": [],
   "source": [
    "new1 = pd.DataFrame(new , columns=['daily'])"
   ]
  },
  {
   "cell_type": "code",
   "execution_count": 17,
   "id": "6084c302",
   "metadata": {},
   "outputs": [
    {
     "data": {
      "text/plain": [
       "0    281.778581\n",
       "1    415.750057\n",
       "dtype: float64"
      ]
     },
     "execution_count": 17,
     "metadata": {},
     "output_type": "execute_result"
    }
   ],
   "source": [
    "out.predict(new1)"
   ]
  },
  {
   "cell_type": "code",
   "execution_count": null,
   "id": "f1641733",
   "metadata": {},
   "outputs": [],
   "source": []
  },
  {
   "cell_type": "code",
   "execution_count": null,
   "id": "d36d089e",
   "metadata": {},
   "outputs": [],
   "source": []
  }
 ],
 "metadata": {
  "kernelspec": {
   "display_name": "Python 3",
   "language": "python",
   "name": "python3"
  },
  "language_info": {
   "codemirror_mode": {
    "name": "ipython",
    "version": 3
   },
   "file_extension": ".py",
   "mimetype": "text/x-python",
   "name": "python",
   "nbconvert_exporter": "python",
   "pygments_lexer": "ipython3",
   "version": "3.8.8"
  }
 },
 "nbformat": 4,
 "nbformat_minor": 5
}
