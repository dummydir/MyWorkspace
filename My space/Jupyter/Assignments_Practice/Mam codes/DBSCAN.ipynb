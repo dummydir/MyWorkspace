{
 "cells": [
  {
   "cell_type": "code",
   "execution_count": 2,
   "metadata": {
    "executionInfo": {
     "elapsed": 340,
     "status": "ok",
     "timestamp": 1623563276214,
     "user": {
      "displayName": "Jaspal Singh Jhass",
      "photoUrl": "",
      "userId": "14870781376371902378"
     },
     "user_tz": -330
    },
    "id": "MPGZLzk0zxos"
   },
   "outputs": [],
   "source": [
    "#Import the libraries\n",
    "from sklearn.cluster import DBSCAN\n",
    "from sklearn.preprocessing import StandardScaler\n",
    "import numpy as np\n",
    "import pandas as pd\n",
    "import matplotlib.pyplot as plt"
   ]
  },
  {
   "cell_type": "code",
   "execution_count": 3,
   "metadata": {
    "colab": {
     "base_uri": "https://localhost:8080/"
    },
    "collapsed": true,
    "executionInfo": {
     "elapsed": 2,
     "status": "ok",
     "timestamp": 1623563277729,
     "user": {
      "displayName": "Jaspal Singh Jhass",
      "photoUrl": "",
      "userId": "14870781376371902378"
     },
     "user_tz": -330
    },
    "id": "O9A2_57pzxoy",
    "outputId": "34a5989c-3acc-401f-f641-0b87df73af68"
   },
   "outputs": [
    {
     "name": "stdout",
     "output_type": "stream",
     "text": [
      "       Univ   SAT  Top10  Accept  SFRatio  Expenses  GradRate\n",
      "0     Brown  1310     89      22       13     22704        94\n",
      "1   CalTech  1415    100      25        6     63575        81\n",
      "2       CMU  1260     62      59        9     25026        72\n",
      "3  Columbia  1310     76      24       12     31510        88\n",
      "4   Cornell  1280     83      33       13     21864        90\n"
     ]
    }
   ],
   "source": [
    "# Import .csv file and convert it to a DataFrame object\n",
    "\n",
    "#df = pd.read_csv(\"Wholesale customers data.csv\");\n",
    "\n",
    "df = pd.read_csv(\"Universities.csv\");\n",
    "print(df.head())\n"
   ]
  },
  {
   "cell_type": "code",
   "execution_count": 4,
   "metadata": {
    "colab": {
     "base_uri": "https://localhost:8080/",
     "height": 303
    },
    "executionInfo": {
     "elapsed": 358,
     "status": "error",
     "timestamp": 1623563323125,
     "user": {
      "displayName": "Jaspal Singh Jhass",
      "photoUrl": "",
      "userId": "14870781376371902378"
     },
     "user_tz": -330
    },
    "id": "4A6AiCBTzxo-",
    "outputId": "121f3d37-575d-41d0-c93c-55a206f5712a"
   },
   "outputs": [],
   "source": [
    "#df.drop(['Channel','Region'],axis=1,inplace=True)\n",
    "df.drop(['Univ'],axis=1,inplace=True)"
   ]
  },
  {
   "cell_type": "code",
   "execution_count": 5,
   "metadata": {
    "executionInfo": {
     "elapsed": 337,
     "status": "ok",
     "timestamp": 1623563340244,
     "user": {
      "displayName": "Jaspal Singh Jhass",
      "photoUrl": "",
      "userId": "14870781376371902378"
     },
     "user_tz": -330
    },
    "id": "WAS-EzHDzxpC"
   },
   "outputs": [],
   "source": [
    "array = df.values"
   ]
  },
  {
   "cell_type": "code",
   "execution_count": 6,
   "metadata": {
    "colab": {
     "base_uri": "https://localhost:8080/"
    },
    "collapsed": true,
    "executionInfo": {
     "elapsed": 4,
     "status": "ok",
     "timestamp": 1623563343611,
     "user": {
      "displayName": "Jaspal Singh Jhass",
      "photoUrl": "",
      "userId": "14870781376371902378"
     },
     "user_tz": -330
    },
    "id": "Q0tGqAL1zxpI",
    "outputId": "0dac19d6-148d-41ff-939f-d17d0a7b5bdc"
   },
   "outputs": [
    {
     "data": {
      "text/plain": [
       "array([[ 1310,    89,    22,    13, 22704,    94],\n",
       "       [ 1415,   100,    25,     6, 63575,    81],\n",
       "       [ 1260,    62,    59,     9, 25026,    72],\n",
       "       [ 1310,    76,    24,    12, 31510,    88],\n",
       "       [ 1280,    83,    33,    13, 21864,    90],\n",
       "       [ 1340,    89,    23,    10, 32162,    95],\n",
       "       [ 1315,    90,    30,    12, 31585,    95],\n",
       "       [ 1255,    74,    24,    12, 20126,    92],\n",
       "       [ 1400,    91,    14,    11, 39525,    97],\n",
       "       [ 1305,    75,    44,     7, 58691,    87],\n",
       "       [ 1380,    94,    30,    10, 34870,    91],\n",
       "       [ 1260,    85,    39,    11, 28052,    89],\n",
       "       [ 1255,    81,    42,    13, 15122,    94],\n",
       "       [ 1081,    38,    54,    18, 10185,    80],\n",
       "       [ 1375,    91,    14,     8, 30220,    95],\n",
       "       [ 1005,    28,    90,    19,  9066,    69],\n",
       "       [ 1360,    90,    20,    12, 36450,    93],\n",
       "       [ 1075,    49,    67,    25,  8704,    67],\n",
       "       [ 1240,    95,    40,    17, 15140,    78],\n",
       "       [ 1290,    75,    50,    13, 38380,    87],\n",
       "       [ 1180,    65,    68,    16, 15470,    85],\n",
       "       [ 1285,    80,    36,    11, 27553,    90],\n",
       "       [ 1225,    77,    44,    14, 13349,    92],\n",
       "       [ 1085,    40,    69,    15, 11857,    71],\n",
       "       [ 1375,    95,    19,    11, 43514,    96]], dtype=int64)"
      ]
     },
     "execution_count": 6,
     "metadata": {},
     "output_type": "execute_result"
    }
   ],
   "source": [
    "array"
   ]
  },
  {
   "cell_type": "code",
   "execution_count": 17,
   "metadata": {
    "executionInfo": {
     "elapsed": 351,
     "status": "ok",
     "timestamp": 1623562747736,
     "user": {
      "displayName": "Jaspal Singh Jhass",
      "photoUrl": "",
      "userId": "14870781376371902378"
     },
     "user_tz": -330
    },
    "id": "LAqb5c8zzxpM"
   },
   "outputs": [],
   "source": [
    "stscaler = StandardScaler().fit(array)\n",
    "X = pd.DataFrame(stscaler.transform(array))"
   ]
  },
  {
   "cell_type": "code",
   "execution_count": 18,
   "metadata": {
    "colab": {
     "base_uri": "https://localhost:8080/"
    },
    "collapsed": true,
    "executionInfo": {
     "elapsed": 346,
     "status": "ok",
     "timestamp": 1623563405854,
     "user": {
      "displayName": "Jaspal Singh Jhass",
      "photoUrl": "",
      "userId": "14870781376371902378"
     },
     "user_tz": -330
    },
    "id": "m4oX4NN4zxpQ",
    "outputId": "f262b90d-758d-41c4-c834-7c41ab7e21a0"
   },
   "outputs": [
    {
     "data": {
      "text/html": [
       "<div>\n",
       "<style scoped>\n",
       "    .dataframe tbody tr th:only-of-type {\n",
       "        vertical-align: middle;\n",
       "    }\n",
       "\n",
       "    .dataframe tbody tr th {\n",
       "        vertical-align: top;\n",
       "    }\n",
       "\n",
       "    .dataframe thead th {\n",
       "        text-align: right;\n",
       "    }\n",
       "</style>\n",
       "<table border=\"1\" class=\"dataframe\">\n",
       "  <thead>\n",
       "    <tr style=\"text-align: right;\">\n",
       "      <th></th>\n",
       "      <th>0</th>\n",
       "      <th>1</th>\n",
       "      <th>2</th>\n",
       "      <th>3</th>\n",
       "      <th>4</th>\n",
       "      <th>5</th>\n",
       "    </tr>\n",
       "  </thead>\n",
       "  <tbody>\n",
       "    <tr>\n",
       "      <th>0</th>\n",
       "      <td>0.410284</td>\n",
       "      <td>0.657519</td>\n",
       "      <td>-0.889867</td>\n",
       "      <td>0.070260</td>\n",
       "      <td>-0.331413</td>\n",
       "      <td>0.820303</td>\n",
       "    </tr>\n",
       "    <tr>\n",
       "      <th>1</th>\n",
       "      <td>1.399259</td>\n",
       "      <td>1.235212</td>\n",
       "      <td>-0.734657</td>\n",
       "      <td>-1.686251</td>\n",
       "      <td>2.560381</td>\n",
       "      <td>-0.644524</td>\n",
       "    </tr>\n",
       "    <tr>\n",
       "      <th>2</th>\n",
       "      <td>-0.060657</td>\n",
       "      <td>-0.760454</td>\n",
       "      <td>1.024382</td>\n",
       "      <td>-0.933460</td>\n",
       "      <td>-0.167121</td>\n",
       "      <td>-1.658634</td>\n",
       "    </tr>\n",
       "    <tr>\n",
       "      <th>3</th>\n",
       "      <td>0.410284</td>\n",
       "      <td>-0.025208</td>\n",
       "      <td>-0.786394</td>\n",
       "      <td>-0.180670</td>\n",
       "      <td>0.291649</td>\n",
       "      <td>0.144229</td>\n",
       "    </tr>\n",
       "    <tr>\n",
       "      <th>4</th>\n",
       "      <td>0.127719</td>\n",
       "      <td>0.342414</td>\n",
       "      <td>-0.320766</td>\n",
       "      <td>0.070260</td>\n",
       "      <td>-0.390846</td>\n",
       "      <td>0.369587</td>\n",
       "    </tr>\n",
       "    <tr>\n",
       "      <th>5</th>\n",
       "      <td>0.692848</td>\n",
       "      <td>0.657519</td>\n",
       "      <td>-0.838130</td>\n",
       "      <td>-0.682530</td>\n",
       "      <td>0.337780</td>\n",
       "      <td>0.932982</td>\n",
       "    </tr>\n",
       "    <tr>\n",
       "      <th>6</th>\n",
       "      <td>0.457378</td>\n",
       "      <td>0.710037</td>\n",
       "      <td>-0.475975</td>\n",
       "      <td>-0.180670</td>\n",
       "      <td>0.296955</td>\n",
       "      <td>0.932982</td>\n",
       "    </tr>\n",
       "    <tr>\n",
       "      <th>7</th>\n",
       "      <td>-0.107751</td>\n",
       "      <td>-0.130243</td>\n",
       "      <td>-0.786394</td>\n",
       "      <td>-0.180670</td>\n",
       "      <td>-0.513817</td>\n",
       "      <td>0.594945</td>\n",
       "    </tr>\n",
       "    <tr>\n",
       "      <th>8</th>\n",
       "      <td>1.257977</td>\n",
       "      <td>0.762555</td>\n",
       "      <td>-1.303758</td>\n",
       "      <td>-0.431600</td>\n",
       "      <td>0.858743</td>\n",
       "      <td>1.158339</td>\n",
       "    </tr>\n",
       "    <tr>\n",
       "      <th>9</th>\n",
       "      <td>0.363190</td>\n",
       "      <td>-0.077726</td>\n",
       "      <td>0.248335</td>\n",
       "      <td>-1.435321</td>\n",
       "      <td>2.214818</td>\n",
       "      <td>0.031550</td>\n",
       "    </tr>\n",
       "    <tr>\n",
       "      <th>10</th>\n",
       "      <td>1.069601</td>\n",
       "      <td>0.920107</td>\n",
       "      <td>-0.475975</td>\n",
       "      <td>-0.682530</td>\n",
       "      <td>0.529383</td>\n",
       "      <td>0.482266</td>\n",
       "    </tr>\n",
       "    <tr>\n",
       "      <th>11</th>\n",
       "      <td>-0.060657</td>\n",
       "      <td>0.447449</td>\n",
       "      <td>-0.010347</td>\n",
       "      <td>-0.431600</td>\n",
       "      <td>0.046981</td>\n",
       "      <td>0.256908</td>\n",
       "    </tr>\n",
       "    <tr>\n",
       "      <th>12</th>\n",
       "      <td>-0.107751</td>\n",
       "      <td>0.237379</td>\n",
       "      <td>0.144862</td>\n",
       "      <td>0.070260</td>\n",
       "      <td>-0.867871</td>\n",
       "      <td>0.820303</td>\n",
       "    </tr>\n",
       "    <tr>\n",
       "      <th>13</th>\n",
       "      <td>-1.746625</td>\n",
       "      <td>-2.020875</td>\n",
       "      <td>0.765699</td>\n",
       "      <td>1.324911</td>\n",
       "      <td>-1.217184</td>\n",
       "      <td>-0.757202</td>\n",
       "    </tr>\n",
       "    <tr>\n",
       "      <th>14</th>\n",
       "      <td>1.022507</td>\n",
       "      <td>0.762555</td>\n",
       "      <td>-1.303758</td>\n",
       "      <td>-1.184390</td>\n",
       "      <td>0.200376</td>\n",
       "      <td>0.932982</td>\n",
       "    </tr>\n",
       "    <tr>\n",
       "      <th>15</th>\n",
       "      <td>-2.462455</td>\n",
       "      <td>-2.546050</td>\n",
       "      <td>2.628211</td>\n",
       "      <td>1.575841</td>\n",
       "      <td>-1.296358</td>\n",
       "      <td>-1.996671</td>\n",
       "    </tr>\n",
       "    <tr>\n",
       "      <th>16</th>\n",
       "      <td>0.881224</td>\n",
       "      <td>0.710037</td>\n",
       "      <td>-0.993340</td>\n",
       "      <td>-0.180670</td>\n",
       "      <td>0.641174</td>\n",
       "      <td>0.707624</td>\n",
       "    </tr>\n",
       "    <tr>\n",
       "      <th>17</th>\n",
       "      <td>-1.803138</td>\n",
       "      <td>-1.443182</td>\n",
       "      <td>1.438273</td>\n",
       "      <td>3.081422</td>\n",
       "      <td>-1.321971</td>\n",
       "      <td>-2.222029</td>\n",
       "    </tr>\n",
       "    <tr>\n",
       "      <th>18</th>\n",
       "      <td>-0.249033</td>\n",
       "      <td>0.972625</td>\n",
       "      <td>0.041389</td>\n",
       "      <td>1.073981</td>\n",
       "      <td>-0.866597</td>\n",
       "      <td>-0.982560</td>\n",
       "    </tr>\n",
       "    <tr>\n",
       "      <th>19</th>\n",
       "      <td>0.221907</td>\n",
       "      <td>-0.077726</td>\n",
       "      <td>0.558754</td>\n",
       "      <td>0.070260</td>\n",
       "      <td>0.777730</td>\n",
       "      <td>0.031550</td>\n",
       "    </tr>\n",
       "    <tr>\n",
       "      <th>20</th>\n",
       "      <td>-0.814162</td>\n",
       "      <td>-0.602901</td>\n",
       "      <td>1.490010</td>\n",
       "      <td>0.823051</td>\n",
       "      <td>-0.843248</td>\n",
       "      <td>-0.193808</td>\n",
       "    </tr>\n",
       "    <tr>\n",
       "      <th>21</th>\n",
       "      <td>0.174813</td>\n",
       "      <td>0.184862</td>\n",
       "      <td>-0.165557</td>\n",
       "      <td>-0.431600</td>\n",
       "      <td>0.011674</td>\n",
       "      <td>0.369587</td>\n",
       "    </tr>\n",
       "    <tr>\n",
       "      <th>22</th>\n",
       "      <td>-0.390316</td>\n",
       "      <td>0.027309</td>\n",
       "      <td>0.248335</td>\n",
       "      <td>0.321191</td>\n",
       "      <td>-0.993318</td>\n",
       "      <td>0.594945</td>\n",
       "    </tr>\n",
       "    <tr>\n",
       "      <th>23</th>\n",
       "      <td>-1.708950</td>\n",
       "      <td>-1.915840</td>\n",
       "      <td>1.541746</td>\n",
       "      <td>0.572121</td>\n",
       "      <td>-1.098883</td>\n",
       "      <td>-1.771313</td>\n",
       "    </tr>\n",
       "    <tr>\n",
       "      <th>24</th>\n",
       "      <td>1.022507</td>\n",
       "      <td>0.972625</td>\n",
       "      <td>-1.045076</td>\n",
       "      <td>-0.431600</td>\n",
       "      <td>1.140982</td>\n",
       "      <td>1.045661</td>\n",
       "    </tr>\n",
       "  </tbody>\n",
       "</table>\n",
       "</div>"
      ],
      "text/plain": [
       "           0         1         2         3         4         5\n",
       "0   0.410284  0.657519 -0.889867  0.070260 -0.331413  0.820303\n",
       "1   1.399259  1.235212 -0.734657 -1.686251  2.560381 -0.644524\n",
       "2  -0.060657 -0.760454  1.024382 -0.933460 -0.167121 -1.658634\n",
       "3   0.410284 -0.025208 -0.786394 -0.180670  0.291649  0.144229\n",
       "4   0.127719  0.342414 -0.320766  0.070260 -0.390846  0.369587\n",
       "5   0.692848  0.657519 -0.838130 -0.682530  0.337780  0.932982\n",
       "6   0.457378  0.710037 -0.475975 -0.180670  0.296955  0.932982\n",
       "7  -0.107751 -0.130243 -0.786394 -0.180670 -0.513817  0.594945\n",
       "8   1.257977  0.762555 -1.303758 -0.431600  0.858743  1.158339\n",
       "9   0.363190 -0.077726  0.248335 -1.435321  2.214818  0.031550\n",
       "10  1.069601  0.920107 -0.475975 -0.682530  0.529383  0.482266\n",
       "11 -0.060657  0.447449 -0.010347 -0.431600  0.046981  0.256908\n",
       "12 -0.107751  0.237379  0.144862  0.070260 -0.867871  0.820303\n",
       "13 -1.746625 -2.020875  0.765699  1.324911 -1.217184 -0.757202\n",
       "14  1.022507  0.762555 -1.303758 -1.184390  0.200376  0.932982\n",
       "15 -2.462455 -2.546050  2.628211  1.575841 -1.296358 -1.996671\n",
       "16  0.881224  0.710037 -0.993340 -0.180670  0.641174  0.707624\n",
       "17 -1.803138 -1.443182  1.438273  3.081422 -1.321971 -2.222029\n",
       "18 -0.249033  0.972625  0.041389  1.073981 -0.866597 -0.982560\n",
       "19  0.221907 -0.077726  0.558754  0.070260  0.777730  0.031550\n",
       "20 -0.814162 -0.602901  1.490010  0.823051 -0.843248 -0.193808\n",
       "21  0.174813  0.184862 -0.165557 -0.431600  0.011674  0.369587\n",
       "22 -0.390316  0.027309  0.248335  0.321191 -0.993318  0.594945\n",
       "23 -1.708950 -1.915840  1.541746  0.572121 -1.098883 -1.771313\n",
       "24  1.022507  0.972625 -1.045076 -0.431600  1.140982  1.045661"
      ]
     },
     "execution_count": 18,
     "metadata": {},
     "output_type": "execute_result"
    }
   ],
   "source": [
    "X"
   ]
  },
  {
   "cell_type": "code",
   "execution_count": 19,
   "metadata": {
    "colab": {
     "base_uri": "https://localhost:8080/"
    },
    "collapsed": true,
    "executionInfo": {
     "elapsed": 337,
     "status": "ok",
     "timestamp": 1623563489063,
     "user": {
      "displayName": "Jaspal Singh Jhass",
      "photoUrl": "",
      "userId": "14870781376371902378"
     },
     "user_tz": -330
    },
    "id": "brIqboCxzxpb",
    "outputId": "9ae4edb6-f0c5-4796-e8fc-c582d7480378"
   },
   "outputs": [
    {
     "data": {
      "text/plain": [
       "DBSCAN(eps=0.875, min_samples=6)"
      ]
     },
     "execution_count": 19,
     "metadata": {},
     "output_type": "execute_result"
    }
   ],
   "source": [
    "dbscan = DBSCAN(eps=0.875, min_samples=6)\n",
    "dbscan.fit(X)"
   ]
  },
  {
   "cell_type": "code",
   "execution_count": 20,
   "metadata": {
    "colab": {
     "base_uri": "https://localhost:8080/"
    },
    "collapsed": true,
    "executionInfo": {
     "elapsed": 582,
     "status": "ok",
     "timestamp": 1623563492102,
     "user": {
      "displayName": "Jaspal Singh Jhass",
      "photoUrl": "",
      "userId": "14870781376371902378"
     },
     "user_tz": -330
    },
    "id": "je4DF4YEzxph",
    "outputId": "7a9117be-c96f-4c52-bc8c-7547a599fad3"
   },
   "outputs": [
    {
     "data": {
      "text/plain": [
       "{-1, 0, 1}"
      ]
     },
     "execution_count": 20,
     "metadata": {},
     "output_type": "execute_result"
    }
   ],
   "source": [
    "#Noisy samples are given the label -1.\n",
    "set(dbscan.labels_)"
   ]
  },
  {
   "cell_type": "code",
   "execution_count": 34,
   "metadata": {
    "executionInfo": {
     "elapsed": 354,
     "status": "ok",
     "timestamp": 1623563537452,
     "user": {
      "displayName": "Jaspal Singh Jhass",
      "photoUrl": "",
      "userId": "14870781376371902378"
     },
     "user_tz": -330
    },
    "id": "gswh4Xkgzxpl"
   },
   "outputs": [],
   "source": [
    "cl=pd.DataFrame(dbscan.labels_,columns=['cluster'])"
   ]
  },
  {
   "cell_type": "code",
   "execution_count": 35,
   "metadata": {
    "colab": {
     "base_uri": "https://localhost:8080/",
     "height": 417
    },
    "collapsed": true,
    "executionInfo": {
     "elapsed": 11,
     "status": "ok",
     "timestamp": 1623563538804,
     "user": {
      "displayName": "Jaspal Singh Jhass",
      "photoUrl": "",
      "userId": "14870781376371902378"
     },
     "user_tz": -330
    },
    "id": "j4ywliEvzxpp",
    "outputId": "e38ac645-0a89-423e-8b5f-4e3fffccc0bf"
   },
   "outputs": [
    {
     "data": {
      "text/html": [
       "<div>\n",
       "<style scoped>\n",
       "    .dataframe tbody tr th:only-of-type {\n",
       "        vertical-align: middle;\n",
       "    }\n",
       "\n",
       "    .dataframe tbody tr th {\n",
       "        vertical-align: top;\n",
       "    }\n",
       "\n",
       "    .dataframe thead th {\n",
       "        text-align: right;\n",
       "    }\n",
       "</style>\n",
       "<table border=\"1\" class=\"dataframe\">\n",
       "  <thead>\n",
       "    <tr style=\"text-align: right;\">\n",
       "      <th></th>\n",
       "      <th>cluster</th>\n",
       "    </tr>\n",
       "  </thead>\n",
       "  <tbody>\n",
       "    <tr>\n",
       "      <th>0</th>\n",
       "      <td>0</td>\n",
       "    </tr>\n",
       "    <tr>\n",
       "      <th>1</th>\n",
       "      <td>-1</td>\n",
       "    </tr>\n",
       "    <tr>\n",
       "      <th>2</th>\n",
       "      <td>-1</td>\n",
       "    </tr>\n",
       "    <tr>\n",
       "      <th>3</th>\n",
       "      <td>-1</td>\n",
       "    </tr>\n",
       "    <tr>\n",
       "      <th>4</th>\n",
       "      <td>0</td>\n",
       "    </tr>\n",
       "    <tr>\n",
       "      <th>5</th>\n",
       "      <td>1</td>\n",
       "    </tr>\n",
       "    <tr>\n",
       "      <th>6</th>\n",
       "      <td>1</td>\n",
       "    </tr>\n",
       "    <tr>\n",
       "      <th>7</th>\n",
       "      <td>0</td>\n",
       "    </tr>\n",
       "    <tr>\n",
       "      <th>8</th>\n",
       "      <td>1</td>\n",
       "    </tr>\n",
       "    <tr>\n",
       "      <th>9</th>\n",
       "      <td>-1</td>\n",
       "    </tr>\n",
       "    <tr>\n",
       "      <th>10</th>\n",
       "      <td>1</td>\n",
       "    </tr>\n",
       "    <tr>\n",
       "      <th>11</th>\n",
       "      <td>0</td>\n",
       "    </tr>\n",
       "    <tr>\n",
       "      <th>12</th>\n",
       "      <td>0</td>\n",
       "    </tr>\n",
       "    <tr>\n",
       "      <th>13</th>\n",
       "      <td>-1</td>\n",
       "    </tr>\n",
       "    <tr>\n",
       "      <th>14</th>\n",
       "      <td>-1</td>\n",
       "    </tr>\n",
       "    <tr>\n",
       "      <th>15</th>\n",
       "      <td>-1</td>\n",
       "    </tr>\n",
       "    <tr>\n",
       "      <th>16</th>\n",
       "      <td>1</td>\n",
       "    </tr>\n",
       "    <tr>\n",
       "      <th>17</th>\n",
       "      <td>-1</td>\n",
       "    </tr>\n",
       "    <tr>\n",
       "      <th>18</th>\n",
       "      <td>-1</td>\n",
       "    </tr>\n",
       "    <tr>\n",
       "      <th>19</th>\n",
       "      <td>-1</td>\n",
       "    </tr>\n",
       "    <tr>\n",
       "      <th>20</th>\n",
       "      <td>-1</td>\n",
       "    </tr>\n",
       "    <tr>\n",
       "      <th>21</th>\n",
       "      <td>0</td>\n",
       "    </tr>\n",
       "    <tr>\n",
       "      <th>22</th>\n",
       "      <td>-1</td>\n",
       "    </tr>\n",
       "    <tr>\n",
       "      <th>23</th>\n",
       "      <td>-1</td>\n",
       "    </tr>\n",
       "    <tr>\n",
       "      <th>24</th>\n",
       "      <td>1</td>\n",
       "    </tr>\n",
       "  </tbody>\n",
       "</table>\n",
       "</div>"
      ],
      "text/plain": [
       "    cluster\n",
       "0         0\n",
       "1        -1\n",
       "2        -1\n",
       "3        -1\n",
       "4         0\n",
       "5         1\n",
       "6         1\n",
       "7         0\n",
       "8         1\n",
       "9        -1\n",
       "10        1\n",
       "11        0\n",
       "12        0\n",
       "13       -1\n",
       "14       -1\n",
       "15       -1\n",
       "16        1\n",
       "17       -1\n",
       "18       -1\n",
       "19       -1\n",
       "20       -1\n",
       "21        0\n",
       "22       -1\n",
       "23       -1\n",
       "24        1"
      ]
     },
     "execution_count": 35,
     "metadata": {},
     "output_type": "execute_result"
    }
   ],
   "source": [
    "cl"
   ]
  },
  {
   "cell_type": "code",
   "execution_count": 36,
   "metadata": {
    "executionInfo": {
     "elapsed": 4,
     "status": "ok",
     "timestamp": 1623563167389,
     "user": {
      "displayName": "Jaspal Singh Jhass",
      "photoUrl": "",
      "userId": "14870781376371902378"
     },
     "user_tz": -330
    },
    "id": "gstUNSmTzxpu"
   },
   "outputs": [],
   "source": [
    "clustered = pd.concat([df,cl],axis=1)"
   ]
  },
  {
   "cell_type": "code",
   "execution_count": 37,
   "metadata": {
    "colab": {
     "base_uri": "https://localhost:8080/"
    },
    "collapsed": true,
    "executionInfo": {
     "elapsed": 349,
     "status": "ok",
     "timestamp": 1623564165235,
     "user": {
      "displayName": "Jaspal Singh Jhass",
      "photoUrl": "",
      "userId": "14870781376371902378"
     },
     "user_tz": -330
    },
    "id": "im1qAUYx5I2X",
    "outputId": "02a18e67-dee9-4397-c882-eb5d1859dae3"
   },
   "outputs": [
    {
     "data": {
      "text/plain": [
       "SAT          1274.166667\n",
       "Top10          82.000000\n",
       "Accept         32.666667\n",
       "SFRatio        12.166667\n",
       "Expenses    22570.166667\n",
       "GradRate       91.500000\n",
       "cluster         0.000000\n",
       "dtype: float64"
      ]
     },
     "execution_count": 37,
     "metadata": {},
     "output_type": "execute_result"
    }
   ],
   "source": [
    "clustered[clustered['cluster']==0].mean()"
   ]
  },
  {
   "cell_type": "code",
   "execution_count": 38,
   "metadata": {
    "colab": {
     "base_uri": "https://localhost:8080/",
     "height": 417
    },
    "collapsed": true,
    "executionInfo": {
     "elapsed": 366,
     "status": "ok",
     "timestamp": 1623564139638,
     "user": {
      "displayName": "Jaspal Singh Jhass",
      "photoUrl": "",
      "userId": "14870781376371902378"
     },
     "user_tz": -330
    },
    "id": "wV64isMO9rF0",
    "outputId": "ddb00501-0881-46c6-dba9-b34eb87a38bf"
   },
   "outputs": [
    {
     "data": {
      "text/html": [
       "<div>\n",
       "<style scoped>\n",
       "    .dataframe tbody tr th:only-of-type {\n",
       "        vertical-align: middle;\n",
       "    }\n",
       "\n",
       "    .dataframe tbody tr th {\n",
       "        vertical-align: top;\n",
       "    }\n",
       "\n",
       "    .dataframe thead th {\n",
       "        text-align: right;\n",
       "    }\n",
       "</style>\n",
       "<table border=\"1\" class=\"dataframe\">\n",
       "  <thead>\n",
       "    <tr style=\"text-align: right;\">\n",
       "      <th></th>\n",
       "      <th>SAT</th>\n",
       "      <th>Top10</th>\n",
       "      <th>Accept</th>\n",
       "      <th>SFRatio</th>\n",
       "      <th>Expenses</th>\n",
       "      <th>GradRate</th>\n",
       "      <th>cluster</th>\n",
       "    </tr>\n",
       "  </thead>\n",
       "  <tbody>\n",
       "    <tr>\n",
       "      <th>0</th>\n",
       "      <td>1310</td>\n",
       "      <td>89</td>\n",
       "      <td>22</td>\n",
       "      <td>13</td>\n",
       "      <td>22704</td>\n",
       "      <td>94</td>\n",
       "      <td>0</td>\n",
       "    </tr>\n",
       "    <tr>\n",
       "      <th>1</th>\n",
       "      <td>1415</td>\n",
       "      <td>100</td>\n",
       "      <td>25</td>\n",
       "      <td>6</td>\n",
       "      <td>63575</td>\n",
       "      <td>81</td>\n",
       "      <td>-1</td>\n",
       "    </tr>\n",
       "    <tr>\n",
       "      <th>2</th>\n",
       "      <td>1260</td>\n",
       "      <td>62</td>\n",
       "      <td>59</td>\n",
       "      <td>9</td>\n",
       "      <td>25026</td>\n",
       "      <td>72</td>\n",
       "      <td>-1</td>\n",
       "    </tr>\n",
       "    <tr>\n",
       "      <th>3</th>\n",
       "      <td>1310</td>\n",
       "      <td>76</td>\n",
       "      <td>24</td>\n",
       "      <td>12</td>\n",
       "      <td>31510</td>\n",
       "      <td>88</td>\n",
       "      <td>-1</td>\n",
       "    </tr>\n",
       "    <tr>\n",
       "      <th>4</th>\n",
       "      <td>1280</td>\n",
       "      <td>83</td>\n",
       "      <td>33</td>\n",
       "      <td>13</td>\n",
       "      <td>21864</td>\n",
       "      <td>90</td>\n",
       "      <td>0</td>\n",
       "    </tr>\n",
       "    <tr>\n",
       "      <th>5</th>\n",
       "      <td>1340</td>\n",
       "      <td>89</td>\n",
       "      <td>23</td>\n",
       "      <td>10</td>\n",
       "      <td>32162</td>\n",
       "      <td>95</td>\n",
       "      <td>1</td>\n",
       "    </tr>\n",
       "    <tr>\n",
       "      <th>6</th>\n",
       "      <td>1315</td>\n",
       "      <td>90</td>\n",
       "      <td>30</td>\n",
       "      <td>12</td>\n",
       "      <td>31585</td>\n",
       "      <td>95</td>\n",
       "      <td>1</td>\n",
       "    </tr>\n",
       "    <tr>\n",
       "      <th>7</th>\n",
       "      <td>1255</td>\n",
       "      <td>74</td>\n",
       "      <td>24</td>\n",
       "      <td>12</td>\n",
       "      <td>20126</td>\n",
       "      <td>92</td>\n",
       "      <td>0</td>\n",
       "    </tr>\n",
       "    <tr>\n",
       "      <th>8</th>\n",
       "      <td>1400</td>\n",
       "      <td>91</td>\n",
       "      <td>14</td>\n",
       "      <td>11</td>\n",
       "      <td>39525</td>\n",
       "      <td>97</td>\n",
       "      <td>1</td>\n",
       "    </tr>\n",
       "    <tr>\n",
       "      <th>9</th>\n",
       "      <td>1305</td>\n",
       "      <td>75</td>\n",
       "      <td>44</td>\n",
       "      <td>7</td>\n",
       "      <td>58691</td>\n",
       "      <td>87</td>\n",
       "      <td>-1</td>\n",
       "    </tr>\n",
       "    <tr>\n",
       "      <th>10</th>\n",
       "      <td>1380</td>\n",
       "      <td>94</td>\n",
       "      <td>30</td>\n",
       "      <td>10</td>\n",
       "      <td>34870</td>\n",
       "      <td>91</td>\n",
       "      <td>1</td>\n",
       "    </tr>\n",
       "    <tr>\n",
       "      <th>11</th>\n",
       "      <td>1260</td>\n",
       "      <td>85</td>\n",
       "      <td>39</td>\n",
       "      <td>11</td>\n",
       "      <td>28052</td>\n",
       "      <td>89</td>\n",
       "      <td>0</td>\n",
       "    </tr>\n",
       "    <tr>\n",
       "      <th>12</th>\n",
       "      <td>1255</td>\n",
       "      <td>81</td>\n",
       "      <td>42</td>\n",
       "      <td>13</td>\n",
       "      <td>15122</td>\n",
       "      <td>94</td>\n",
       "      <td>0</td>\n",
       "    </tr>\n",
       "    <tr>\n",
       "      <th>13</th>\n",
       "      <td>1081</td>\n",
       "      <td>38</td>\n",
       "      <td>54</td>\n",
       "      <td>18</td>\n",
       "      <td>10185</td>\n",
       "      <td>80</td>\n",
       "      <td>-1</td>\n",
       "    </tr>\n",
       "    <tr>\n",
       "      <th>14</th>\n",
       "      <td>1375</td>\n",
       "      <td>91</td>\n",
       "      <td>14</td>\n",
       "      <td>8</td>\n",
       "      <td>30220</td>\n",
       "      <td>95</td>\n",
       "      <td>-1</td>\n",
       "    </tr>\n",
       "    <tr>\n",
       "      <th>15</th>\n",
       "      <td>1005</td>\n",
       "      <td>28</td>\n",
       "      <td>90</td>\n",
       "      <td>19</td>\n",
       "      <td>9066</td>\n",
       "      <td>69</td>\n",
       "      <td>-1</td>\n",
       "    </tr>\n",
       "    <tr>\n",
       "      <th>16</th>\n",
       "      <td>1360</td>\n",
       "      <td>90</td>\n",
       "      <td>20</td>\n",
       "      <td>12</td>\n",
       "      <td>36450</td>\n",
       "      <td>93</td>\n",
       "      <td>1</td>\n",
       "    </tr>\n",
       "    <tr>\n",
       "      <th>17</th>\n",
       "      <td>1075</td>\n",
       "      <td>49</td>\n",
       "      <td>67</td>\n",
       "      <td>25</td>\n",
       "      <td>8704</td>\n",
       "      <td>67</td>\n",
       "      <td>-1</td>\n",
       "    </tr>\n",
       "    <tr>\n",
       "      <th>18</th>\n",
       "      <td>1240</td>\n",
       "      <td>95</td>\n",
       "      <td>40</td>\n",
       "      <td>17</td>\n",
       "      <td>15140</td>\n",
       "      <td>78</td>\n",
       "      <td>-1</td>\n",
       "    </tr>\n",
       "    <tr>\n",
       "      <th>19</th>\n",
       "      <td>1290</td>\n",
       "      <td>75</td>\n",
       "      <td>50</td>\n",
       "      <td>13</td>\n",
       "      <td>38380</td>\n",
       "      <td>87</td>\n",
       "      <td>-1</td>\n",
       "    </tr>\n",
       "    <tr>\n",
       "      <th>20</th>\n",
       "      <td>1180</td>\n",
       "      <td>65</td>\n",
       "      <td>68</td>\n",
       "      <td>16</td>\n",
       "      <td>15470</td>\n",
       "      <td>85</td>\n",
       "      <td>-1</td>\n",
       "    </tr>\n",
       "    <tr>\n",
       "      <th>21</th>\n",
       "      <td>1285</td>\n",
       "      <td>80</td>\n",
       "      <td>36</td>\n",
       "      <td>11</td>\n",
       "      <td>27553</td>\n",
       "      <td>90</td>\n",
       "      <td>0</td>\n",
       "    </tr>\n",
       "    <tr>\n",
       "      <th>22</th>\n",
       "      <td>1225</td>\n",
       "      <td>77</td>\n",
       "      <td>44</td>\n",
       "      <td>14</td>\n",
       "      <td>13349</td>\n",
       "      <td>92</td>\n",
       "      <td>-1</td>\n",
       "    </tr>\n",
       "    <tr>\n",
       "      <th>23</th>\n",
       "      <td>1085</td>\n",
       "      <td>40</td>\n",
       "      <td>69</td>\n",
       "      <td>15</td>\n",
       "      <td>11857</td>\n",
       "      <td>71</td>\n",
       "      <td>-1</td>\n",
       "    </tr>\n",
       "    <tr>\n",
       "      <th>24</th>\n",
       "      <td>1375</td>\n",
       "      <td>95</td>\n",
       "      <td>19</td>\n",
       "      <td>11</td>\n",
       "      <td>43514</td>\n",
       "      <td>96</td>\n",
       "      <td>1</td>\n",
       "    </tr>\n",
       "  </tbody>\n",
       "</table>\n",
       "</div>"
      ],
      "text/plain": [
       "     SAT  Top10  Accept  SFRatio  Expenses  GradRate  cluster\n",
       "0   1310     89      22       13     22704        94        0\n",
       "1   1415    100      25        6     63575        81       -1\n",
       "2   1260     62      59        9     25026        72       -1\n",
       "3   1310     76      24       12     31510        88       -1\n",
       "4   1280     83      33       13     21864        90        0\n",
       "5   1340     89      23       10     32162        95        1\n",
       "6   1315     90      30       12     31585        95        1\n",
       "7   1255     74      24       12     20126        92        0\n",
       "8   1400     91      14       11     39525        97        1\n",
       "9   1305     75      44        7     58691        87       -1\n",
       "10  1380     94      30       10     34870        91        1\n",
       "11  1260     85      39       11     28052        89        0\n",
       "12  1255     81      42       13     15122        94        0\n",
       "13  1081     38      54       18     10185        80       -1\n",
       "14  1375     91      14        8     30220        95       -1\n",
       "15  1005     28      90       19      9066        69       -1\n",
       "16  1360     90      20       12     36450        93        1\n",
       "17  1075     49      67       25      8704        67       -1\n",
       "18  1240     95      40       17     15140        78       -1\n",
       "19  1290     75      50       13     38380        87       -1\n",
       "20  1180     65      68       16     15470        85       -1\n",
       "21  1285     80      36       11     27553        90        0\n",
       "22  1225     77      44       14     13349        92       -1\n",
       "23  1085     40      69       15     11857        71       -1\n",
       "24  1375     95      19       11     43514        96        1"
      ]
     },
     "execution_count": 38,
     "metadata": {},
     "output_type": "execute_result"
    }
   ],
   "source": [
    "clustered"
   ]
  },
  {
   "cell_type": "code",
   "execution_count": 39,
   "metadata": {
    "colab": {
     "base_uri": "https://localhost:8080/"
    },
    "collapsed": true,
    "executionInfo": {
     "elapsed": 360,
     "status": "ok",
     "timestamp": 1623563014436,
     "user": {
      "displayName": "Jaspal Singh Jhass",
      "photoUrl": "",
      "userId": "14870781376371902378"
     },
     "user_tz": -330
    },
    "id": "bxej0vDP5MmB",
    "outputId": "26076f84-d97d-4771-b081-fc1d2ab3b88c"
   },
   "outputs": [
    {
     "data": {
      "text/plain": [
       "SAT          1266.44\n",
       "Top10          76.48\n",
       "Accept         39.20\n",
       "SFRatio        12.72\n",
       "Expenses    27388.00\n",
       "GradRate       86.72\n",
       "cluster        -0.28\n",
       "dtype: float64"
      ]
     },
     "execution_count": 39,
     "metadata": {},
     "output_type": "execute_result"
    }
   ],
   "source": [
    "clustered.mean()"
   ]
  },
  {
   "cell_type": "code",
   "execution_count": 34,
   "metadata": {
    "collapsed": true,
    "id": "c70mxYhc5S_o"
   },
   "outputs": [
    {
     "data": {
      "text/plain": [
       "[<matplotlib.lines.Line2D at 0x22f4ea1f8b0>]"
      ]
     },
     "execution_count": 34,
     "metadata": {},
     "output_type": "execute_result"
    },
    {
     "data": {
      "image/png": "[encoded data removed]",
      "text/plain": [
       "<Figure size 432x288 with 1 Axes>"
      ]
     },
     "metadata": {
      "needs_background": "light"
     },
     "output_type": "display_data"
    }
   ],
   "source": [
    "from sklearn.neighbors import NearestNeighbors\n",
    "from matplotlib import pyplot as plt\n",
    "\n",
    "neighbors = NearestNeighbors(n_neighbors=6)\n",
    "neighbors_fit = neighbors.fit(X)\n",
    "distances, indices = neighbors_fit.kneighbors(X)\n",
    "\n",
    "\n",
    "#Plot the K distance graph\n",
    "\n",
    "distances = np.sort(distances, axis=0)\n",
    "distances = distances[:,1]\n",
    "plt.plot(distances)"
   ]
  },
  {
   "cell_type": "code",
   "execution_count": 35,
   "metadata": {},
   "outputs": [],
   "source": [
    "import seaborn as sns\n",
    "from sklearn.metrics import silhouette_score\n",
    "%matplotlib inline"
   ]
  },
  {
   "cell_type": "code",
   "execution_count": 36,
   "metadata": {},
   "outputs": [
    {
     "name": "stdout",
     "output_type": "stream",
     "text": [
      "Silhouette Coefficient: 0.069\n"
     ]
    }
   ],
   "source": [
    "print(\"Silhouette Coefficient: %0.3f\"\n",
    "      %silhouette_score(X,dbscan.labels_) )"
   ]
  },
  {
   "cell_type": "code",
   "execution_count": 41,
   "metadata": {},
   "outputs": [
    {
     "data": {
      "text/plain": [
       "0.06870986188820744"
      ]
     },
     "execution_count": 41,
     "metadata": {},
     "output_type": "execute_result"
    }
   ],
   "source": [
    "silhouette_score(X, dbscan.labels_)"
   ]
  },
  {
   "cell_type": "code",
   "execution_count": null,
   "metadata": {},
   "outputs": [],
   "source": []
  }
 ],
 "metadata": {
  "_draft": {
   "nbviewer_url": "https://gist.github.com/a3684572cf5029186abeb1bbd17a0f5e"
  },
  "colab": {
   "name": "DBSCAN.ipynb",
   "provenance": []
  },
  "gist": {
   "data": {
    "description": "DBSCAN.ipynb",
    "public": true
   },
   "id": "a3684572cf5029186abeb1bbd17a0f5e"
  },
  "kernelspec": {
   "display_name": "Python 3",
   "language": "python",
   "name": "python3"
  },
  "language_info": {
   "codemirror_mode": {
    "name": "ipython",
    "version": 3
   },
   "file_extension": ".py",
   "mimetype": "text/x-python",
   "name": "python",
   "nbconvert_exporter": "python",
   "pygments_lexer": "ipython3",
   "version": "3.8.8"
  }
 },
 "nbformat": 4,
 "nbformat_minor": 1
}
