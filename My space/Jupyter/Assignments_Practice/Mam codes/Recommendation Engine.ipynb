{
 "cells": [
  {
   "cell_type": "code",
   "execution_count": null,
   "metadata": {
    "executionInfo": {
     "elapsed": 1416,
     "status": "ok",
     "timestamp": 1625979609680,
     "user": {
      "displayName": "Jaspal Singh Jhass",
      "photoUrl": "",
      "userId": "14870781376371902378"
     },
     "user_tz": -330
    },
    "id": "e03E18HJ7x18"
   },
   "outputs": [],
   "source": [
    "import pandas as pd\n",
    "import numpy as np"
   ]
  },
  {
   "cell_type": "code",
   "execution_count": null,
   "metadata": {
    "executionInfo": {
     "elapsed": 2,
     "status": "ok",
     "timestamp": 1625979610051,
     "user": {
      "displayName": "Jaspal Singh Jhass",
      "photoUrl": "",
      "userId": "14870781376371902378"
     },
     "user_tz": -330
    },
    "id": "YBzXzTi07x2C"
   },
   "outputs": [],
   "source": [
    "movies_df = pd.read_csv('Movie.csv')\n",
    "movies_df"
   ]
  },
  {
   "cell_type": "code",
   "execution_count": null,
   "metadata": {
    "colab": {
     "base_uri": "https://localhost:8080/",
     "height": 419
    },
    "executionInfo": {
     "elapsed": 360,
     "status": "ok",
     "timestamp": 1625979922921,
     "user": {
      "displayName": "Jaspal Singh Jhass",
      "photoUrl": "",
      "userId": "14870781376371902378"
     },
     "user_tz": -330
    },
    "id": "P-N4kOHo7x2D",
    "outputId": "8b6b8fdc-8c01-4d6a-c506-3509457aee9d"
   },
   "outputs": [],
   "source": [
    "movies_df.sort_values('userId')"
   ]
  },
  {
   "cell_type": "code",
   "execution_count": null,
   "metadata": {
    "colab": {
     "base_uri": "https://localhost:8080/"
    },
    "executionInfo": {
     "elapsed": 368,
     "status": "ok",
     "timestamp": 1625979620830,
     "user": {
      "displayName": "Jaspal Singh Jhass",
      "photoUrl": "",
      "userId": "14870781376371902378"
     },
     "user_tz": -330
    },
    "id": "sD6HOOaV7x2E",
    "outputId": "779e272c-60f4-418e-a853-b6779433a657"
   },
   "outputs": [],
   "source": [
    "#number of unique users in the dataset\n",
    "print(\"unique users\", movies_df.userId.nunique())\n",
    "print(\"unique Movies\", movies_df.movie.nunique())"
   ]
  },
  {
   "cell_type": "code",
   "execution_count": null,
   "metadata": {
    "colab": {
     "base_uri": "https://localhost:8080/"
    },
    "executionInfo": {
     "elapsed": 360,
     "status": "ok",
     "timestamp": 1625979660511,
     "user": {
      "displayName": "Jaspal Singh Jhass",
      "photoUrl": "",
      "userId": "14870781376371902378"
     },
     "user_tz": -330
    },
    "id": "N1Xhc5cs8HLu",
    "outputId": "468bbe4d-1574-488a-ede8-9830e9440ea2"
   },
   "outputs": [],
   "source": [
    "movies_df['rating'].describe()"
   ]
  },
  {
   "cell_type": "code",
   "execution_count": null,
   "metadata": {
    "colab": {
     "base_uri": "https://localhost:8080/"
    },
    "executionInfo": {
     "elapsed": 423,
     "status": "ok",
     "timestamp": 1625979759980,
     "user": {
      "displayName": "Jaspal Singh Jhass",
      "photoUrl": "",
      "userId": "14870781376371902378"
     },
     "user_tz": -330
    },
    "id": "g39lZyiE7x2F",
    "outputId": "8ab90b17-2a6a-48cb-cda8-56057358afe6"
   },
   "outputs": [],
   "source": [
    "len(movies_df.movie.unique())"
   ]
  },
  {
   "cell_type": "code",
   "execution_count": null,
   "metadata": {
    "colab": {
     "base_uri": "https://localhost:8080/"
    },
    "executionInfo": {
     "elapsed": 386,
     "status": "ok",
     "timestamp": 1625979784336,
     "user": {
      "displayName": "Jaspal Singh Jhass",
      "photoUrl": "",
      "userId": "14870781376371902378"
     },
     "user_tz": -330
    },
    "id": "tdyrCDlK8l3b",
    "outputId": "0ef2f25f-b27b-4b43-94aa-a2e4fb19ea48"
   },
   "outputs": [],
   "source": [
    "movies_df.movie.value_counts()"
   ]
  },
  {
   "cell_type": "code",
   "execution_count": null,
   "metadata": {
    "executionInfo": {
     "elapsed": 398,
     "status": "ok",
     "timestamp": 1625980522158,
     "user": {
      "displayName": "Jaspal Singh Jhass",
      "photoUrl": "",
      "userId": "14870781376371902378"
     },
     "user_tz": -330
    },
    "id": "6wmjEoLS7x2F"
   },
   "outputs": [],
   "source": [
    "user_movies_df = movies_df.pivot(index='userId',\n",
    "                                 columns='movie',\n",
    "                                 values='rating')"
   ]
  },
  {
   "cell_type": "code",
   "execution_count": null,
   "metadata": {
    "colab": {
     "base_uri": "https://localhost:8080/",
     "height": 467
    },
    "executionInfo": {
     "elapsed": 7,
     "status": "ok",
     "timestamp": 1625980522755,
     "user": {
      "displayName": "Jaspal Singh Jhass",
      "photoUrl": "",
      "userId": "14870781376371902378"
     },
     "user_tz": -330
    },
    "id": "GCgEK5Cd_SD8",
    "outputId": "819bd46b-8182-49fd-9d02-83ab01e8e3d8"
   },
   "outputs": [],
   "source": [
    "user_movies_df"
   ]
  },
  {
   "cell_type": "code",
   "execution_count": null,
   "metadata": {
    "colab": {
     "base_uri": "https://localhost:8080/",
     "height": 467
    },
    "executionInfo": {
     "elapsed": 362,
     "status": "ok",
     "timestamp": 1625980437372,
     "user": {
      "displayName": "Jaspal Singh Jhass",
      "photoUrl": "",
      "userId": "14870781376371902378"
     },
     "user_tz": -330
    },
    "id": "dGyncwSx7x2J",
    "outputId": "688581d0-5527-4d3a-efa6-5e1c70f9db75"
   },
   "outputs": [],
   "source": [
    "user_movies_df"
   ]
  },
  {
   "cell_type": "code",
   "execution_count": null,
   "metadata": {
    "executionInfo": {
     "elapsed": 374,
     "status": "ok",
     "timestamp": 1625979860566,
     "user": {
      "displayName": "Jaspal Singh Jhass",
      "photoUrl": "",
      "userId": "14870781376371902378"
     },
     "user_tz": -330
    },
    "id": "-ftUGzm77x2J"
   },
   "outputs": [],
   "source": [
    "#user_movies_df.index = movies_df.userId.unique()"
   ]
  },
  {
   "cell_type": "code",
   "execution_count": null,
   "metadata": {
    "colab": {
     "base_uri": "https://localhost:8080/",
     "height": 436
    },
    "executionInfo": {
     "elapsed": 352,
     "status": "ok",
     "timestamp": 1625979865822,
     "user": {
      "displayName": "Jaspal Singh Jhass",
      "photoUrl": "",
      "userId": "14870781376371902378"
     },
     "user_tz": -330
    },
    "id": "K5ysKNvU7x2K",
    "outputId": "ad71cd0b-9e8d-46b6-d18a-6e19d4b3af6c"
   },
   "outputs": [],
   "source": [
    "user_movies_df"
   ]
  },
  {
   "cell_type": "code",
   "execution_count": null,
   "metadata": {
    "executionInfo": {
     "elapsed": 399,
     "status": "ok",
     "timestamp": 1625980556571,
     "user": {
      "displayName": "Jaspal Singh Jhass",
      "photoUrl": "",
      "userId": "14870781376371902378"
     },
     "user_tz": -330
    },
    "id": "QV7G_zHN7x2K"
   },
   "outputs": [],
   "source": [
    "#Impute those NaNs with 0 values\n",
    "user_movies_df.fillna(0, inplace=True)"
   ]
  },
  {
   "cell_type": "code",
   "execution_count": null,
   "metadata": {
    "colab": {
     "base_uri": "https://localhost:8080/",
     "height": 467
    },
    "executionInfo": {
     "elapsed": 5,
     "status": "ok",
     "timestamp": 1625980558156,
     "user": {
      "displayName": "Jaspal Singh Jhass",
      "photoUrl": "",
      "userId": "14870781376371902378"
     },
     "user_tz": -330
    },
    "id": "c1AmBb0N7x2L",
    "outputId": "1cf2b9d2-c541-4f6f-8c86-a125d4775427"
   },
   "outputs": [],
   "source": [
    "user_movies_df.index"
   ]
  },
  {
   "cell_type": "code",
   "execution_count": null,
   "metadata": {
    "executionInfo": {
     "elapsed": 350,
     "status": "ok",
     "timestamp": 1625980565244,
     "user": {
      "displayName": "Jaspal Singh Jhass",
      "photoUrl": "",
      "userId": "14870781376371902378"
     },
     "user_tz": -330
    },
    "id": "MtdosGFq7x2L"
   },
   "outputs": [],
   "source": [
    "#Calculating Cosine Similarity between Users\n",
    "from sklearn.metrics import pairwise_distances\n",
    "from scipy.spatial.distance import cosine, correlation"
   ]
  },
  {
   "cell_type": "code",
   "execution_count": null,
   "metadata": {
    "executionInfo": {
     "elapsed": 7,
     "status": "ok",
     "timestamp": 1625980566904,
     "user": {
      "displayName": "Jaspal Singh Jhass",
      "photoUrl": "",
      "userId": "14870781376371902378"
     },
     "user_tz": -330
    },
    "id": "-VX9pjgX7x2L"
   },
   "outputs": [],
   "source": [
    "user_sim = 1- pairwise_distances( user_movies_df.values,metric='cosine')"
   ]
  },
  {
   "cell_type": "code",
   "execution_count": null,
   "metadata": {
    "colab": {
     "base_uri": "https://localhost:8080/"
    },
    "executionInfo": {
     "elapsed": 11,
     "status": "ok",
     "timestamp": 1625980567886,
     "user": {
      "displayName": "Jaspal Singh Jhass",
      "photoUrl": "",
      "userId": "14870781376371902378"
     },
     "user_tz": -330
    },
    "id": "PZHrpgKz7x2M",
    "outputId": "3e013333-2577-400e-a00d-0a5a63e25b1c"
   },
   "outputs": [],
   "source": [
    "user_sim"
   ]
  },
  {
   "cell_type": "code",
   "execution_count": null,
   "metadata": {
    "executionInfo": {
     "elapsed": 3,
     "status": "ok",
     "timestamp": 1625980569282,
     "user": {
      "displayName": "Jaspal Singh Jhass",
      "photoUrl": "",
      "userId": "14870781376371902378"
     },
     "user_tz": -330
    },
    "id": "lPvxGyPd7x2M"
   },
   "outputs": [],
   "source": [
    "#Store the results in a dataframe\n",
    "user_sim_df = pd.DataFrame(user_sim)\n",
    "user_sim_df"
   ]
  },
  {
   "cell_type": "code",
   "execution_count": null,
   "metadata": {
    "executionInfo": {
     "elapsed": 3,
     "status": "ok",
     "timestamp": 1625980570697,
     "user": {
      "displayName": "Jaspal Singh Jhass",
      "photoUrl": "",
      "userId": "14870781376371902378"
     },
     "user_tz": -330
    },
    "id": "FFkx838H7x2M"
   },
   "outputs": [],
   "source": [
    "#Set the index and column names to user ids \n",
    "user_sim_df.index = user_movies_df.index\n",
    "user_sim_df.columns = user_movies_df.index"
   ]
  },
  {
   "cell_type": "code",
   "execution_count": null,
   "metadata": {
    "colab": {
     "base_uri": "https://localhost:8080/",
     "height": 204
    },
    "executionInfo": {
     "elapsed": 14,
     "status": "ok",
     "timestamp": 1625980571925,
     "user": {
      "displayName": "Jaspal Singh Jhass",
      "photoUrl": "",
      "userId": "14870781376371902378"
     },
     "user_tz": -330
    },
    "id": "WI88Bxkx7x2N",
    "outputId": "3c5fb88c-d859-4f6e-bca5-72e131fc5859"
   },
   "outputs": [],
   "source": [
    "user_sim_df"
   ]
  },
  {
   "cell_type": "code",
   "execution_count": null,
   "metadata": {
    "colab": {
     "base_uri": "https://localhost:8080/",
     "height": 204
    },
    "executionInfo": {
     "elapsed": 606,
     "status": "ok",
     "timestamp": 1625980578520,
     "user": {
      "displayName": "Jaspal Singh Jhass",
      "photoUrl": "",
      "userId": "14870781376371902378"
     },
     "user_tz": -330
    },
    "id": "UeZOVP-i7x2N",
    "outputId": "e7c3b9da-5a24-410a-d964-5d9801ecdc1f"
   },
   "outputs": [],
   "source": [
    "np.fill_diagonal(user_sim, 0)\n",
    "user_sim_df.head(20)"
   ]
  },
  {
   "cell_type": "code",
   "execution_count": null,
   "metadata": {
    "colab": {
     "base_uri": "https://localhost:8080/"
    },
    "executionInfo": {
     "elapsed": 351,
     "status": "ok",
     "timestamp": 1625980584411,
     "user": {
      "displayName": "Jaspal Singh Jhass",
      "photoUrl": "",
      "userId": "14870781376371902378"
     },
     "user_tz": -330
    },
    "id": "h57yAdu77x2N",
    "outputId": "31acb49d-0a4f-464d-faf6-9cff7a85cc20"
   },
   "outputs": [],
   "source": [
    "#Most Similar Users\n",
    "user_sim_df.idxmax(axis=1)[0:10]"
   ]
  },
  {
   "cell_type": "code",
   "execution_count": null,
   "metadata": {
    "colab": {
     "base_uri": "https://localhost:8080/",
     "height": 173
    },
    "executionInfo": {
     "elapsed": 360,
     "status": "ok",
     "timestamp": 1625980593605,
     "user": {
      "displayName": "Jaspal Singh Jhass",
      "photoUrl": "",
      "userId": "14870781376371902378"
     },
     "user_tz": -330
    },
    "id": "soXEAudU7x2N",
    "outputId": "2e364141-ef0a-4ddc-cee7-a3875314ad3d"
   },
   "outputs": [],
   "source": [
    "movies_df[(movies_df['userId']==3) | (movies_df['userId']==11)]"
   ]
  },
  {
   "cell_type": "code",
   "execution_count": null,
   "metadata": {
    "executionInfo": {
     "elapsed": 482,
     "status": "ok",
     "timestamp": 1625980597997,
     "user": {
      "displayName": "Jaspal Singh Jhass",
      "photoUrl": "",
      "userId": "14870781376371902378"
     },
     "user_tz": -330
    },
    "id": "WnE767dz7x2O"
   },
   "outputs": [],
   "source": [
    "user_1=movies_df[movies_df['userId']==6]"
   ]
  },
  {
   "cell_type": "code",
   "execution_count": null,
   "metadata": {
    "executionInfo": {
     "elapsed": 3,
     "status": "ok",
     "timestamp": 1625980598536,
     "user": {
      "displayName": "Jaspal Singh Jhass",
      "photoUrl": "",
      "userId": "14870781376371902378"
     },
     "user_tz": -330
    },
    "id": "L8n8rpJE7x2O"
   },
   "outputs": [],
   "source": [
    "user_2=movies_df[movies_df['userId']==168]"
   ]
  },
  {
   "cell_type": "code",
   "execution_count": null,
   "metadata": {
    "colab": {
     "base_uri": "https://localhost:8080/"
    },
    "executionInfo": {
     "elapsed": 5,
     "status": "ok",
     "timestamp": 1625980599151,
     "user": {
      "displayName": "Jaspal Singh Jhass",
      "photoUrl": "",
      "userId": "14870781376371902378"
     },
     "user_tz": -330
    },
    "id": "xVy5HS0l7x2O",
    "outputId": "7a63b3f7-4a20-43d3-b5c0-c37d8f63a766"
   },
   "outputs": [],
   "source": [
    "user_2.movie"
   ]
  },
  {
   "cell_type": "code",
   "execution_count": null,
   "metadata": {
    "colab": {
     "base_uri": "https://localhost:8080/"
    },
    "executionInfo": {
     "elapsed": 4,
     "status": "ok",
     "timestamp": 1625980600604,
     "user": {
      "displayName": "Jaspal Singh Jhass",
      "photoUrl": "",
      "userId": "14870781376371902378"
     },
     "user_tz": -330
    },
    "id": "TawLGMf47x2O",
    "outputId": "a3989540-e0dd-40d3-8738-a58f8a03e7fb"
   },
   "outputs": [],
   "source": [
    "user_1.movie"
   ]
  },
  {
   "cell_type": "code",
   "execution_count": null,
   "metadata": {
    "colab": {
     "base_uri": "https://localhost:8080/",
     "height": 142
    },
    "executionInfo": {
     "elapsed": 7,
     "status": "ok",
     "timestamp": 1625980601938,
     "user": {
      "displayName": "Jaspal Singh Jhass",
      "photoUrl": "",
      "userId": "14870781376371902378"
     },
     "user_tz": -330
    },
    "id": "M85rN-OY7x2P",
    "outputId": "79874e9b-1ae1-4f5b-a572-544139b60e47"
   },
   "outputs": [],
   "source": [
    "pd.merge(user_1,user_2,on='movie',how='outer')"
   ]
  },
  {
   "cell_type": "code",
   "execution_count": null,
   "metadata": {
    "id": "t3kdlieH7x2P"
   },
   "outputs": [],
   "source": []
  }
 ],
 "metadata": {
  "colab": {
   "name": "Recommendation Engine.ipynb",
   "provenance": []
  },
  "kernelspec": {
   "display_name": "Python 3",
   "language": "python",
   "name": "python3"
  },
  "language_info": {
   "codemirror_mode": {
    "name": "ipython",
    "version": 3
   },
   "file_extension": ".py",
   "mimetype": "text/x-python",
   "name": "python",
   "nbconvert_exporter": "python",
   "pygments_lexer": "ipython3",
   "version": "3.8.8"
  }
 },
 "nbformat": 4,
 "nbformat_minor": 1
}
