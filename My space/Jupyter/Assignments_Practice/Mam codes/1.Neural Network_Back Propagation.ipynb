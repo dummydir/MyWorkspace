{
 "cells": [
  {
   "cell_type": "code",
   "execution_count": 5,
   "metadata": {
    "colab": {
     "base_uri": "https://localhost:8080/"
    },
    "executionInfo": {
     "elapsed": 4290,
     "status": "ok",
     "timestamp": 1627110399856,
     "user": {
      "displayName": "Jaspal Singh Jhass",
      "photoUrl": "",
      "userId": "14870781376371902378"
     },
     "user_tz": -330
    },
    "id": "gPQCjnuqiOdy",
    "outputId": "5f6e2b86-b403-4a35-99b3-14749e209669"
   },
   "outputs": [
    {
     "name": "stdout",
     "output_type": "stream",
     "text": [
      "Requirement already satisfied: tensorflow in c:\\users\\excelr\\anaconda3\\lib\\site-packages (2.6.0)\n",
      "Requirement already satisfied: clang~=5.0 in c:\\users\\excelr\\anaconda3\\lib\\site-packages (from tensorflow) (5.0)\n",
      "Requirement already satisfied: opt-einsum~=3.3.0 in c:\\users\\excelr\\anaconda3\\lib\\site-packages (from tensorflow) (3.3.0)\n",
      "Requirement already satisfied: h5py~=3.1.0 in c:\\users\\excelr\\anaconda3\\lib\\site-packages (from tensorflow) (3.1.0)\n",
      "Requirement already satisfied: gast==0.4.0 in c:\\users\\excelr\\anaconda3\\lib\\site-packages (from tensorflow) (0.4.0)\n",
      "Requirement already satisfied: google-pasta~=0.2 in c:\\users\\excelr\\anaconda3\\lib\\site-packages (from tensorflow) (0.2.0)\n",
      "Requirement already satisfied: grpcio<2.0,>=1.37.0 in c:\\users\\excelr\\anaconda3\\lib\\site-packages (from tensorflow) (1.41.1)\n",
      "Requirement already satisfied: astunparse~=1.6.3 in c:\\users\\excelr\\anaconda3\\lib\\site-packages (from tensorflow) (1.6.3)\n",
      "Requirement already satisfied: numpy~=1.19.2 in c:\\users\\excelr\\anaconda3\\lib\\site-packages (from tensorflow) (1.19.5)\n",
      "Requirement already satisfied: keras-preprocessing~=1.1.2 in c:\\users\\excelr\\anaconda3\\lib\\site-packages (from tensorflow) (1.1.2)\n",
      "Requirement already satisfied: protobuf>=3.9.2 in c:\\users\\excelr\\anaconda3\\lib\\site-packages (from tensorflow) (3.18.1)\n",
      "Requirement already satisfied: termcolor~=1.1.0 in c:\\users\\excelr\\anaconda3\\lib\\site-packages (from tensorflow) (1.1.0)\n",
      "Requirement already satisfied: wheel~=0.35 in c:\\users\\excelr\\anaconda3\\lib\\site-packages (from tensorflow) (0.36.2)\n",
      "Requirement already satisfied: flatbuffers~=1.12.0 in c:\\users\\excelr\\anaconda3\\lib\\site-packages (from tensorflow) (1.12)\n",
      "Requirement already satisfied: six~=1.15.0 in c:\\users\\excelr\\anaconda3\\lib\\site-packages (from tensorflow) (1.15.0)\n",
      "Requirement already satisfied: tensorflow-estimator~=2.6 in c:\\users\\excelr\\anaconda3\\lib\\site-packages (from tensorflow) (2.6.0)\n",
      "Requirement already satisfied: tensorboard~=2.6 in c:\\users\\excelr\\anaconda3\\lib\\site-packages (from tensorflow) (2.7.0)\n",
      "Requirement already satisfied: absl-py~=0.10 in c:\\users\\excelr\\anaconda3\\lib\\site-packages (from tensorflow) (0.15.0)\n",
      "Requirement already satisfied: typing-extensions~=3.7.4 in c:\\users\\excelr\\anaconda3\\lib\\site-packages (from tensorflow) (3.7.4.3)\n",
      "Requirement already satisfied: keras~=2.6 in c:\\users\\excelr\\anaconda3\\lib\\site-packages (from tensorflow) (2.6.0)\n",
      "Requirement already satisfied: wrapt~=1.12.1 in c:\\users\\excelr\\anaconda3\\lib\\site-packages (from tensorflow) (1.12.1)\n",
      "Requirement already satisfied: setuptools>=41.0.0 in c:\\users\\excelr\\anaconda3\\lib\\site-packages (from tensorboard~=2.6->tensorflow) (52.0.0.post20210125)\n",
      "Requirement already satisfied: tensorboard-plugin-wit>=1.6.0 in c:\\users\\excelr\\anaconda3\\lib\\site-packages (from tensorboard~=2.6->tensorflow) (1.8.0)\n",
      "Requirement already satisfied: google-auth-oauthlib<0.5,>=0.4.1 in c:\\users\\excelr\\anaconda3\\lib\\site-packages (from tensorboard~=2.6->tensorflow) (0.4.6)\n",
      "Requirement already satisfied: tensorboard-data-server<0.7.0,>=0.6.0 in c:\\users\\excelr\\anaconda3\\lib\\site-packages (from tensorboard~=2.6->tensorflow) (0.6.1)\n",
      "Requirement already satisfied: markdown>=2.6.8 in c:\\users\\excelr\\anaconda3\\lib\\site-packages (from tensorboard~=2.6->tensorflow) (3.3.4)\n",
      "Requirement already satisfied: requests<3,>=2.21.0 in c:\\users\\excelr\\anaconda3\\lib\\site-packages (from tensorboard~=2.6->tensorflow) (2.25.1)\n",
      "Requirement already satisfied: google-auth<3,>=1.6.3 in c:\\users\\excelr\\anaconda3\\lib\\site-packages (from tensorboard~=2.6->tensorflow) (2.3.2)\n",
      "Requirement already satisfied: werkzeug>=0.11.15 in c:\\users\\excelr\\anaconda3\\lib\\site-packages (from tensorboard~=2.6->tensorflow) (1.0.1)\n",
      "Requirement already satisfied: pyasn1-modules>=0.2.1 in c:\\users\\excelr\\anaconda3\\lib\\site-packages (from google-auth<3,>=1.6.3->tensorboard~=2.6->tensorflow) (0.2.8)\n",
      "Requirement already satisfied: cachetools<5.0,>=2.0.0 in c:\\users\\excelr\\anaconda3\\lib\\site-packages (from google-auth<3,>=1.6.3->tensorboard~=2.6->tensorflow) (4.2.4)\n",
      "Requirement already satisfied: rsa<5,>=3.1.4 in c:\\users\\excelr\\anaconda3\\lib\\site-packages (from google-auth<3,>=1.6.3->tensorboard~=2.6->tensorflow) (4.7.2)\n",
      "Requirement already satisfied: requests-oauthlib>=0.7.0 in c:\\users\\excelr\\anaconda3\\lib\\site-packages (from google-auth-oauthlib<0.5,>=0.4.1->tensorboard~=2.6->tensorflow) (1.3.0)\n",
      "Requirement already satisfied: pyasn1<0.5.0,>=0.4.6 in c:\\users\\excelr\\anaconda3\\lib\\site-packages (from pyasn1-modules>=0.2.1->google-auth<3,>=1.6.3->tensorboard~=2.6->tensorflow) (0.4.8)\n",
      "Requirement already satisfied: certifi>=2017.4.17 in c:\\users\\excelr\\anaconda3\\lib\\site-packages (from requests<3,>=2.21.0->tensorboard~=2.6->tensorflow) (2020.12.5)\n",
      "Requirement already satisfied: chardet<5,>=3.0.2 in c:\\users\\excelr\\anaconda3\\lib\\site-packages (from requests<3,>=2.21.0->tensorboard~=2.6->tensorflow) (4.0.0)\n",
      "Requirement already satisfied: idna<3,>=2.5 in c:\\users\\excelr\\anaconda3\\lib\\site-packages (from requests<3,>=2.21.0->tensorboard~=2.6->tensorflow) (2.10)\n",
      "Requirement already satisfied: urllib3<1.27,>=1.21.1 in c:\\users\\excelr\\anaconda3\\lib\\site-packages (from requests<3,>=2.21.0->tensorboard~=2.6->tensorflow) (1.26.4)\n",
      "Requirement already satisfied: oauthlib>=3.0.0 in c:\\users\\excelr\\anaconda3\\lib\\site-packages (from requests-oauthlib>=0.7.0->google-auth-oauthlib<0.5,>=0.4.1->tensorboard~=2.6->tensorflow) (3.1.1)\n"
     ]
    }
   ],
   "source": [
    "!pip install tensorflow"
   ]
  },
  {
   "cell_type": "code",
   "execution_count": 6,
   "metadata": {
    "colab": {
     "base_uri": "https://localhost:8080/"
    },
    "executionInfo": {
     "elapsed": 3286,
     "status": "ok",
     "timestamp": 1627110453036,
     "user": {
      "displayName": "Jaspal Singh Jhass",
      "photoUrl": "",
      "userId": "14870781376371902378"
     },
     "user_tz": -330
    },
    "id": "pvBp1oasiOd-",
    "outputId": "b2ce90d8-6957-4136-99e1-d659cf07a9db"
   },
   "outputs": [
    {
     "name": "stdout",
     "output_type": "stream",
     "text": [
      "Requirement already satisfied: keras in c:\\users\\excelr\\anaconda3\\lib\\site-packages (2.6.0)\n"
     ]
    }
   ],
   "source": [
    "!pip install keras"
   ]
  },
  {
   "cell_type": "code",
   "execution_count": 8,
   "metadata": {
    "executionInfo": {
     "elapsed": 2621,
     "status": "ok",
     "timestamp": 1627111329092,
     "user": {
      "displayName": "Jaspal Singh Jhass",
      "photoUrl": "",
      "userId": "14870781376371902378"
     },
     "user_tz": -330
    },
    "id": "67fq_HUhiOd-"
   },
   "outputs": [],
   "source": [
    "# Create your first MLP in Keras\n",
    "from keras.models import Sequential\n",
    "from keras.layers import Dense\n",
    "import numpy"
   ]
  },
  {
   "cell_type": "code",
   "execution_count": 9,
   "metadata": {
    "executionInfo": {
     "elapsed": 11,
     "status": "ok",
     "timestamp": 1627111329097,
     "user": {
      "displayName": "Jaspal Singh Jhass",
      "photoUrl": "",
      "userId": "14870781376371902378"
     },
     "user_tz": -330
    },
    "id": "4SGSqH3wiOd_"
   },
   "outputs": [],
   "source": [
    "# fix random seed for reproducibility\n",
    "seed = 7\n",
    "numpy.random.seed(seed)\n",
    "# load pima indians dataset\n",
    "dataset = numpy.loadtxt(\"pima-indians-diabetes.csv\", delimiter=\",\")\n",
    "# split into input (X) and output (Y) variables\n",
    "X = dataset[:,0:8]\n",
    "Y = dataset[:,8]\n"
   ]
  },
  {
   "cell_type": "code",
   "execution_count": 11,
   "metadata": {
    "executionInfo": {
     "elapsed": 341,
     "status": "ok",
     "timestamp": 1627111333689,
     "user": {
      "displayName": "Jaspal Singh Jhass",
      "photoUrl": "",
      "userId": "14870781376371902378"
     },
     "user_tz": -330
    },
    "id": "ZNUWXgkniOeA"
   },
   "outputs": [],
   "source": [
    "# create model\n",
    "model = Sequential()\n",
    "model.add(Dense(8, input_dim=8,  activation='relu')) #1st layer\n",
    "model.add(Dense(8,  activation='relu')) #2nd layer\n",
    "model.add(Dense(1, activation='sigmoid')) #3rd layer or op layer"
   ]
  },
  {
   "cell_type": "markdown",
   "metadata": {
    "id": "jQti1G49iOeB"
   },
   "source": [
    "![image.png](attachment:image.png)"
   ]
  },
  {
   "cell_type": "code",
   "execution_count": 4,
   "metadata": {
    "executionInfo": {
     "elapsed": 2,
     "status": "ok",
     "timestamp": 1627111334289,
     "user": {
      "displayName": "Jaspal Singh Jhass",
      "photoUrl": "",
      "userId": "14870781376371902378"
     },
     "user_tz": -330
    },
    "id": "y69e5XcziOeB"
   },
   "outputs": [],
   "source": [
    "# Compile model\n",
    "model.compile(loss='binary_crossentropy', optimizer='adam', metrics=['accuracy'])"
   ]
  },
  {
   "cell_type": "markdown",
   "metadata": {
    "id": "PKl-lm1R05sN"
   },
   "source": []
  },
  {
   "cell_type": "markdown",
   "metadata": {
    "id": "SP54Jt4h05oB"
   },
   "source": []
  },
  {
   "cell_type": "code",
   "execution_count": 5,
   "metadata": {
    "colab": {
     "base_uri": "https://localhost:8080/"
    },
    "executionInfo": {
     "elapsed": 7,
     "status": "ok",
     "timestamp": 1627111335868,
     "user": {
      "displayName": "Jaspal Singh Jhass",
      "photoUrl": "",
      "userId": "14870781376371902378"
     },
     "user_tz": -330
    },
    "id": "K4jRK21h1mLd",
    "outputId": "0f847396-ed86-4c3f-b42a-254a8e5ae9df"
   },
   "outputs": [
    {
     "data": {
      "text/plain": [
       "514.5600000000001"
      ]
     },
     "execution_count": 5,
     "metadata": {
      "tags": []
     },
     "output_type": "execute_result"
    }
   ],
   "source": [
    "768*0.67"
   ]
  },
  {
   "cell_type": "code",
   "execution_count": 6,
   "metadata": {
    "colab": {
     "base_uri": "https://localhost:8080/"
    },
    "executionInfo": {
     "elapsed": 50845,
     "status": "ok",
     "timestamp": 1627111387332,
     "user": {
      "displayName": "Jaspal Singh Jhass",
      "photoUrl": "",
      "userId": "14870781376371902378"
     },
     "user_tz": -330
    },
    "id": "vTEaXcpViOeB",
    "outputId": "99a18f78-09ae-43e5-851b-5392dde0d3da"
   },
   "outputs": [
    {
     "name": "stdout",
     "output_type": "stream",
     "text": [
      "Epoch 1/250\n",
      "52/52 [==============================] - 15s 12ms/step - loss: 11.1931 - accuracy: 0.6067 - val_loss: 1.6660 - val_accuracy: 0.6732\n",
      "Epoch 2/250\n",
      "52/52 [==============================] - 0s 2ms/step - loss: 1.7405 - accuracy: 0.5327 - val_loss: 1.1244 - val_accuracy: 0.6299\n",
      "Epoch 3/250\n",
      "52/52 [==============================] - 0s 2ms/step - loss: 1.1728 - accuracy: 0.5507 - val_loss: 1.0355 - val_accuracy: 0.5551\n",
      "Epoch 4/250\n",
      "52/52 [==============================] - 0s 3ms/step - loss: 0.9705 - accuracy: 0.5760 - val_loss: 1.0018 - val_accuracy: 0.5866\n",
      "Epoch 5/250\n",
      "52/52 [==============================] - 0s 3ms/step - loss: 0.9012 - accuracy: 0.5925 - val_loss: 0.9580 - val_accuracy: 0.5709\n",
      "Epoch 6/250\n",
      "52/52 [==============================] - 0s 2ms/step - loss: 0.8553 - accuracy: 0.6087 - val_loss: 0.9508 - val_accuracy: 0.6417\n",
      "Epoch 7/250\n",
      "52/52 [==============================] - 0s 3ms/step - loss: 0.8340 - accuracy: 0.5955 - val_loss: 0.9019 - val_accuracy: 0.5945\n",
      "Epoch 8/250\n",
      "52/52 [==============================] - 0s 3ms/step - loss: 0.7523 - accuracy: 0.6070 - val_loss: 0.9035 - val_accuracy: 0.5000\n",
      "Epoch 9/250\n",
      "52/52 [==============================] - 0s 2ms/step - loss: 0.8105 - accuracy: 0.6177 - val_loss: 0.8918 - val_accuracy: 0.5118\n",
      "Epoch 10/250\n",
      "52/52 [==============================] - 0s 3ms/step - loss: 0.7994 - accuracy: 0.5776 - val_loss: 0.8457 - val_accuracy: 0.5315\n",
      "Epoch 11/250\n",
      "52/52 [==============================] - 0s 2ms/step - loss: 0.7221 - accuracy: 0.6219 - val_loss: 0.8219 - val_accuracy: 0.5512\n",
      "Epoch 12/250\n",
      "52/52 [==============================] - 0s 3ms/step - loss: 0.7390 - accuracy: 0.5768 - val_loss: 0.7937 - val_accuracy: 0.6772\n",
      "Epoch 13/250\n",
      "52/52 [==============================] - 0s 3ms/step - loss: 0.6778 - accuracy: 0.6813 - val_loss: 0.7845 - val_accuracy: 0.6693\n",
      "Epoch 14/250\n",
      "52/52 [==============================] - 0s 2ms/step - loss: 0.6803 - accuracy: 0.6602 - val_loss: 0.7668 - val_accuracy: 0.6732\n",
      "Epoch 15/250\n",
      "52/52 [==============================] - 0s 3ms/step - loss: 0.6464 - accuracy: 0.6717 - val_loss: 0.7556 - val_accuracy: 0.6772\n",
      "Epoch 16/250\n",
      "52/52 [==============================] - 0s 3ms/step - loss: 0.6116 - accuracy: 0.7007 - val_loss: 0.7480 - val_accuracy: 0.6142\n",
      "Epoch 17/250\n",
      "52/52 [==============================] - 0s 3ms/step - loss: 0.6514 - accuracy: 0.6827 - val_loss: 0.7362 - val_accuracy: 0.6614\n",
      "Epoch 18/250\n",
      "52/52 [==============================] - 0s 2ms/step - loss: 0.6568 - accuracy: 0.6903 - val_loss: 0.7175 - val_accuracy: 0.6969\n",
      "Epoch 19/250\n",
      "52/52 [==============================] - 0s 3ms/step - loss: 0.6011 - accuracy: 0.7005 - val_loss: 0.7081 - val_accuracy: 0.6969\n",
      "Epoch 20/250\n",
      "52/52 [==============================] - 0s 2ms/step - loss: 0.5991 - accuracy: 0.7228 - val_loss: 0.6972 - val_accuracy: 0.7047\n",
      "Epoch 21/250\n",
      "52/52 [==============================] - 0s 2ms/step - loss: 0.6333 - accuracy: 0.6982 - val_loss: 0.6883 - val_accuracy: 0.6929\n",
      "Epoch 22/250\n",
      "52/52 [==============================] - 0s 3ms/step - loss: 0.5491 - accuracy: 0.7629 - val_loss: 0.6969 - val_accuracy: 0.7244\n",
      "Epoch 23/250\n",
      "52/52 [==============================] - 0s 3ms/step - loss: 0.6007 - accuracy: 0.7126 - val_loss: 0.6841 - val_accuracy: 0.7047\n",
      "Epoch 24/250\n",
      "52/52 [==============================] - 0s 3ms/step - loss: 0.6637 - accuracy: 0.6444 - val_loss: 0.6888 - val_accuracy: 0.7047\n",
      "Epoch 25/250\n",
      "52/52 [==============================] - 0s 3ms/step - loss: 0.6107 - accuracy: 0.7108 - val_loss: 0.6752 - val_accuracy: 0.6850\n",
      "Epoch 26/250\n",
      "52/52 [==============================] - 0s 2ms/step - loss: 0.5977 - accuracy: 0.7055 - val_loss: 0.6852 - val_accuracy: 0.7165\n",
      "Epoch 27/250\n",
      "52/52 [==============================] - 0s 2ms/step - loss: 0.5775 - accuracy: 0.7043 - val_loss: 0.7495 - val_accuracy: 0.6102\n",
      "Epoch 28/250\n",
      "52/52 [==============================] - 0s 2ms/step - loss: 0.6477 - accuracy: 0.6680 - val_loss: 0.6703 - val_accuracy: 0.7323\n",
      "Epoch 29/250\n",
      "52/52 [==============================] - 0s 3ms/step - loss: 0.5985 - accuracy: 0.6984 - val_loss: 0.6524 - val_accuracy: 0.6969\n",
      "Epoch 30/250\n",
      "52/52 [==============================] - 0s 2ms/step - loss: 0.6116 - accuracy: 0.6843 - val_loss: 0.6732 - val_accuracy: 0.6772\n",
      "Epoch 31/250\n",
      "52/52 [==============================] - 0s 2ms/step - loss: 0.5866 - accuracy: 0.7190 - val_loss: 0.6513 - val_accuracy: 0.7047\n",
      "Epoch 32/250\n",
      "52/52 [==============================] - 0s 2ms/step - loss: 0.5608 - accuracy: 0.7216 - val_loss: 0.6623 - val_accuracy: 0.7008\n",
      "Epoch 33/250\n",
      "52/52 [==============================] - 0s 2ms/step - loss: 0.5757 - accuracy: 0.6897 - val_loss: 0.6464 - val_accuracy: 0.6969\n",
      "Epoch 34/250\n",
      "52/52 [==============================] - 0s 2ms/step - loss: 0.5870 - accuracy: 0.6889 - val_loss: 0.6528 - val_accuracy: 0.7126\n",
      "Epoch 35/250\n",
      "52/52 [==============================] - 0s 2ms/step - loss: 0.5588 - accuracy: 0.7386 - val_loss: 0.6412 - val_accuracy: 0.7047\n",
      "Epoch 36/250\n",
      "52/52 [==============================] - 0s 3ms/step - loss: 0.5536 - accuracy: 0.7211 - val_loss: 0.6437 - val_accuracy: 0.7323\n",
      "Epoch 37/250\n",
      "52/52 [==============================] - 0s 2ms/step - loss: 0.5490 - accuracy: 0.7358 - val_loss: 0.6336 - val_accuracy: 0.7087\n",
      "Epoch 38/250\n",
      "52/52 [==============================] - 0s 3ms/step - loss: 0.5828 - accuracy: 0.6856 - val_loss: 0.6351 - val_accuracy: 0.7244\n",
      "Epoch 39/250\n",
      "52/52 [==============================] - 0s 2ms/step - loss: 0.5729 - accuracy: 0.7193 - val_loss: 0.6288 - val_accuracy: 0.7244\n",
      "Epoch 40/250\n",
      "52/52 [==============================] - 0s 2ms/step - loss: 0.5900 - accuracy: 0.7001 - val_loss: 0.6364 - val_accuracy: 0.7165\n",
      "Epoch 41/250\n",
      "52/52 [==============================] - 0s 2ms/step - loss: 0.5745 - accuracy: 0.7156 - val_loss: 0.6333 - val_accuracy: 0.7165\n",
      "Epoch 42/250\n",
      "52/52 [==============================] - 0s 2ms/step - loss: 0.5605 - accuracy: 0.7210 - val_loss: 0.6217 - val_accuracy: 0.7126\n",
      "Epoch 43/250\n",
      "52/52 [==============================] - 0s 3ms/step - loss: 0.5509 - accuracy: 0.7100 - val_loss: 0.6404 - val_accuracy: 0.7165\n",
      "Epoch 44/250\n",
      "52/52 [==============================] - 0s 2ms/step - loss: 0.6014 - accuracy: 0.6876 - val_loss: 0.6101 - val_accuracy: 0.7205\n",
      "Epoch 45/250\n",
      "52/52 [==============================] - 0s 3ms/step - loss: 0.5514 - accuracy: 0.7442 - val_loss: 0.6132 - val_accuracy: 0.7205\n",
      "Epoch 46/250\n",
      "52/52 [==============================] - 0s 3ms/step - loss: 0.5252 - accuracy: 0.7314 - val_loss: 0.6196 - val_accuracy: 0.7126\n",
      "Epoch 47/250\n",
      "52/52 [==============================] - 0s 3ms/step - loss: 0.5610 - accuracy: 0.7336 - val_loss: 0.6083 - val_accuracy: 0.6969\n",
      "Epoch 48/250\n",
      "52/52 [==============================] - 0s 3ms/step - loss: 0.5678 - accuracy: 0.7146 - val_loss: 0.6963 - val_accuracy: 0.6260\n",
      "Epoch 49/250\n",
      "52/52 [==============================] - 0s 3ms/step - loss: 0.6122 - accuracy: 0.6922 - val_loss: 0.5985 - val_accuracy: 0.7165\n",
      "Epoch 50/250\n",
      "52/52 [==============================] - 0s 2ms/step - loss: 0.5740 - accuracy: 0.6797 - val_loss: 0.6258 - val_accuracy: 0.6811\n",
      "Epoch 51/250\n",
      "52/52 [==============================] - 0s 2ms/step - loss: 0.5799 - accuracy: 0.6896 - val_loss: 0.5965 - val_accuracy: 0.7244\n",
      "Epoch 52/250\n",
      "52/52 [==============================] - 0s 3ms/step - loss: 0.5766 - accuracy: 0.7128 - val_loss: 0.5995 - val_accuracy: 0.7047\n",
      "Epoch 53/250\n",
      "52/52 [==============================] - 0s 3ms/step - loss: 0.5550 - accuracy: 0.6986 - val_loss: 0.6063 - val_accuracy: 0.7008\n",
      "Epoch 54/250\n",
      "52/52 [==============================] - 0s 2ms/step - loss: 0.5430 - accuracy: 0.7130 - val_loss: 0.5902 - val_accuracy: 0.7362\n",
      "Epoch 55/250\n",
      "52/52 [==============================] - 0s 2ms/step - loss: 0.5432 - accuracy: 0.7395 - val_loss: 0.6075 - val_accuracy: 0.7205\n",
      "Epoch 56/250\n",
      "52/52 [==============================] - 0s 3ms/step - loss: 0.5317 - accuracy: 0.7203 - val_loss: 0.6022 - val_accuracy: 0.7047\n",
      "Epoch 57/250\n",
      "52/52 [==============================] - 0s 3ms/step - loss: 0.5414 - accuracy: 0.7167 - val_loss: 0.6072 - val_accuracy: 0.7283\n",
      "Epoch 58/250\n",
      "52/52 [==============================] - 0s 2ms/step - loss: 0.5402 - accuracy: 0.7313 - val_loss: 0.5780 - val_accuracy: 0.7480\n",
      "Epoch 59/250\n",
      "52/52 [==============================] - 0s 3ms/step - loss: 0.5300 - accuracy: 0.7480 - val_loss: 0.6139 - val_accuracy: 0.6850\n",
      "Epoch 60/250\n",
      "52/52 [==============================] - 0s 3ms/step - loss: 0.5506 - accuracy: 0.7535 - val_loss: 0.5865 - val_accuracy: 0.7087\n",
      "Epoch 61/250\n",
      "52/52 [==============================] - 0s 2ms/step - loss: 0.5384 - accuracy: 0.7154 - val_loss: 0.5631 - val_accuracy: 0.7480\n",
      "Epoch 62/250\n",
      "52/52 [==============================] - 0s 3ms/step - loss: 0.5255 - accuracy: 0.7379 - val_loss: 0.5641 - val_accuracy: 0.7480\n",
      "Epoch 63/250\n",
      "52/52 [==============================] - 0s 3ms/step - loss: 0.5478 - accuracy: 0.7209 - val_loss: 0.5727 - val_accuracy: 0.7362\n",
      "Epoch 64/250\n",
      "52/52 [==============================] - 0s 3ms/step - loss: 0.5102 - accuracy: 0.7734 - val_loss: 0.5651 - val_accuracy: 0.7480\n",
      "Epoch 65/250\n",
      "52/52 [==============================] - 0s 2ms/step - loss: 0.5274 - accuracy: 0.7393 - val_loss: 0.5947 - val_accuracy: 0.7087\n",
      "Epoch 66/250\n",
      "52/52 [==============================] - 0s 3ms/step - loss: 0.5535 - accuracy: 0.7388 - val_loss: 0.5612 - val_accuracy: 0.7598\n",
      "Epoch 67/250\n",
      "52/52 [==============================] - 0s 3ms/step - loss: 0.5420 - accuracy: 0.7281 - val_loss: 0.5671 - val_accuracy: 0.7559\n",
      "Epoch 68/250\n",
      "52/52 [==============================] - 0s 3ms/step - loss: 0.5250 - accuracy: 0.7432 - val_loss: 0.5680 - val_accuracy: 0.7520\n",
      "Epoch 69/250\n",
      "52/52 [==============================] - 0s 2ms/step - loss: 0.5369 - accuracy: 0.7207 - val_loss: 0.5605 - val_accuracy: 0.7638\n",
      "Epoch 70/250\n",
      "52/52 [==============================] - 0s 2ms/step - loss: 0.5584 - accuracy: 0.7169 - val_loss: 0.5886 - val_accuracy: 0.7165\n",
      "Epoch 71/250\n",
      "52/52 [==============================] - 0s 2ms/step - loss: 0.5395 - accuracy: 0.7369 - val_loss: 0.5626 - val_accuracy: 0.7520\n",
      "Epoch 72/250\n",
      "52/52 [==============================] - 0s 3ms/step - loss: 0.5081 - accuracy: 0.7327 - val_loss: 0.5846 - val_accuracy: 0.7205\n",
      "Epoch 73/250\n",
      "52/52 [==============================] - 0s 3ms/step - loss: 0.5200 - accuracy: 0.7278 - val_loss: 0.5809 - val_accuracy: 0.7165\n",
      "Epoch 74/250\n",
      "52/52 [==============================] - 0s 2ms/step - loss: 0.5415 - accuracy: 0.7195 - val_loss: 0.5646 - val_accuracy: 0.7283\n",
      "Epoch 75/250\n",
      "52/52 [==============================] - 0s 3ms/step - loss: 0.5442 - accuracy: 0.7270 - val_loss: 0.5634 - val_accuracy: 0.7520\n",
      "Epoch 76/250\n",
      "52/52 [==============================] - 0s 3ms/step - loss: 0.5114 - accuracy: 0.7532 - val_loss: 0.5727 - val_accuracy: 0.7283\n",
      "Epoch 77/250\n",
      "52/52 [==============================] - 0s 3ms/step - loss: 0.5150 - accuracy: 0.7314 - val_loss: 0.5645 - val_accuracy: 0.7559\n",
      "Epoch 78/250\n",
      "52/52 [==============================] - 0s 2ms/step - loss: 0.5579 - accuracy: 0.7001 - val_loss: 0.5529 - val_accuracy: 0.7480\n",
      "Epoch 79/250\n",
      "52/52 [==============================] - 0s 2ms/step - loss: 0.5239 - accuracy: 0.7283 - val_loss: 0.6053 - val_accuracy: 0.7047\n",
      "Epoch 80/250\n",
      "52/52 [==============================] - 0s 3ms/step - loss: 0.5331 - accuracy: 0.7165 - val_loss: 0.5607 - val_accuracy: 0.7362\n",
      "Epoch 81/250\n",
      "52/52 [==============================] - 0s 3ms/step - loss: 0.5394 - accuracy: 0.7209 - val_loss: 0.5547 - val_accuracy: 0.7559\n",
      "Epoch 82/250\n",
      "52/52 [==============================] - 0s 3ms/step - loss: 0.5036 - accuracy: 0.7657 - val_loss: 0.6300 - val_accuracy: 0.6614\n",
      "Epoch 83/250\n",
      "52/52 [==============================] - 0s 2ms/step - loss: 0.5226 - accuracy: 0.7535 - val_loss: 0.5912 - val_accuracy: 0.7047\n",
      "Epoch 84/250\n",
      "52/52 [==============================] - 0s 3ms/step - loss: 0.4896 - accuracy: 0.7772 - val_loss: 0.5666 - val_accuracy: 0.7402\n",
      "Epoch 85/250\n",
      "52/52 [==============================] - 0s 3ms/step - loss: 0.5122 - accuracy: 0.7482 - val_loss: 0.5831 - val_accuracy: 0.7205\n",
      "Epoch 86/250\n",
      "52/52 [==============================] - 0s 3ms/step - loss: 0.5184 - accuracy: 0.7457 - val_loss: 0.5473 - val_accuracy: 0.7717\n",
      "Epoch 87/250\n",
      "52/52 [==============================] - 0s 3ms/step - loss: 0.5002 - accuracy: 0.7356 - val_loss: 0.5480 - val_accuracy: 0.7480\n",
      "Epoch 88/250\n",
      "52/52 [==============================] - 0s 3ms/step - loss: 0.5338 - accuracy: 0.7346 - val_loss: 0.5476 - val_accuracy: 0.7520\n",
      "Epoch 89/250\n",
      "52/52 [==============================] - 0s 2ms/step - loss: 0.5040 - accuracy: 0.7671 - val_loss: 0.6188 - val_accuracy: 0.6890\n",
      "Epoch 90/250\n",
      "52/52 [==============================] - 0s 3ms/step - loss: 0.4955 - accuracy: 0.7524 - val_loss: 0.5963 - val_accuracy: 0.7244\n",
      "Epoch 91/250\n",
      "52/52 [==============================] - 0s 3ms/step - loss: 0.4967 - accuracy: 0.7473 - val_loss: 0.5481 - val_accuracy: 0.7756\n",
      "Epoch 92/250\n",
      "52/52 [==============================] - 0s 2ms/step - loss: 0.5291 - accuracy: 0.7622 - val_loss: 0.5432 - val_accuracy: 0.7756\n",
      "Epoch 93/250\n",
      "52/52 [==============================] - 0s 3ms/step - loss: 0.4882 - accuracy: 0.7663 - val_loss: 0.5461 - val_accuracy: 0.7795\n",
      "Epoch 94/250\n",
      "52/52 [==============================] - 0s 3ms/step - loss: 0.4993 - accuracy: 0.7404 - val_loss: 0.5460 - val_accuracy: 0.7559\n",
      "Epoch 95/250\n",
      "52/52 [==============================] - 0s 2ms/step - loss: 0.5398 - accuracy: 0.7352 - val_loss: 0.5969 - val_accuracy: 0.7165\n",
      "Epoch 96/250\n",
      "52/52 [==============================] - 0s 2ms/step - loss: 0.5881 - accuracy: 0.6900 - val_loss: 0.5497 - val_accuracy: 0.7323\n",
      "Epoch 97/250\n",
      "52/52 [==============================] - 0s 2ms/step - loss: 0.5161 - accuracy: 0.7412 - val_loss: 0.5402 - val_accuracy: 0.7756\n",
      "Epoch 98/250\n",
      "52/52 [==============================] - 0s 2ms/step - loss: 0.5021 - accuracy: 0.7599 - val_loss: 0.5468 - val_accuracy: 0.7520\n",
      "Epoch 99/250\n",
      "52/52 [==============================] - 0s 2ms/step - loss: 0.5012 - accuracy: 0.7539 - val_loss: 0.5438 - val_accuracy: 0.7559\n",
      "Epoch 100/250\n",
      "52/52 [==============================] - 0s 3ms/step - loss: 0.4585 - accuracy: 0.7886 - val_loss: 0.5498 - val_accuracy: 0.7598\n",
      "Epoch 101/250\n",
      "52/52 [==============================] - 0s 3ms/step - loss: 0.4985 - accuracy: 0.7673 - val_loss: 0.5493 - val_accuracy: 0.7480\n",
      "Epoch 102/250\n",
      "52/52 [==============================] - 0s 2ms/step - loss: 0.5176 - accuracy: 0.7391 - val_loss: 0.5476 - val_accuracy: 0.7402\n",
      "Epoch 103/250\n",
      "52/52 [==============================] - 0s 3ms/step - loss: 0.4895 - accuracy: 0.7620 - val_loss: 0.6107 - val_accuracy: 0.6890\n",
      "Epoch 104/250\n",
      "52/52 [==============================] - 0s 2ms/step - loss: 0.5358 - accuracy: 0.7343 - val_loss: 0.5831 - val_accuracy: 0.7087\n",
      "Epoch 105/250\n",
      "52/52 [==============================] - 0s 3ms/step - loss: 0.4922 - accuracy: 0.7541 - val_loss: 0.5298 - val_accuracy: 0.7756\n",
      "Epoch 106/250\n",
      "52/52 [==============================] - 0s 2ms/step - loss: 0.5044 - accuracy: 0.7531 - val_loss: 0.5452 - val_accuracy: 0.7717\n",
      "Epoch 107/250\n",
      "52/52 [==============================] - 0s 2ms/step - loss: 0.5086 - accuracy: 0.7522 - val_loss: 0.5444 - val_accuracy: 0.7480\n",
      "Epoch 108/250\n",
      "52/52 [==============================] - 0s 2ms/step - loss: 0.4706 - accuracy: 0.7653 - val_loss: 0.5644 - val_accuracy: 0.7205\n",
      "Epoch 109/250\n",
      "52/52 [==============================] - 0s 3ms/step - loss: 0.4928 - accuracy: 0.7478 - val_loss: 0.5506 - val_accuracy: 0.7323\n",
      "Epoch 110/250\n",
      "52/52 [==============================] - 0s 2ms/step - loss: 0.4588 - accuracy: 0.7856 - val_loss: 0.5574 - val_accuracy: 0.7205\n",
      "Epoch 111/250\n",
      "52/52 [==============================] - 0s 2ms/step - loss: 0.5091 - accuracy: 0.7382 - val_loss: 0.5313 - val_accuracy: 0.7677\n",
      "Epoch 112/250\n",
      "52/52 [==============================] - 0s 2ms/step - loss: 0.4710 - accuracy: 0.7602 - val_loss: 0.5558 - val_accuracy: 0.7205\n",
      "Epoch 113/250\n",
      "52/52 [==============================] - 0s 2ms/step - loss: 0.4798 - accuracy: 0.7670 - val_loss: 0.5841 - val_accuracy: 0.6929\n",
      "Epoch 114/250\n",
      "52/52 [==============================] - 0s 2ms/step - loss: 0.4787 - accuracy: 0.7743 - val_loss: 0.5858 - val_accuracy: 0.6929\n",
      "Epoch 115/250\n",
      "52/52 [==============================] - 0s 2ms/step - loss: 0.4872 - accuracy: 0.7501 - val_loss: 0.5364 - val_accuracy: 0.7598\n",
      "Epoch 116/250\n",
      "52/52 [==============================] - 0s 2ms/step - loss: 0.5200 - accuracy: 0.7384 - val_loss: 0.6091 - val_accuracy: 0.6890\n",
      "Epoch 117/250\n",
      "52/52 [==============================] - 0s 2ms/step - loss: 0.5001 - accuracy: 0.7468 - val_loss: 0.5532 - val_accuracy: 0.7323\n",
      "Epoch 118/250\n",
      "52/52 [==============================] - 0s 2ms/step - loss: 0.4725 - accuracy: 0.7489 - val_loss: 0.5395 - val_accuracy: 0.7480\n",
      "Epoch 119/250\n",
      "52/52 [==============================] - 0s 3ms/step - loss: 0.4796 - accuracy: 0.7742 - val_loss: 0.5499 - val_accuracy: 0.7598\n",
      "Epoch 120/250\n",
      "52/52 [==============================] - 0s 3ms/step - loss: 0.4897 - accuracy: 0.7409 - val_loss: 0.5790 - val_accuracy: 0.6969\n",
      "Epoch 121/250\n",
      "52/52 [==============================] - 0s 2ms/step - loss: 0.4963 - accuracy: 0.7304 - val_loss: 0.5501 - val_accuracy: 0.7244\n",
      "Epoch 122/250\n",
      "52/52 [==============================] - 0s 2ms/step - loss: 0.4943 - accuracy: 0.7606 - val_loss: 0.5369 - val_accuracy: 0.7598\n",
      "Epoch 123/250\n",
      "52/52 [==============================] - 0s 2ms/step - loss: 0.5323 - accuracy: 0.7194 - val_loss: 0.5706 - val_accuracy: 0.6929\n",
      "Epoch 124/250\n",
      "52/52 [==============================] - 0s 3ms/step - loss: 0.4480 - accuracy: 0.8012 - val_loss: 0.5476 - val_accuracy: 0.7362\n",
      "Epoch 125/250\n",
      "52/52 [==============================] - 0s 3ms/step - loss: 0.5076 - accuracy: 0.7405 - val_loss: 0.5266 - val_accuracy: 0.7638\n",
      "Epoch 126/250\n",
      "52/52 [==============================] - 0s 2ms/step - loss: 0.5019 - accuracy: 0.7392 - val_loss: 0.5362 - val_accuracy: 0.7362\n",
      "Epoch 127/250\n",
      "52/52 [==============================] - 0s 2ms/step - loss: 0.4836 - accuracy: 0.7559 - val_loss: 0.5316 - val_accuracy: 0.7638\n",
      "Epoch 128/250\n",
      "52/52 [==============================] - 0s 2ms/step - loss: 0.4760 - accuracy: 0.7642 - val_loss: 0.5272 - val_accuracy: 0.7402\n",
      "Epoch 129/250\n",
      "52/52 [==============================] - 0s 3ms/step - loss: 0.5141 - accuracy: 0.7102 - val_loss: 0.5449 - val_accuracy: 0.7165\n",
      "Epoch 130/250\n",
      "52/52 [==============================] - 0s 3ms/step - loss: 0.4673 - accuracy: 0.7649 - val_loss: 0.5568 - val_accuracy: 0.7559\n",
      "Epoch 131/250\n",
      "52/52 [==============================] - 0s 2ms/step - loss: 0.4953 - accuracy: 0.7688 - val_loss: 0.5306 - val_accuracy: 0.7717\n",
      "Epoch 132/250\n",
      "52/52 [==============================] - 0s 3ms/step - loss: 0.4688 - accuracy: 0.7728 - val_loss: 0.5418 - val_accuracy: 0.7441\n",
      "Epoch 133/250\n",
      "52/52 [==============================] - 0s 2ms/step - loss: 0.5009 - accuracy: 0.7668 - val_loss: 0.5374 - val_accuracy: 0.7638\n",
      "Epoch 134/250\n",
      "52/52 [==============================] - 0s 2ms/step - loss: 0.4726 - accuracy: 0.7851 - val_loss: 0.5346 - val_accuracy: 0.7874\n",
      "Epoch 135/250\n",
      "52/52 [==============================] - 0s 2ms/step - loss: 0.5078 - accuracy: 0.7269 - val_loss: 0.5609 - val_accuracy: 0.7087\n",
      "Epoch 136/250\n",
      "52/52 [==============================] - 0s 3ms/step - loss: 0.4871 - accuracy: 0.7630 - val_loss: 0.5560 - val_accuracy: 0.7520\n",
      "Epoch 137/250\n",
      "52/52 [==============================] - 0s 3ms/step - loss: 0.4658 - accuracy: 0.7933 - val_loss: 0.5499 - val_accuracy: 0.7559\n",
      "Epoch 138/250\n",
      "52/52 [==============================] - 0s 3ms/step - loss: 0.5292 - accuracy: 0.7342 - val_loss: 0.5262 - val_accuracy: 0.7835\n",
      "Epoch 139/250\n",
      "52/52 [==============================] - 0s 3ms/step - loss: 0.5000 - accuracy: 0.7560 - val_loss: 0.5383 - val_accuracy: 0.7480\n",
      "Epoch 140/250\n",
      "52/52 [==============================] - 0s 2ms/step - loss: 0.4490 - accuracy: 0.7856 - val_loss: 0.5399 - val_accuracy: 0.7598\n",
      "Epoch 141/250\n",
      "52/52 [==============================] - 0s 3ms/step - loss: 0.4871 - accuracy: 0.7500 - val_loss: 0.5294 - val_accuracy: 0.7480\n",
      "Epoch 142/250\n",
      "52/52 [==============================] - 0s 2ms/step - loss: 0.4809 - accuracy: 0.7493 - val_loss: 0.5205 - val_accuracy: 0.7756\n",
      "Epoch 143/250\n",
      "52/52 [==============================] - 0s 2ms/step - loss: 0.5017 - accuracy: 0.7552 - val_loss: 0.5965 - val_accuracy: 0.6929\n",
      "Epoch 144/250\n",
      "52/52 [==============================] - 0s 2ms/step - loss: 0.4547 - accuracy: 0.7762 - val_loss: 0.5503 - val_accuracy: 0.7362\n",
      "Epoch 145/250\n",
      "52/52 [==============================] - 0s 3ms/step - loss: 0.4575 - accuracy: 0.7993 - val_loss: 0.5592 - val_accuracy: 0.7283\n",
      "Epoch 146/250\n",
      "52/52 [==============================] - 0s 2ms/step - loss: 0.4869 - accuracy: 0.7665 - val_loss: 0.5244 - val_accuracy: 0.7717\n",
      "Epoch 147/250\n",
      "52/52 [==============================] - 0s 2ms/step - loss: 0.4748 - accuracy: 0.7643 - val_loss: 0.5314 - val_accuracy: 0.7795\n",
      "Epoch 148/250\n",
      "52/52 [==============================] - 0s 3ms/step - loss: 0.4912 - accuracy: 0.7481 - val_loss: 0.5372 - val_accuracy: 0.7638\n",
      "Epoch 149/250\n",
      "52/52 [==============================] - 0s 3ms/step - loss: 0.4688 - accuracy: 0.7698 - val_loss: 0.5457 - val_accuracy: 0.7165\n",
      "Epoch 150/250\n",
      "52/52 [==============================] - 0s 2ms/step - loss: 0.4418 - accuracy: 0.7710 - val_loss: 0.5344 - val_accuracy: 0.7402\n",
      "Epoch 151/250\n",
      "52/52 [==============================] - 0s 3ms/step - loss: 0.4577 - accuracy: 0.7926 - val_loss: 0.5501 - val_accuracy: 0.7205\n",
      "Epoch 152/250\n",
      "52/52 [==============================] - 0s 3ms/step - loss: 0.5075 - accuracy: 0.7406 - val_loss: 0.5332 - val_accuracy: 0.7559\n",
      "Epoch 153/250\n",
      "52/52 [==============================] - 0s 3ms/step - loss: 0.4408 - accuracy: 0.7937 - val_loss: 0.5529 - val_accuracy: 0.7165\n",
      "Epoch 154/250\n",
      "52/52 [==============================] - 0s 2ms/step - loss: 0.4770 - accuracy: 0.7767 - val_loss: 0.5962 - val_accuracy: 0.6969\n",
      "Epoch 155/250\n",
      "52/52 [==============================] - 0s 3ms/step - loss: 0.5101 - accuracy: 0.7589 - val_loss: 0.5661 - val_accuracy: 0.6969\n",
      "Epoch 156/250\n",
      "52/52 [==============================] - 0s 2ms/step - loss: 0.4681 - accuracy: 0.7762 - val_loss: 0.5281 - val_accuracy: 0.7520\n",
      "Epoch 157/250\n",
      "52/52 [==============================] - 0s 3ms/step - loss: 0.4880 - accuracy: 0.7488 - val_loss: 0.5408 - val_accuracy: 0.7480\n",
      "Epoch 158/250\n",
      "52/52 [==============================] - 0s 2ms/step - loss: 0.4976 - accuracy: 0.7530 - val_loss: 0.5357 - val_accuracy: 0.7323\n",
      "Epoch 159/250\n",
      "52/52 [==============================] - 0s 3ms/step - loss: 0.4813 - accuracy: 0.7558 - val_loss: 0.5510 - val_accuracy: 0.7244\n",
      "Epoch 160/250\n",
      "52/52 [==============================] - 0s 3ms/step - loss: 0.4839 - accuracy: 0.7678 - val_loss: 0.5226 - val_accuracy: 0.7402\n",
      "Epoch 161/250\n",
      "52/52 [==============================] - 0s 2ms/step - loss: 0.4849 - accuracy: 0.7484 - val_loss: 0.5144 - val_accuracy: 0.7835\n",
      "Epoch 162/250\n",
      "52/52 [==============================] - 0s 3ms/step - loss: 0.4914 - accuracy: 0.7402 - val_loss: 0.5495 - val_accuracy: 0.7638\n",
      "Epoch 163/250\n",
      "52/52 [==============================] - 0s 3ms/step - loss: 0.4874 - accuracy: 0.7295 - val_loss: 0.5308 - val_accuracy: 0.7480\n",
      "Epoch 164/250\n",
      "52/52 [==============================] - 0s 2ms/step - loss: 0.4930 - accuracy: 0.7662 - val_loss: 0.5311 - val_accuracy: 0.7717\n",
      "Epoch 165/250\n",
      "52/52 [==============================] - 0s 3ms/step - loss: 0.4972 - accuracy: 0.7595 - val_loss: 0.5176 - val_accuracy: 0.7835\n",
      "Epoch 166/250\n",
      "52/52 [==============================] - 0s 3ms/step - loss: 0.4742 - accuracy: 0.7585 - val_loss: 0.5129 - val_accuracy: 0.7913\n",
      "Epoch 167/250\n",
      "52/52 [==============================] - 0s 3ms/step - loss: 0.4858 - accuracy: 0.7747 - val_loss: 0.5288 - val_accuracy: 0.7559\n",
      "Epoch 168/250\n",
      "52/52 [==============================] - 0s 2ms/step - loss: 0.4297 - accuracy: 0.7968 - val_loss: 0.5428 - val_accuracy: 0.7323\n",
      "Epoch 169/250\n",
      "52/52 [==============================] - 0s 2ms/step - loss: 0.4601 - accuracy: 0.7803 - val_loss: 0.5205 - val_accuracy: 0.7441\n",
      "Epoch 170/250\n",
      "52/52 [==============================] - 0s 2ms/step - loss: 0.4668 - accuracy: 0.7640 - val_loss: 0.5337 - val_accuracy: 0.7520\n",
      "Epoch 171/250\n",
      "52/52 [==============================] - 0s 2ms/step - loss: 0.4730 - accuracy: 0.7802 - val_loss: 0.5167 - val_accuracy: 0.7717\n",
      "Epoch 172/250\n",
      "52/52 [==============================] - 0s 3ms/step - loss: 0.4756 - accuracy: 0.7658 - val_loss: 0.5187 - val_accuracy: 0.7756\n",
      "Epoch 173/250\n",
      "52/52 [==============================] - 0s 3ms/step - loss: 0.4687 - accuracy: 0.7565 - val_loss: 0.5640 - val_accuracy: 0.7165\n",
      "Epoch 174/250\n",
      "52/52 [==============================] - 0s 3ms/step - loss: 0.4651 - accuracy: 0.7757 - val_loss: 0.5458 - val_accuracy: 0.7638\n",
      "Epoch 175/250\n",
      "52/52 [==============================] - 0s 3ms/step - loss: 0.4964 - accuracy: 0.7319 - val_loss: 0.5283 - val_accuracy: 0.7362\n",
      "Epoch 176/250\n",
      "52/52 [==============================] - 0s 2ms/step - loss: 0.4655 - accuracy: 0.7634 - val_loss: 0.5525 - val_accuracy: 0.7362\n",
      "Epoch 177/250\n",
      "52/52 [==============================] - 0s 2ms/step - loss: 0.4538 - accuracy: 0.7965 - val_loss: 0.5247 - val_accuracy: 0.7598\n",
      "Epoch 178/250\n",
      "52/52 [==============================] - 0s 3ms/step - loss: 0.4530 - accuracy: 0.7668 - val_loss: 0.5397 - val_accuracy: 0.7441\n",
      "Epoch 179/250\n",
      "52/52 [==============================] - 0s 2ms/step - loss: 0.4851 - accuracy: 0.7709 - val_loss: 0.5159 - val_accuracy: 0.7441\n",
      "Epoch 180/250\n",
      "52/52 [==============================] - 0s 2ms/step - loss: 0.4571 - accuracy: 0.7821 - val_loss: 0.5421 - val_accuracy: 0.7165\n",
      "Epoch 181/250\n",
      "52/52 [==============================] - 0s 3ms/step - loss: 0.4773 - accuracy: 0.7670 - val_loss: 0.5243 - val_accuracy: 0.7520\n",
      "Epoch 182/250\n",
      "52/52 [==============================] - 0s 3ms/step - loss: 0.4570 - accuracy: 0.7775 - val_loss: 0.5346 - val_accuracy: 0.7559\n",
      "Epoch 183/250\n",
      "52/52 [==============================] - 0s 2ms/step - loss: 0.4861 - accuracy: 0.7548 - val_loss: 0.5148 - val_accuracy: 0.7835\n",
      "Epoch 184/250\n",
      "52/52 [==============================] - 0s 3ms/step - loss: 0.4561 - accuracy: 0.7645 - val_loss: 0.5144 - val_accuracy: 0.7559\n",
      "Epoch 185/250\n",
      "52/52 [==============================] - 0s 2ms/step - loss: 0.4832 - accuracy: 0.7407 - val_loss: 0.5332 - val_accuracy: 0.7559\n",
      "Epoch 186/250\n",
      "52/52 [==============================] - 0s 2ms/step - loss: 0.4702 - accuracy: 0.7713 - val_loss: 0.5195 - val_accuracy: 0.7402\n",
      "Epoch 187/250\n",
      "52/52 [==============================] - 0s 2ms/step - loss: 0.4596 - accuracy: 0.7613 - val_loss: 0.5182 - val_accuracy: 0.7874\n",
      "Epoch 188/250\n",
      "52/52 [==============================] - 0s 2ms/step - loss: 0.4565 - accuracy: 0.7711 - val_loss: 0.5209 - val_accuracy: 0.7717\n",
      "Epoch 189/250\n",
      "52/52 [==============================] - 0s 2ms/step - loss: 0.4578 - accuracy: 0.7684 - val_loss: 0.5199 - val_accuracy: 0.7717\n",
      "Epoch 190/250\n",
      "52/52 [==============================] - 0s 2ms/step - loss: 0.4680 - accuracy: 0.7746 - val_loss: 0.5330 - val_accuracy: 0.7441\n",
      "Epoch 191/250\n",
      "52/52 [==============================] - 0s 2ms/step - loss: 0.4585 - accuracy: 0.7711 - val_loss: 0.5152 - val_accuracy: 0.7677\n",
      "Epoch 192/250\n",
      "52/52 [==============================] - 0s 2ms/step - loss: 0.4635 - accuracy: 0.7686 - val_loss: 0.5349 - val_accuracy: 0.7717\n",
      "Epoch 193/250\n",
      "52/52 [==============================] - 0s 2ms/step - loss: 0.4478 - accuracy: 0.7849 - val_loss: 0.5241 - val_accuracy: 0.7402\n",
      "Epoch 194/250\n",
      "52/52 [==============================] - 0s 2ms/step - loss: 0.5090 - accuracy: 0.7509 - val_loss: 0.5316 - val_accuracy: 0.7677\n",
      "Epoch 195/250\n",
      "52/52 [==============================] - 0s 3ms/step - loss: 0.4717 - accuracy: 0.7647 - val_loss: 0.5052 - val_accuracy: 0.7835\n",
      "Epoch 196/250\n",
      "52/52 [==============================] - 0s 3ms/step - loss: 0.4234 - accuracy: 0.8116 - val_loss: 0.5336 - val_accuracy: 0.7638\n",
      "Epoch 197/250\n",
      "52/52 [==============================] - 0s 2ms/step - loss: 0.4474 - accuracy: 0.7826 - val_loss: 0.5561 - val_accuracy: 0.7165\n",
      "Epoch 198/250\n",
      "52/52 [==============================] - 0s 3ms/step - loss: 0.4778 - accuracy: 0.7324 - val_loss: 0.5472 - val_accuracy: 0.7126\n",
      "Epoch 199/250\n",
      "52/52 [==============================] - 0s 2ms/step - loss: 0.4537 - accuracy: 0.7939 - val_loss: 0.5256 - val_accuracy: 0.7638\n",
      "Epoch 200/250\n",
      "52/52 [==============================] - 0s 2ms/step - loss: 0.4652 - accuracy: 0.7633 - val_loss: 0.5104 - val_accuracy: 0.7717\n",
      "Epoch 201/250\n",
      "52/52 [==============================] - 0s 2ms/step - loss: 0.4830 - accuracy: 0.7621 - val_loss: 0.5356 - val_accuracy: 0.7598\n",
      "Epoch 202/250\n",
      "52/52 [==============================] - 0s 3ms/step - loss: 0.4670 - accuracy: 0.7469 - val_loss: 0.5033 - val_accuracy: 0.7795\n",
      "Epoch 203/250\n",
      "52/52 [==============================] - 0s 3ms/step - loss: 0.4537 - accuracy: 0.7839 - val_loss: 0.5257 - val_accuracy: 0.7677\n",
      "Epoch 204/250\n",
      "52/52 [==============================] - 0s 3ms/step - loss: 0.4935 - accuracy: 0.7531 - val_loss: 0.5248 - val_accuracy: 0.7244\n",
      "Epoch 205/250\n",
      "52/52 [==============================] - 0s 3ms/step - loss: 0.4838 - accuracy: 0.7543 - val_loss: 0.5072 - val_accuracy: 0.7520\n",
      "Epoch 206/250\n",
      "52/52 [==============================] - 0s 3ms/step - loss: 0.4729 - accuracy: 0.7625 - val_loss: 0.5095 - val_accuracy: 0.7756\n",
      "Epoch 207/250\n",
      "52/52 [==============================] - 0s 2ms/step - loss: 0.4753 - accuracy: 0.7673 - val_loss: 0.5430 - val_accuracy: 0.7205\n",
      "Epoch 208/250\n",
      "52/52 [==============================] - 0s 2ms/step - loss: 0.4595 - accuracy: 0.7860 - val_loss: 0.5453 - val_accuracy: 0.7598\n",
      "Epoch 209/250\n",
      "52/52 [==============================] - 0s 2ms/step - loss: 0.4720 - accuracy: 0.7353 - val_loss: 0.5335 - val_accuracy: 0.7598\n",
      "Epoch 210/250\n",
      "52/52 [==============================] - 0s 2ms/step - loss: 0.4431 - accuracy: 0.7699 - val_loss: 0.5240 - val_accuracy: 0.7480\n",
      "Epoch 211/250\n",
      "52/52 [==============================] - 0s 3ms/step - loss: 0.4352 - accuracy: 0.7849 - val_loss: 0.5335 - val_accuracy: 0.7598\n",
      "Epoch 212/250\n",
      "52/52 [==============================] - 0s 3ms/step - loss: 0.4597 - accuracy: 0.7942 - val_loss: 0.5595 - val_accuracy: 0.7244\n",
      "Epoch 213/250\n",
      "52/52 [==============================] - 0s 2ms/step - loss: 0.4701 - accuracy: 0.7856 - val_loss: 0.5071 - val_accuracy: 0.7874\n",
      "Epoch 214/250\n",
      "52/52 [==============================] - 0s 3ms/step - loss: 0.4839 - accuracy: 0.7528 - val_loss: 0.5135 - val_accuracy: 0.7756\n",
      "Epoch 215/250\n",
      "52/52 [==============================] - 0s 2ms/step - loss: 0.4828 - accuracy: 0.7487 - val_loss: 0.5328 - val_accuracy: 0.7441\n",
      "Epoch 216/250\n",
      "52/52 [==============================] - 0s 3ms/step - loss: 0.4971 - accuracy: 0.7621 - val_loss: 0.5143 - val_accuracy: 0.7756\n",
      "Epoch 217/250\n",
      "52/52 [==============================] - 0s 3ms/step - loss: 0.5061 - accuracy: 0.7491 - val_loss: 0.5015 - val_accuracy: 0.7874\n",
      "Epoch 218/250\n",
      "52/52 [==============================] - 0s 2ms/step - loss: 0.4459 - accuracy: 0.7473 - val_loss: 0.4998 - val_accuracy: 0.7795\n",
      "Epoch 219/250\n",
      "52/52 [==============================] - 0s 3ms/step - loss: 0.4544 - accuracy: 0.7717 - val_loss: 0.5034 - val_accuracy: 0.8031\n",
      "Epoch 220/250\n",
      "52/52 [==============================] - 0s 3ms/step - loss: 0.4524 - accuracy: 0.7565 - val_loss: 0.5175 - val_accuracy: 0.7520\n",
      "Epoch 221/250\n",
      "52/52 [==============================] - 0s 3ms/step - loss: 0.4444 - accuracy: 0.7926 - val_loss: 0.5256 - val_accuracy: 0.7520\n",
      "Epoch 222/250\n",
      "52/52 [==============================] - 0s 3ms/step - loss: 0.4541 - accuracy: 0.7652 - val_loss: 0.5143 - val_accuracy: 0.7795\n",
      "Epoch 223/250\n",
      "52/52 [==============================] - 0s 2ms/step - loss: 0.4233 - accuracy: 0.7819 - val_loss: 0.5058 - val_accuracy: 0.7835\n",
      "Epoch 224/250\n",
      "52/52 [==============================] - 0s 3ms/step - loss: 0.4499 - accuracy: 0.7782 - val_loss: 0.5064 - val_accuracy: 0.7677\n",
      "Epoch 225/250\n",
      "52/52 [==============================] - 0s 2ms/step - loss: 0.4660 - accuracy: 0.7655 - val_loss: 0.5138 - val_accuracy: 0.7598\n",
      "Epoch 226/250\n",
      "52/52 [==============================] - 0s 2ms/step - loss: 0.4507 - accuracy: 0.7856 - val_loss: 0.4990 - val_accuracy: 0.7795\n",
      "Epoch 227/250\n",
      "52/52 [==============================] - 0s 3ms/step - loss: 0.4707 - accuracy: 0.7618 - val_loss: 0.5104 - val_accuracy: 0.7795\n",
      "Epoch 228/250\n",
      "52/52 [==============================] - 0s 3ms/step - loss: 0.4587 - accuracy: 0.7747 - val_loss: 0.5054 - val_accuracy: 0.7953\n",
      "Epoch 229/250\n",
      "52/52 [==============================] - 0s 2ms/step - loss: 0.4409 - accuracy: 0.7753 - val_loss: 0.4988 - val_accuracy: 0.7756\n",
      "Epoch 230/250\n",
      "52/52 [==============================] - 0s 2ms/step - loss: 0.4769 - accuracy: 0.7487 - val_loss: 0.5228 - val_accuracy: 0.7598\n",
      "Epoch 231/250\n",
      "52/52 [==============================] - 0s 2ms/step - loss: 0.4657 - accuracy: 0.7566 - val_loss: 0.5208 - val_accuracy: 0.7441\n",
      "Epoch 232/250\n",
      "52/52 [==============================] - 0s 3ms/step - loss: 0.4153 - accuracy: 0.7924 - val_loss: 0.5549 - val_accuracy: 0.7323\n",
      "Epoch 233/250\n",
      "52/52 [==============================] - 0s 3ms/step - loss: 0.4302 - accuracy: 0.7898 - val_loss: 0.5112 - val_accuracy: 0.7677\n",
      "Epoch 234/250\n",
      "52/52 [==============================] - 0s 3ms/step - loss: 0.4560 - accuracy: 0.7768 - val_loss: 0.5173 - val_accuracy: 0.7874\n",
      "Epoch 235/250\n",
      "52/52 [==============================] - 0s 3ms/step - loss: 0.4467 - accuracy: 0.7723 - val_loss: 0.5272 - val_accuracy: 0.7480\n",
      "Epoch 236/250\n",
      "52/52 [==============================] - 0s 3ms/step - loss: 0.4382 - accuracy: 0.7883 - val_loss: 0.5054 - val_accuracy: 0.7913\n",
      "Epoch 237/250\n",
      "52/52 [==============================] - 0s 3ms/step - loss: 0.4540 - accuracy: 0.7710 - val_loss: 0.5269 - val_accuracy: 0.7402\n",
      "Epoch 238/250\n",
      "52/52 [==============================] - 0s 3ms/step - loss: 0.4963 - accuracy: 0.7506 - val_loss: 0.5101 - val_accuracy: 0.7677\n",
      "Epoch 239/250\n",
      "52/52 [==============================] - 0s 2ms/step - loss: 0.4788 - accuracy: 0.7752 - val_loss: 0.5471 - val_accuracy: 0.7126\n",
      "Epoch 240/250\n",
      "52/52 [==============================] - 0s 2ms/step - loss: 0.4629 - accuracy: 0.7620 - val_loss: 0.5097 - val_accuracy: 0.7598\n",
      "Epoch 241/250\n",
      "52/52 [==============================] - 0s 2ms/step - loss: 0.4552 - accuracy: 0.7782 - val_loss: 0.5265 - val_accuracy: 0.7638\n",
      "Epoch 242/250\n",
      "52/52 [==============================] - 0s 3ms/step - loss: 0.4612 - accuracy: 0.7702 - val_loss: 0.5099 - val_accuracy: 0.7638\n",
      "Epoch 243/250\n",
      "52/52 [==============================] - 0s 2ms/step - loss: 0.4829 - accuracy: 0.7507 - val_loss: 0.5182 - val_accuracy: 0.7835\n",
      "Epoch 244/250\n",
      "52/52 [==============================] - 0s 3ms/step - loss: 0.4553 - accuracy: 0.7775 - val_loss: 0.5103 - val_accuracy: 0.7756\n",
      "Epoch 245/250\n",
      "52/52 [==============================] - 0s 3ms/step - loss: 0.4570 - accuracy: 0.7801 - val_loss: 0.5187 - val_accuracy: 0.7480\n",
      "Epoch 246/250\n",
      "52/52 [==============================] - 0s 2ms/step - loss: 0.4515 - accuracy: 0.7777 - val_loss: 0.5190 - val_accuracy: 0.7559\n",
      "Epoch 247/250\n",
      "52/52 [==============================] - 0s 2ms/step - loss: 0.4677 - accuracy: 0.7700 - val_loss: 0.5219 - val_accuracy: 0.7598\n",
      "Epoch 248/250\n",
      "52/52 [==============================] - 0s 3ms/step - loss: 0.4983 - accuracy: 0.7392 - val_loss: 0.5058 - val_accuracy: 0.7717\n",
      "Epoch 249/250\n",
      "52/52 [==============================] - 0s 3ms/step - loss: 0.4172 - accuracy: 0.8028 - val_loss: 0.5270 - val_accuracy: 0.7559\n",
      "Epoch 250/250\n",
      "52/52 [==============================] - 0s 2ms/step - loss: 0.4622 - accuracy: 0.7707 - val_loss: 0.5060 - val_accuracy: 0.7598\n"
     ]
    }
   ],
   "source": [
    "# Fit the model\n",
    "history = model.fit(X, Y, validation_split=0.33, epochs=250, batch_size=10)"
   ]
  },
  {
   "cell_type": "code",
   "execution_count": 9,
   "metadata": {
    "colab": {
     "base_uri": "https://localhost:8080/"
    },
    "executionInfo": {
     "elapsed": 351,
     "status": "ok",
     "timestamp": 1627111396512,
     "user": {
      "displayName": "Jaspal Singh Jhass",
      "photoUrl": "",
      "userId": "14870781376371902378"
     },
     "user_tz": -330
    },
    "id": "QDxQes17iOeC",
    "outputId": "888d74ff-fbfd-4d65-8fc9-ec08549841bf"
   },
   "outputs": [
    {
     "name": "stdout",
     "output_type": "stream",
     "text": [
      "24/24 [==============================] - 0s 2ms/step - loss: 0.4615 - accuracy: 0.7799\n",
      "accuracy: 77.99%\n"
     ]
    }
   ],
   "source": [
    "# evaluate the model\n",
    "scores = model.evaluate(X, Y)\n",
    "print(\"%s: %.2f%%\" % (model.metrics_names[1], scores[1]*100))"
   ]
  },
  {
   "cell_type": "code",
   "execution_count": 10,
   "metadata": {
    "colab": {
     "base_uri": "https://localhost:8080/"
    },
    "executionInfo": {
     "elapsed": 3,
     "status": "ok",
     "timestamp": 1627111397089,
     "user": {
      "displayName": "Jaspal Singh Jhass",
      "photoUrl": "",
      "userId": "14870781376371902378"
     },
     "user_tz": -330
    },
    "id": "qXJjG0hyiOeC",
    "outputId": "b3072a35-9461-44cd-fa30-cb29d1dcfc08"
   },
   "outputs": [
    {
     "data": {
      "text/plain": [
       "dict_keys(['loss', 'accuracy', 'val_loss', 'val_accuracy'])"
      ]
     },
     "execution_count": 10,
     "metadata": {
      "tags": []
     },
     "output_type": "execute_result"
    }
   ],
   "source": [
    "# Visualize training history\n",
    "\n",
    "# list all data in history\n",
    "history.history.keys()\n",
    "\n"
   ]
  },
  {
   "cell_type": "code",
   "execution_count": 11,
   "metadata": {
    "colab": {
     "base_uri": "https://localhost:8080/",
     "height": 573
    },
    "executionInfo": {
     "elapsed": 1502,
     "status": "ok",
     "timestamp": 1627111403521,
     "user": {
      "displayName": "Jaspal Singh Jhass",
      "photoUrl": "",
      "userId": "14870781376371902378"
     },
     "user_tz": -330
    },
    "id": "rg48aQ4ziOeC",
    "outputId": "611c0883-c352-4b73-896f-8be9e66dcb16"
   },
   "outputs": [
    {
     "data": {
      "image/png": "[encoded data removed]",
      "text/plain": [
       "<Figure size 432x288 with 1 Axes>"
      ]
     },
     "metadata": {
      "needs_background": "light",
      "tags": []
     },
     "output_type": "display_data"
    },
    {
     "data": {
      "image/png": "[encoded data removed]",
      "text/plain": [
       "<Figure size 432x288 with 1 Axes>"
      ]
     },
     "metadata": {
      "needs_background": "light",
      "tags": []
     },
     "output_type": "display_data"
    }
   ],
   "source": [
    "# summarize history for accuracy\n",
    "import matplotlib.pyplot as plt\n",
    "plt.plot(history.history['accuracy'])\n",
    "plt.plot(history.history['val_accuracy'])\n",
    "plt.title('model accuracy')\n",
    "plt.ylabel('accuracy')\n",
    "plt.xlabel('epoch')\n",
    "plt.legend(['train', 'test'], loc='upper left')\n",
    "plt.show()\n",
    "# summarize history for loss\n",
    "plt.plot(history.history['loss'])\n",
    "plt.plot(history.history['val_loss'])\n",
    "plt.title('model loss')\n",
    "plt.ylabel('loss')\n",
    "plt.xlabel('epoch')\n",
    "plt.legend(['train', 'test'], loc='upper left')\n",
    "plt.show()\n"
   ]
  },
  {
   "cell_type": "code",
   "execution_count": null,
   "metadata": {
    "id": "6e57Dg0-iOeD"
   },
   "outputs": [],
   "source": []
  }
 ],
 "metadata": {
  "colab": {
   "name": "1.Neural Network_Back Propagation.ipynb",
   "provenance": []
  },
  "kernelspec": {
   "display_name": "Python 3",
   "language": "python",
   "name": "python3"
  },
  "language_info": {
   "codemirror_mode": {
    "name": "ipython",
    "version": 3
   },
   "file_extension": ".py",
   "mimetype": "text/x-python",
   "name": "python",
   "nbconvert_exporter": "python",
   "pygments_lexer": "ipython3",
   "version": "3.8.8"
  }
 },
 "nbformat": 4,
 "nbformat_minor": 1
}
