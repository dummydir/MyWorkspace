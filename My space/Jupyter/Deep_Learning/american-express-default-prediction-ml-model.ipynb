{
 "cells": [
  {
   "cell_type": "markdown",
   "id": "76273951",
   "metadata": {
    "papermill": {
     "duration": 0.019257,
     "end_time": "2022-08-14T13:27:12.261683",
     "exception": false,
     "start_time": "2022-08-14T13:27:12.242426",
     "status": "completed"
    },
    "tags": []
   },
   "source": [
    "---\n",
    "# Introduction\n",
    "\n",
    "---"
   ]
  },
  {
   "cell_type": "markdown",
   "id": "6fbbc8c7",
   "metadata": {
    "papermill": {
     "duration": 0.020004,
     "end_time": "2022-08-14T13:27:12.299373",
     "exception": false,
     "start_time": "2022-08-14T13:27:12.279369",
     "status": "completed"
    },
    "tags": []
   },
   "source": [
    "**Problem Statement:**\n",
    "\n",
    "* Whether out at a restaurant or buying tickets to a concert, modern life counts on the convenience of a credit card to make daily purchases. It saves us from carrying large amounts of cash and also can advance a full purchase that can be paid over time.\n",
    "* How do card issuers know we’ll pay back what we charge? That’s a complex problem with many existing solutions—and even more potential improvements, to be explored in this competition.\n",
    "* Credit default prediction is central to managing risk in a consumer lending business. \n",
    " * Credit default prediction allows lenders to optimize lending decisions, which leads to a better customer experience and sound business economics. \n",
    "* Current models exist to help manage risk. But it's possible to create better models that can outperform those currently in use.\n",
    "\n",
    "* The objective of this competition is to predict the probability that a customer does not pay back their credit card balance amount in the future based on their monthly customer profile. \n",
    " * The target binary variable is calculated by observing 18 months performance window after the latest credit card statement, and if the customer does not pay due amount in 120 days after their latest statement date it is considered a default event."
   ]
  },
  {
   "cell_type": "markdown",
   "id": "03f4c2de",
   "metadata": {
    "papermill": {
     "duration": 0.017005,
     "end_time": "2022-08-14T13:27:12.333937",
     "exception": false,
     "start_time": "2022-08-14T13:27:12.316932",
     "status": "completed"
    },
    "tags": []
   },
   "source": [
    "---\n",
    "**Importing Libraries:**\n",
    "* To get started we will use Python for data pre-processing and model building.\n",
    "* Import python libraries as necessary to get started for data load and later import other libraries as needed\n",
    "---"
   ]
  },
  {
   "cell_type": "code",
   "execution_count": 1,
   "id": "d517852e",
   "metadata": {
    "_kg_hide-input": true,
    "execution": {
     "iopub.execute_input": "2022-08-14T13:27:12.372914Z",
     "iopub.status.busy": "2022-08-14T13:27:12.372228Z",
     "iopub.status.idle": "2022-08-14T13:27:15.160194Z",
     "shell.execute_reply": "2022-08-14T13:27:15.158489Z"
    },
    "papermill": {
     "duration": 2.81161,
     "end_time": "2022-08-14T13:27:15.163306",
     "exception": false,
     "start_time": "2022-08-14T13:27:12.351696",
     "status": "completed"
    },
    "tags": []
   },
   "outputs": [],
   "source": [
    "import numpy as np \n",
    "# data processing, CSV file I/O (e.g. pd.read_csv)\n",
    "import pandas as pd \n",
    "# module finds all the pathnames matching a specified pattern\n",
    "import glob \n",
    "import os\n",
    "# importing pyplot interface using matplotlib\n",
    "import matplotlib.pyplot as plt \n",
    "# importing seaborn library for interactive visualization\n",
    "import seaborn as sns \n",
    "# Importing WordCloud for text data visualization\n",
    "from wordcloud import WordCloud\n",
    "# importing matplotlib for plots\n",
    "import matplotlib\n",
    "# importing datetime for using datetime\n",
    "from datetime import datetime\n",
    "# importing plotly for interactive plots\n",
    "import plotly.express as px\n",
    "# importing missingno for missing value plot\n",
    "import missingno as msno\n",
    "# importing regex library for use of regex\n",
    "import re\n",
    "# importing Counter for counting :)\n",
    "from collections import Counter\n",
    "\n",
    "import plotly.graph_objs as go"
   ]
  },
  {
   "cell_type": "code",
   "execution_count": 2,
   "id": "ad9679ae",
   "metadata": {
    "_kg_hide-input": true,
    "execution": {
     "iopub.execute_input": "2022-08-14T13:27:15.203228Z",
     "iopub.status.busy": "2022-08-14T13:27:15.202683Z",
     "iopub.status.idle": "2022-08-14T13:27:15.970562Z",
     "shell.execute_reply": "2022-08-14T13:27:15.969035Z"
    },
    "papermill": {
     "duration": 0.79212,
     "end_time": "2022-08-14T13:27:15.973330",
     "exception": false,
     "start_time": "2022-08-14T13:27:15.181210",
     "status": "completed"
    },
    "tags": []
   },
   "outputs": [],
   "source": [
    "# importing SimpleImputer for handling missing value\n",
    "from sklearn.impute import SimpleImputer\n",
    "# importing MissingIndicator for handling missing value\n",
    "from sklearn.impute import MissingIndicator\n",
    "# importing StandardScaler for standardization\n",
    "from sklearn.preprocessing import StandardScaler\n",
    "# importing OnHotEncoder for encoding categorical variable\n",
    "from sklearn.preprocessing import OneHotEncoder\n",
    "# importing for transformation\n",
    "from sklearn.compose import ColumnTransformer\n",
    "from sklearn.compose import make_column_transformer\n",
    "from sklearn.compose import make_column_selector\n",
    "# importing PCA for handling dimensonality reduction\n",
    "from sklearn.decomposition import PCA\n",
    "\n",
    "# importing pipeline for chaining model building activities\n",
    "#from sklearn.pipeline import Pipeline\n",
    "#from sklearn.pipeline import make_pipeline\n",
    "from imblearn.pipeline import Pipeline\n",
    "from imblearn.pipeline import make_pipeline as mp\n",
    "# importing FeatureUnion for combining transformers\n",
    "from sklearn.pipeline import FeatureUnion\n",
    "\n",
    "# importing SMOTEENN for handling data imbalance\n",
    "from imblearn.combine import SMOTEENN \n",
    "# importing SMOTE for handling data imbalance\n",
    "from imblearn.over_sampling import SMOTE\n",
    "# importing RandomOverSampler for oversampling\n",
    "from imblearn.over_sampling import RandomOverSampler \n",
    "# importing RandomUnderSampler for undersampling\n",
    "from imblearn.under_sampling import RandomUnderSampler \n",
    "\n",
    "# importing SelectFromModel to select features from model using Yellow bricks\n",
    "from sklearn.feature_selection import SelectFromModel               \n",
    "from yellowbrick.model_selection import FeatureImportances   "
   ]
  },
  {
   "cell_type": "code",
   "execution_count": 3,
   "id": "7dc8bce8",
   "metadata": {
    "_kg_hide-input": true,
    "execution": {
     "iopub.execute_input": "2022-08-14T13:27:16.015163Z",
     "iopub.status.busy": "2022-08-14T13:27:16.014386Z",
     "iopub.status.idle": "2022-08-14T13:27:16.177319Z",
     "shell.execute_reply": "2022-08-14T13:27:16.175895Z"
    },
    "papermill": {
     "duration": 0.186679,
     "end_time": "2022-08-14T13:27:16.180055",
     "exception": false,
     "start_time": "2022-08-14T13:27:15.993376",
     "status": "completed"
    },
    "tags": []
   },
   "outputs": [],
   "source": [
    "# importing train_test_split for train and validation split\n",
    "from sklearn.model_selection import train_test_split\n",
    "# importing RepeatedKFold for cross validation\n",
    "from sklearn.model_selection import RepeatedKFold\n",
    "\n",
    "# importing basic estimator for classification :)\n",
    "from sklearn.linear_model import LogisticRegression\n",
    "# importing next best estimator for classification :)\n",
    "from sklearn.tree import DecisionTreeClassifier\n",
    "# importing best estimator for classification :)\n",
    "from sklearn.ensemble import RandomForestClassifier\n",
    "# importing GaussianNB for Classification\n",
    "from sklearn.naive_bayes import GaussianNB\n",
    "# importing KNeighborsClassifier for Classification\n",
    "from sklearn.neighbors import KNeighborsClassifier\n",
    "# importing AdaBoostClassifier for Classification\n",
    "from sklearn.ensemble import AdaBoostClassifier\n",
    "# importing GradientBoostingClassifier for Classification\n",
    "from sklearn.ensemble import GradientBoostingClassifier\n",
    "# importing xgboost for Classification\n",
    "import xgboost as xgb\n",
    "\n",
    "# importing metrics required for model evaluation\n",
    "from sklearn.metrics import accuracy_score\n",
    "from sklearn.metrics import precision_score\n",
    "from sklearn.metrics import recall_score\n",
    "from sklearn.metrics import f1_score\n",
    "from sklearn.metrics import classification_report\n",
    "from sklearn.metrics import make_scorer\n",
    "\n",
    "# importing confusion_matrix to evaluate accuracy of classification\n",
    "from sklearn.metrics import confusion_matrix\n",
    "# importing ConfusionMatrixDisplay for Confusion Matrix Visualization\n",
    "from sklearn.metrics import ConfusionMatrixDisplay\n",
    "\n",
    "# importing cross_validate for model evaluation\n",
    "from sklearn.model_selection import cross_validate\n",
    "# importing RepeatedStratifiedKFold for model evaluation\n",
    "from sklearn.model_selection import RepeatedStratifiedKFold\n",
    "# importing GridSearchCV for hyperparameter tuning\n",
    "from sklearn.model_selection import GridSearchCV"
   ]
  },
  {
   "cell_type": "markdown",
   "id": "4b17e6dd",
   "metadata": {
    "papermill": {
     "duration": 0.0178,
     "end_time": "2022-08-14T13:27:16.218897",
     "exception": false,
     "start_time": "2022-08-14T13:27:16.201097",
     "status": "completed"
    },
    "tags": []
   },
   "source": [
    "---\n",
    "# Dataset Load\n",
    "---"
   ]
  },
  {
   "cell_type": "markdown",
   "id": "8a5019a6",
   "metadata": {
    "papermill": {
     "duration": 0.020042,
     "end_time": "2022-08-14T13:27:16.257313",
     "exception": false,
     "start_time": "2022-08-14T13:27:16.237271",
     "status": "completed"
    },
    "tags": []
   },
   "source": [
    "**Dataset:**\n",
    "\n",
    "* **train_data.csv** - training data with multiple statement dates per customer_ID\n",
    "* **train_labels.csv** - target label for each customer_ID\n",
    "* **test_data.csv** - corresponding test data; objective is to predict the target label for each customer_ID\n",
    "* **sample_submission.csv** - a sample submission file in the correct format\n",
    "\n",
    "---"
   ]
  },
  {
   "cell_type": "markdown",
   "id": "7fdbe8ad",
   "metadata": {
    "papermill": {
     "duration": 0.018167,
     "end_time": "2022-08-14T13:27:16.295390",
     "exception": false,
     "start_time": "2022-08-14T13:27:16.277223",
     "status": "completed"
    },
    "tags": []
   },
   "source": [
    "Let us check size of dataset CSV file"
   ]
  },
  {
   "cell_type": "code",
   "execution_count": 4,
   "id": "c14fe3b0",
   "metadata": {
    "_kg_hide-input": true,
    "execution": {
     "iopub.execute_input": "2022-08-14T13:27:16.337319Z",
     "iopub.status.busy": "2022-08-14T13:27:16.336021Z",
     "iopub.status.idle": "2022-08-14T13:27:16.351293Z",
     "shell.execute_reply": "2022-08-14T13:27:16.350136Z"
    },
    "papermill": {
     "duration": 0.04038,
     "end_time": "2022-08-14T13:27:16.355838",
     "exception": false,
     "start_time": "2022-08-14T13:27:16.315458",
     "status": "completed"
    },
    "tags": []
   },
   "outputs": [
    {
     "name": "stdout",
     "output_type": "stream",
     "text": [
      "/kaggle/input/amex-default-prediction/sample_submission.csv size is 59.1 MB bytes\n",
      "/kaggle/input/amex-default-prediction/train_data.csv size is 15.3 GB bytes\n",
      "/kaggle/input/amex-default-prediction/test_data.csv size is 31.5 GB bytes\n",
      "/kaggle/input/amex-default-prediction/train_labels.csv size is 29.3 MB bytes\n"
     ]
    }
   ],
   "source": [
    "# calculate file size in KB, MB, GB\n",
    "def convert_bytes(size):\n",
    "    \"\"\" Convert bytes to KB, or MB or GB\"\"\"\n",
    "    for x in ['bytes', 'KB', 'MB', 'GB', 'TB']:\n",
    "        if size < 1024.0:\n",
    "            return \"%3.1f %s\" % (size, x)\n",
    "        size /= 1024.0\n",
    "\n",
    "# display CSV file with size\n",
    "for dirname, _, filenames in os.walk('/kaggle/input'):\n",
    "    for filename in filenames:\n",
    "        csvfile=os.path.join(dirname, filename)\n",
    "        csvfilesize = os.path.getsize(csvfile)\n",
    "        filesize = convert_bytes(csvfilesize)\n",
    "        print(f'{csvfile} size is', filesize, 'bytes')"
   ]
  },
  {
   "cell_type": "code",
   "execution_count": 5,
   "id": "4319c534",
   "metadata": {
    "_kg_hide-input": true,
    "execution": {
     "iopub.execute_input": "2022-08-14T13:27:16.399298Z",
     "iopub.status.busy": "2022-08-14T13:27:16.398228Z",
     "iopub.status.idle": "2022-08-14T13:27:16.405294Z",
     "shell.execute_reply": "2022-08-14T13:27:16.403678Z"
    },
    "papermill": {
     "duration": 0.031793,
     "end_time": "2022-08-14T13:27:16.408399",
     "exception": false,
     "start_time": "2022-08-14T13:27:16.376606",
     "status": "completed"
    },
    "tags": []
   },
   "outputs": [],
   "source": [
    "from pathlib import Path\n",
    "\n",
    "input_path = Path('/kaggle/input/amex-default-prediction/')"
   ]
  },
  {
   "cell_type": "markdown",
   "id": "8da92206",
   "metadata": {
    "papermill": {
     "duration": 0.019702,
     "end_time": "2022-08-14T13:27:16.448904",
     "exception": false,
     "start_time": "2022-08-14T13:27:16.429202",
     "status": "completed"
    },
    "tags": []
   },
   "source": [
    "---\n",
    "Considering large number of rows around 5.5 million in **train_data.csv** dataset, using nrows option to load first 100k rows from dataset file for Model building.\n",
    "\n",
    "---"
   ]
  },
  {
   "cell_type": "markdown",
   "id": "1a02510a",
   "metadata": {
    "papermill": {
     "duration": 0.018904,
     "end_time": "2022-08-14T13:27:16.488412",
     "exception": false,
     "start_time": "2022-08-14T13:27:16.469508",
     "status": "completed"
    },
    "tags": []
   },
   "source": [
    "---\n",
    "Will try to leverage outcome based on EDA done so far\n",
    "\n",
    "https://www.kaggle.com/code/girishkumarsahu/american-express-default-prediction-eda\n",
    "\n",
    "---"
   ]
  },
  {
   "cell_type": "markdown",
   "id": "c1e4b990",
   "metadata": {
    "papermill": {
     "duration": 0.02043,
     "end_time": "2022-08-14T13:27:16.528358",
     "exception": false,
     "start_time": "2022-08-14T13:27:16.507928",
     "status": "completed"
    },
    "tags": []
   },
   "source": [
    "Load train_data.csv dataset file using nrows=100000"
   ]
  },
  {
   "cell_type": "code",
   "execution_count": 6,
   "id": "8b5d923b",
   "metadata": {
    "_kg_hide-input": true,
    "execution": {
     "iopub.execute_input": "2022-08-14T13:27:16.571956Z",
     "iopub.status.busy": "2022-08-14T13:27:16.571350Z",
     "iopub.status.idle": "2022-08-14T13:27:24.476416Z",
     "shell.execute_reply": "2022-08-14T13:27:24.475011Z"
    },
    "papermill": {
     "duration": 7.92997,
     "end_time": "2022-08-14T13:27:24.479615",
     "exception": false,
     "start_time": "2022-08-14T13:27:16.549645",
     "status": "completed"
    },
    "tags": []
   },
   "outputs": [],
   "source": [
    "# Loading dataset train_data.csv\n",
    "train_df_sample = pd.read_csv('../input/amex-default-prediction/train_data.csv', nrows=100000)"
   ]
  },
  {
   "cell_type": "code",
   "execution_count": 7,
   "id": "7fe054c6",
   "metadata": {
    "_kg_hide-input": true,
    "execution": {
     "iopub.execute_input": "2022-08-14T13:27:24.518419Z",
     "iopub.status.busy": "2022-08-14T13:27:24.517955Z",
     "iopub.status.idle": "2022-08-14T13:27:24.557841Z",
     "shell.execute_reply": "2022-08-14T13:27:24.555991Z"
    },
    "papermill": {
     "duration": 0.062983,
     "end_time": "2022-08-14T13:27:24.560594",
     "exception": false,
     "start_time": "2022-08-14T13:27:24.497611",
     "status": "completed"
    },
    "tags": []
   },
   "outputs": [
    {
     "name": "stdout",
     "output_type": "stream",
     "text": [
      "Shape of dataset is: (100000, 190)\n",
      "<class 'pandas.core.frame.DataFrame'>\n",
      "RangeIndex: 100000 entries, 0 to 99999\n",
      "Columns: 190 entries, customer_ID to D_145\n",
      "dtypes: float64(185), int64(1), object(4)\n",
      "memory usage: 145.0+ MB\n"
     ]
    }
   ],
   "source": [
    "# get shape of dataframe\n",
    "print('Shape of dataset is:', train_df_sample.shape)\n",
    "\n",
    "# print summary of dataframe\n",
    "train_df_sample.info()"
   ]
  },
  {
   "cell_type": "markdown",
   "id": "851485ee",
   "metadata": {
    "papermill": {
     "duration": 0.017866,
     "end_time": "2022-08-14T13:27:24.598021",
     "exception": false,
     "start_time": "2022-08-14T13:27:24.580155",
     "status": "completed"
    },
    "tags": []
   },
   "source": [
    "**Observations:**\n",
    "\n",
    "* There are total 190 variables in train_data.csv dataset\n",
    "    * There are 185 variables(Columns) as dtype float64, 1 variable(Column) as dtype int64 and 4 variables(Columns) as dtype object"
   ]
  },
  {
   "cell_type": "markdown",
   "id": "3b3802fb",
   "metadata": {
    "papermill": {
     "duration": 0.017556,
     "end_time": "2022-08-14T13:27:24.634145",
     "exception": false,
     "start_time": "2022-08-14T13:27:24.616589",
     "status": "completed"
    },
    "tags": []
   },
   "source": [
    "---\n",
    "Need to load **train_labels.csv** for customer_ID with target label as 1 for Default and 0 for Not Default\n",
    "\n",
    "---"
   ]
  },
  {
   "cell_type": "code",
   "execution_count": 8,
   "id": "9a85ccf1",
   "metadata": {
    "_kg_hide-input": true,
    "execution": {
     "iopub.execute_input": "2022-08-14T13:27:24.672668Z",
     "iopub.status.busy": "2022-08-14T13:27:24.672177Z",
     "iopub.status.idle": "2022-08-14T13:27:25.555506Z",
     "shell.execute_reply": "2022-08-14T13:27:25.554122Z"
    },
    "papermill": {
     "duration": 0.905523,
     "end_time": "2022-08-14T13:27:25.558461",
     "exception": false,
     "start_time": "2022-08-14T13:27:24.652938",
     "status": "completed"
    },
    "tags": []
   },
   "outputs": [],
   "source": [
    "# Loading dataset train_labels.csv\n",
    "train_label_df = pd.read_csv('../input/amex-default-prediction/train_labels.csv')"
   ]
  },
  {
   "cell_type": "code",
   "execution_count": 9,
   "id": "c58aca0c",
   "metadata": {
    "_kg_hide-input": true,
    "execution": {
     "iopub.execute_input": "2022-08-14T13:27:25.612036Z",
     "iopub.status.busy": "2022-08-14T13:27:25.611293Z",
     "iopub.status.idle": "2022-08-14T13:27:25.656393Z",
     "shell.execute_reply": "2022-08-14T13:27:25.654395Z"
    },
    "papermill": {
     "duration": 0.07673,
     "end_time": "2022-08-14T13:27:25.659192",
     "exception": false,
     "start_time": "2022-08-14T13:27:25.582462",
     "status": "completed"
    },
    "tags": []
   },
   "outputs": [
    {
     "name": "stdout",
     "output_type": "stream",
     "text": [
      "Shape of dataset is: (458913, 2)\n",
      "<class 'pandas.core.frame.DataFrame'>\n",
      "RangeIndex: 458913 entries, 0 to 458912\n",
      "Data columns (total 2 columns):\n",
      " #   Column       Non-Null Count   Dtype \n",
      "---  ------       --------------   ----- \n",
      " 0   customer_ID  458913 non-null  object\n",
      " 1   target       458913 non-null  int64 \n",
      "dtypes: int64(1), object(1)\n",
      "memory usage: 7.0+ MB\n"
     ]
    }
   ],
   "source": [
    "# get shape of dataframe\n",
    "print('Shape of dataset is:', train_label_df.shape)\n",
    "\n",
    "# print summary of dataframe\n",
    "train_label_df.info()"
   ]
  },
  {
   "cell_type": "markdown",
   "id": "18b2b40a",
   "metadata": {
    "papermill": {
     "duration": 0.018218,
     "end_time": "2022-08-14T13:27:25.696948",
     "exception": false,
     "start_time": "2022-08-14T13:27:25.678730",
     "status": "completed"
    },
    "tags": []
   },
   "source": [
    "**Observations:**\n",
    "\n",
    "* There are total 458,913 entries for target label with customer_ID\n",
    "* There is variable (column) customer_ID which has dtype as object and variable (column) target which has dtype as int64"
   ]
  },
  {
   "cell_type": "markdown",
   "id": "4467dc10",
   "metadata": {
    "papermill": {
     "duration": 0.020229,
     "end_time": "2022-08-14T13:27:25.736962",
     "exception": false,
     "start_time": "2022-08-14T13:27:25.716733",
     "status": "completed"
    },
    "tags": []
   },
   "source": [
    "---\n",
    "Using nrows option to load first 100k rows from **test_data.csv** dataset file.\n",
    "\n",
    "---"
   ]
  },
  {
   "cell_type": "code",
   "execution_count": 10,
   "id": "18b9e010",
   "metadata": {
    "_kg_hide-input": true,
    "execution": {
     "iopub.execute_input": "2022-08-14T13:27:25.785458Z",
     "iopub.status.busy": "2022-08-14T13:27:25.784927Z",
     "iopub.status.idle": "2022-08-14T13:27:32.931297Z",
     "shell.execute_reply": "2022-08-14T13:27:32.929839Z"
    },
    "papermill": {
     "duration": 7.172391,
     "end_time": "2022-08-14T13:27:32.934962",
     "exception": false,
     "start_time": "2022-08-14T13:27:25.762571",
     "status": "completed"
    },
    "tags": []
   },
   "outputs": [],
   "source": [
    "# Loading dataset test_data.csv\n",
    "test_df = pd.read_csv('../input/amex-default-prediction/test_data.csv', nrows=100000, index_col='customer_ID')"
   ]
  },
  {
   "cell_type": "code",
   "execution_count": 11,
   "id": "3557a81f",
   "metadata": {
    "_kg_hide-input": true,
    "execution": {
     "iopub.execute_input": "2022-08-14T13:27:32.978447Z",
     "iopub.status.busy": "2022-08-14T13:27:32.977955Z",
     "iopub.status.idle": "2022-08-14T13:27:33.004065Z",
     "shell.execute_reply": "2022-08-14T13:27:33.001631Z"
    },
    "papermill": {
     "duration": 0.051696,
     "end_time": "2022-08-14T13:27:33.007738",
     "exception": false,
     "start_time": "2022-08-14T13:27:32.956042",
     "status": "completed"
    },
    "tags": []
   },
   "outputs": [
    {
     "name": "stdout",
     "output_type": "stream",
     "text": [
      "Shape of dataset is: (100000, 189)\n",
      "<class 'pandas.core.frame.DataFrame'>\n",
      "Index: 100000 entries, 00000469ba478561f23a92a868bd366de6f6527a684c9a2e78fb826dcac3b9b7 to 0246c7eb137ed9b08014d66e29caf1772b0512becef11a1eda0948b8b8908576\n",
      "Columns: 189 entries, S_2 to D_145\n",
      "dtypes: float64(185), int64(1), object(3)\n",
      "memory usage: 145.0+ MB\n"
     ]
    }
   ],
   "source": [
    "# get shape of dataframe\n",
    "print('Shape of dataset is:', test_df.shape)\n",
    "\n",
    "# print summary of dataframe\n",
    "#test_df.info(verbose=True)\n",
    "test_df.info()"
   ]
  },
  {
   "cell_type": "markdown",
   "id": "53c4d0ab",
   "metadata": {
    "papermill": {
     "duration": 0.020225,
     "end_time": "2022-08-14T13:27:33.048771",
     "exception": false,
     "start_time": "2022-08-14T13:27:33.028546",
     "status": "completed"
    },
    "tags": []
   },
   "source": [
    "**Observation:**\n",
    "\n",
    "* There are 185 variables(Columns) as dtype float64, 1 variable(Column) as dtype int64 and 4 variables(Columns) as dtype object, same structure as train_data.csv"
   ]
  },
  {
   "cell_type": "markdown",
   "id": "10e18fa1",
   "metadata": {
    "papermill": {
     "duration": 0.018565,
     "end_time": "2022-08-14T13:27:33.086550",
     "exception": false,
     "start_time": "2022-08-14T13:27:33.067985",
     "status": "completed"
    },
    "tags": []
   },
   "source": [
    "---\n",
    "Need to merge train_labels dataset with train_data dataset for target label.\n",
    "\n",
    "---"
   ]
  },
  {
   "cell_type": "code",
   "execution_count": 12,
   "id": "80b9e58a",
   "metadata": {
    "_kg_hide-input": true,
    "execution": {
     "iopub.execute_input": "2022-08-14T13:27:33.124906Z",
     "iopub.status.busy": "2022-08-14T13:27:33.124404Z",
     "iopub.status.idle": "2022-08-14T13:27:33.746888Z",
     "shell.execute_reply": "2022-08-14T13:27:33.745303Z"
    },
    "papermill": {
     "duration": 0.645041,
     "end_time": "2022-08-14T13:27:33.749949",
     "exception": false,
     "start_time": "2022-08-14T13:27:33.104908",
     "status": "completed"
    },
    "tags": []
   },
   "outputs": [],
   "source": [
    "# Merge of train_df_sample and train_label_df dataframe using key as customer_ID\n",
    "train_df = pd.merge(train_df_sample, train_label_df, how=\"inner\", on=[\"customer_ID\"])"
   ]
  },
  {
   "cell_type": "code",
   "execution_count": 13,
   "id": "ffa9b112",
   "metadata": {
    "_kg_hide-input": true,
    "execution": {
     "iopub.execute_input": "2022-08-14T13:27:33.790151Z",
     "iopub.status.busy": "2022-08-14T13:27:33.789426Z",
     "iopub.status.idle": "2022-08-14T13:27:33.813460Z",
     "shell.execute_reply": "2022-08-14T13:27:33.811756Z"
    },
    "papermill": {
     "duration": 0.047662,
     "end_time": "2022-08-14T13:27:33.816927",
     "exception": false,
     "start_time": "2022-08-14T13:27:33.769265",
     "status": "completed"
    },
    "tags": []
   },
   "outputs": [
    {
     "name": "stdout",
     "output_type": "stream",
     "text": [
      "<class 'pandas.core.frame.DataFrame'>\n",
      "Int64Index: 100000 entries, 0 to 99999\n",
      "Columns: 191 entries, customer_ID to target\n",
      "dtypes: float64(185), int64(2), object(4)\n",
      "memory usage: 146.5+ MB\n"
     ]
    }
   ],
   "source": [
    "# print summary of merged dataframe\n",
    "train_df.info()"
   ]
  },
  {
   "cell_type": "markdown",
   "id": "147fe98c",
   "metadata": {
    "papermill": {
     "duration": 0.019545,
     "end_time": "2022-08-14T13:27:33.856470",
     "exception": false,
     "start_time": "2022-08-14T13:27:33.836925",
     "status": "completed"
    },
    "tags": []
   },
   "source": [
    "Drop S_2 variable which is date value and not required for ML model building"
   ]
  },
  {
   "cell_type": "code",
   "execution_count": 14,
   "id": "1a4efbb0",
   "metadata": {
    "_kg_hide-input": true,
    "execution": {
     "iopub.execute_input": "2022-08-14T13:27:33.898790Z",
     "iopub.status.busy": "2022-08-14T13:27:33.897962Z",
     "iopub.status.idle": "2022-08-14T13:27:34.265472Z",
     "shell.execute_reply": "2022-08-14T13:27:34.263639Z"
    },
    "papermill": {
     "duration": 0.393793,
     "end_time": "2022-08-14T13:27:34.268999",
     "exception": false,
     "start_time": "2022-08-14T13:27:33.875206",
     "status": "completed"
    },
    "tags": []
   },
   "outputs": [],
   "source": [
    "#drop customer_ID and S_2 which are not required for model building\n",
    "train_df.drop(axis=1, columns=['customer_ID','S_2'], inplace=True)\n",
    "#drop S_2 which is not required for model building\n",
    "#train_df.drop(axis=1, columns=['S_2'], inplace=True)\n",
    "#train_df.set_index('customer_ID', inplace=True)"
   ]
  },
  {
   "cell_type": "code",
   "execution_count": 15,
   "id": "3a35a1fb",
   "metadata": {
    "_kg_hide-input": true,
    "execution": {
     "iopub.execute_input": "2022-08-14T13:27:34.308759Z",
     "iopub.status.busy": "2022-08-14T13:27:34.308268Z",
     "iopub.status.idle": "2022-08-14T13:27:34.375896Z",
     "shell.execute_reply": "2022-08-14T13:27:34.374297Z"
    },
    "papermill": {
     "duration": 0.090497,
     "end_time": "2022-08-14T13:27:34.378910",
     "exception": false,
     "start_time": "2022-08-14T13:27:34.288413",
     "status": "completed"
    },
    "tags": []
   },
   "outputs": [],
   "source": [
    "#drop customer_ID and S_2 in test_df\n",
    "#test_df.drop(axis=1, columns=['customer_ID','S_2'], inplace=True)\n",
    "#drop S_2 in test_df\n",
    "test_df.drop(axis=1, columns=['S_2'], inplace=True)"
   ]
  },
  {
   "cell_type": "markdown",
   "id": "2522e514",
   "metadata": {
    "papermill": {
     "duration": 0.017905,
     "end_time": "2022-08-14T13:27:34.416284",
     "exception": false,
     "start_time": "2022-08-14T13:27:34.398379",
     "status": "completed"
    },
    "tags": []
   },
   "source": [
    "---\n",
    "**Q: Is there any duplicate row in train dataset sample?**\n",
    "\n",
    "---"
   ]
  },
  {
   "cell_type": "code",
   "execution_count": 16,
   "id": "bb1fce25",
   "metadata": {
    "_kg_hide-input": true,
    "execution": {
     "iopub.execute_input": "2022-08-14T13:27:34.456528Z",
     "iopub.status.busy": "2022-08-14T13:27:34.455316Z",
     "iopub.status.idle": "2022-08-14T13:27:36.451843Z",
     "shell.execute_reply": "2022-08-14T13:27:36.449847Z"
    },
    "papermill": {
     "duration": 2.020801,
     "end_time": "2022-08-14T13:27:36.454977",
     "exception": false,
     "start_time": "2022-08-14T13:27:34.434176",
     "status": "completed"
    },
    "tags": []
   },
   "outputs": [
    {
     "name": "stdout",
     "output_type": "stream",
     "text": [
      "No\n"
     ]
    }
   ],
   "source": [
    "#check if any duplicate row\n",
    "if (any(train_df.duplicated())):\n",
    "    print(\"Yes\")\n",
    "else:\n",
    "    print(\"No\")\n",
    "    "
   ]
  },
  {
   "cell_type": "markdown",
   "id": "22ba885a",
   "metadata": {
    "papermill": {
     "duration": 0.019396,
     "end_time": "2022-08-14T13:27:36.497217",
     "exception": false,
     "start_time": "2022-08-14T13:27:36.477821",
     "status": "completed"
    },
    "tags": []
   },
   "source": [
    "---\n",
    "**Q: Is there any duplicate row in test dataset sample?**\n",
    "\n",
    "---"
   ]
  },
  {
   "cell_type": "code",
   "execution_count": 17,
   "id": "b5134eec",
   "metadata": {
    "_kg_hide-input": true,
    "execution": {
     "iopub.execute_input": "2022-08-14T13:27:36.537882Z",
     "iopub.status.busy": "2022-08-14T13:27:36.537334Z",
     "iopub.status.idle": "2022-08-14T13:27:38.466524Z",
     "shell.execute_reply": "2022-08-14T13:27:38.464647Z"
    },
    "papermill": {
     "duration": 1.953334,
     "end_time": "2022-08-14T13:27:38.470113",
     "exception": false,
     "start_time": "2022-08-14T13:27:36.516779",
     "status": "completed"
    },
    "tags": []
   },
   "outputs": [
    {
     "name": "stdout",
     "output_type": "stream",
     "text": [
      "No\n"
     ]
    }
   ],
   "source": [
    "#check if any duplicate row in test dataset\n",
    "if (any(test_df.duplicated())):\n",
    "    print(\"Yes\")\n",
    "else:\n",
    "    print(\"No\")"
   ]
  },
  {
   "cell_type": "markdown",
   "id": "f8ab87eb",
   "metadata": {
    "papermill": {
     "duration": 0.017911,
     "end_time": "2022-08-14T13:27:38.507802",
     "exception": false,
     "start_time": "2022-08-14T13:27:38.489891",
     "status": "completed"
    },
    "tags": []
   },
   "source": [
    "---\n",
    "**Q: Are there any missing value in train dataset sample?**\n",
    "\n",
    "---"
   ]
  },
  {
   "cell_type": "code",
   "execution_count": 18,
   "id": "92c57200",
   "metadata": {
    "_kg_hide-input": true,
    "execution": {
     "iopub.execute_input": "2022-08-14T13:27:38.550077Z",
     "iopub.status.busy": "2022-08-14T13:27:38.547292Z",
     "iopub.status.idle": "2022-08-14T13:27:38.606258Z",
     "shell.execute_reply": "2022-08-14T13:27:38.604892Z"
    },
    "papermill": {
     "duration": 0.083158,
     "end_time": "2022-08-14T13:27:38.609258",
     "exception": false,
     "start_time": "2022-08-14T13:27:38.526100",
     "status": "completed"
    },
    "tags": []
   },
   "outputs": [
    {
     "name": "stdout",
     "output_type": "stream",
     "text": [
      "Yes\n"
     ]
    }
   ],
   "source": [
    "# Check for missing value\n",
    "if(any(train_df.isna().sum())):\n",
    "    print(\"Yes\")\n",
    "else:\n",
    "    print(\"No\")"
   ]
  },
  {
   "cell_type": "markdown",
   "id": "8bd01e70",
   "metadata": {
    "papermill": {
     "duration": 0.017891,
     "end_time": "2022-08-14T13:27:38.646452",
     "exception": false,
     "start_time": "2022-08-14T13:27:38.628561",
     "status": "completed"
    },
    "tags": []
   },
   "source": [
    "---\n",
    "**Q: Are there any missing value in train dataset sample?**\n",
    "\n",
    "---"
   ]
  },
  {
   "cell_type": "code",
   "execution_count": 19,
   "id": "1669a00d",
   "metadata": {
    "_kg_hide-input": true,
    "execution": {
     "iopub.execute_input": "2022-08-14T13:27:38.685532Z",
     "iopub.status.busy": "2022-08-14T13:27:38.684293Z",
     "iopub.status.idle": "2022-08-14T13:27:38.741174Z",
     "shell.execute_reply": "2022-08-14T13:27:38.739727Z"
    },
    "papermill": {
     "duration": 0.079846,
     "end_time": "2022-08-14T13:27:38.744594",
     "exception": false,
     "start_time": "2022-08-14T13:27:38.664748",
     "status": "completed"
    },
    "tags": []
   },
   "outputs": [
    {
     "name": "stdout",
     "output_type": "stream",
     "text": [
      "Yes\n"
     ]
    }
   ],
   "source": [
    "# Check for missing value in test dataset\n",
    "if(any(test_df.isna().sum())):\n",
    "    print(\"Yes\")\n",
    "else:\n",
    "    print(\"No\")"
   ]
  },
  {
   "cell_type": "markdown",
   "id": "1b0e5558",
   "metadata": {
    "papermill": {
     "duration": 0.018454,
     "end_time": "2022-08-14T13:27:38.781756",
     "exception": false,
     "start_time": "2022-08-14T13:27:38.763302",
     "status": "completed"
    },
    "tags": []
   },
   "source": [
    "---\n",
    "# Data Preprocessing\n",
    "\n",
    "---"
   ]
  },
  {
   "cell_type": "markdown",
   "id": "2ea509ab",
   "metadata": {
    "papermill": {
     "duration": 0.018818,
     "end_time": "2022-08-14T13:27:38.819865",
     "exception": false,
     "start_time": "2022-08-14T13:27:38.801047",
     "status": "completed"
    },
    "tags": []
   },
   "source": [
    "---\n",
    "**Handle Variable with Missing Value**\n",
    "\n",
    "---"
   ]
  },
  {
   "cell_type": "markdown",
   "id": "da2e0355",
   "metadata": {
    "papermill": {
     "duration": 0.018885,
     "end_time": "2022-08-14T13:27:38.857608",
     "exception": false,
     "start_time": "2022-08-14T13:27:38.838723",
     "status": "completed"
    },
    "tags": []
   },
   "source": [
    "---\n",
    "Drop Variables with Missing Value (>=75%) in train dataset\n",
    "\n",
    "---"
   ]
  },
  {
   "cell_type": "code",
   "execution_count": 20,
   "id": "ed733c51",
   "metadata": {
    "_kg_hide-input": true,
    "execution": {
     "iopub.execute_input": "2022-08-14T13:27:38.898226Z",
     "iopub.status.busy": "2022-08-14T13:27:38.897356Z",
     "iopub.status.idle": "2022-08-14T13:27:40.301587Z",
     "shell.execute_reply": "2022-08-14T13:27:40.300234Z"
    },
    "papermill": {
     "duration": 1.427915,
     "end_time": "2022-08-14T13:27:40.304515",
     "exception": false,
     "start_time": "2022-08-14T13:27:38.876600",
     "status": "completed"
    },
    "tags": []
   },
   "outputs": [
    {
     "name": "stdout",
     "output_type": "stream",
     "text": [
      "Dropping column D_42\n",
      "Dropping column D_49\n",
      "Dropping column D_66\n",
      "Dropping column D_73\n",
      "Dropping column D_76\n",
      "Dropping column R_9\n",
      "Dropping column B_29\n",
      "Dropping column D_87\n",
      "Dropping column D_88\n",
      "Dropping column D_106\n",
      "Dropping column R_26\n",
      "Dropping column D_108\n",
      "Dropping column D_110\n",
      "Dropping column D_111\n",
      "Dropping column B_39\n",
      "Dropping column B_42\n",
      "Dropping column D_132\n",
      "Dropping column D_134\n",
      "Dropping column D_135\n",
      "Dropping column D_136\n",
      "Dropping column D_137\n",
      "Dropping column D_138\n",
      "Dropping column D_142\n",
      "Total number of columns dropped in train dataframe 23\n"
     ]
    }
   ],
   "source": [
    "#drop variables with missing values >=75% in the train dataframe\n",
    "i=0\n",
    "for col in train_df.columns:\n",
    "    if (train_df[col].isnull().sum()/len(train_df[col])*100) >=75:\n",
    "        print(\"Dropping column\", col)\n",
    "        train_df.drop(labels=col,axis=1,inplace=True)\n",
    "        i=i+1\n",
    "        \n",
    "print(\"Total number of columns dropped in train dataframe\", i)"
   ]
  },
  {
   "cell_type": "markdown",
   "id": "8c386dfe",
   "metadata": {
    "papermill": {
     "duration": 0.019256,
     "end_time": "2022-08-14T13:27:40.343930",
     "exception": false,
     "start_time": "2022-08-14T13:27:40.324674",
     "status": "completed"
    },
    "tags": []
   },
   "source": [
    "---\n",
    "Drop Variables with Missing Value (>=75%) in test dataset\n",
    "\n",
    "---"
   ]
  },
  {
   "cell_type": "code",
   "execution_count": 21,
   "id": "dc999088",
   "metadata": {
    "_kg_hide-input": true,
    "execution": {
     "iopub.execute_input": "2022-08-14T13:27:40.386117Z",
     "iopub.status.busy": "2022-08-14T13:27:40.385303Z",
     "iopub.status.idle": "2022-08-14T13:27:41.772968Z",
     "shell.execute_reply": "2022-08-14T13:27:41.771773Z"
    },
    "papermill": {
     "duration": 1.411791,
     "end_time": "2022-08-14T13:27:41.775859",
     "exception": false,
     "start_time": "2022-08-14T13:27:40.364068",
     "status": "completed"
    },
    "tags": []
   },
   "outputs": [
    {
     "name": "stdout",
     "output_type": "stream",
     "text": [
      "Dropping column D_42\n",
      "Dropping column D_49\n",
      "Dropping column D_66\n",
      "Dropping column D_73\n",
      "Dropping column D_76\n",
      "Dropping column R_9\n",
      "Dropping column B_29\n",
      "Dropping column D_87\n",
      "Dropping column D_88\n",
      "Dropping column D_106\n",
      "Dropping column R_26\n",
      "Dropping column D_108\n",
      "Dropping column D_110\n",
      "Dropping column D_111\n",
      "Dropping column B_39\n",
      "Dropping column B_42\n",
      "Dropping column D_132\n",
      "Dropping column D_134\n",
      "Dropping column D_135\n",
      "Dropping column D_136\n",
      "Dropping column D_137\n",
      "Dropping column D_138\n",
      "Dropping column D_142\n",
      "Total number of columns dropped in test dataframe 23\n"
     ]
    }
   ],
   "source": [
    "#drop variables with missing values >=75% in the test dataframe\n",
    "i=0\n",
    "for col in test_df.columns:\n",
    "    if (test_df[col].isnull().sum()/len(test_df[col])*100) >=75:\n",
    "        print(\"Dropping column\", col)\n",
    "        test_df.drop(labels=col,axis=1,inplace=True)\n",
    "        i=i+1\n",
    "        \n",
    "print(\"Total number of columns dropped in test dataframe\", i)"
   ]
  },
  {
   "cell_type": "markdown",
   "id": "431b621a",
   "metadata": {
    "papermill": {
     "duration": 0.01986,
     "end_time": "2022-08-14T13:27:41.816142",
     "exception": false,
     "start_time": "2022-08-14T13:27:41.796282",
     "status": "completed"
    },
    "tags": []
   },
   "source": [
    "Converting categorical variable dtype from float64 to object in train and test dataset"
   ]
  },
  {
   "cell_type": "code",
   "execution_count": 22,
   "id": "9d36bb91",
   "metadata": {
    "_kg_hide-input": true,
    "execution": {
     "iopub.execute_input": "2022-08-14T13:27:41.860160Z",
     "iopub.status.busy": "2022-08-14T13:27:41.859452Z",
     "iopub.status.idle": "2022-08-14T13:27:42.994560Z",
     "shell.execute_reply": "2022-08-14T13:27:42.993107Z"
    },
    "papermill": {
     "duration": 1.159991,
     "end_time": "2022-08-14T13:27:42.997490",
     "exception": false,
     "start_time": "2022-08-14T13:27:41.837499",
     "status": "completed"
    },
    "tags": []
   },
   "outputs": [],
   "source": [
    "#convert dtype for B categorical variable to object\n",
    "train_df = train_df.astype({\"B_30\": 'str', \"B_38\": 'str'})\n",
    "#convert dtype for B categorical variable to object\n",
    "test_df = test_df.astype({\"B_30\": 'str', \"B_38\": 'str'})\n",
    "#convert dtype for D categorical variable to object\n",
    "train_df = train_df.astype({\"D_114\": 'str', \"D_116\": 'str', \"D_117\": 'str', \"D_120\": 'str', \"D_126\": 'str', \"D_68\": 'str'})\n",
    "#convert dtype for D categorical variable to object\n",
    "test_df = test_df.astype({\"D_114\": 'str', \"D_116\": 'str', \"D_117\": 'str', \"D_120\": 'str', \"D_126\": 'str', \"D_68\": 'str'})"
   ]
  },
  {
   "cell_type": "markdown",
   "id": "481192b2",
   "metadata": {
    "papermill": {
     "duration": 0.019386,
     "end_time": "2022-08-14T13:27:43.036625",
     "exception": false,
     "start_time": "2022-08-14T13:27:43.017239",
     "status": "completed"
    },
    "tags": []
   },
   "source": [
    "Separate independent and dependent variable for train dataframe"
   ]
  },
  {
   "cell_type": "code",
   "execution_count": 23,
   "id": "56fb2933",
   "metadata": {
    "_kg_hide-input": true,
    "execution": {
     "iopub.execute_input": "2022-08-14T13:27:43.081350Z",
     "iopub.status.busy": "2022-08-14T13:27:43.080812Z",
     "iopub.status.idle": "2022-08-14T13:27:43.272844Z",
     "shell.execute_reply": "2022-08-14T13:27:43.271441Z"
    },
    "papermill": {
     "duration": 0.217558,
     "end_time": "2022-08-14T13:27:43.275935",
     "exception": false,
     "start_time": "2022-08-14T13:27:43.058377",
     "status": "completed"
    },
    "tags": []
   },
   "outputs": [],
   "source": [
    "# separate X and y for further processing\n",
    "X = train_df.drop(columns='target')\n",
    "y = train_df['target']"
   ]
  },
  {
   "cell_type": "code",
   "execution_count": 24,
   "id": "3c3bd174",
   "metadata": {
    "_kg_hide-input": true,
    "execution": {
     "iopub.execute_input": "2022-08-14T13:27:43.319430Z",
     "iopub.status.busy": "2022-08-14T13:27:43.318471Z",
     "iopub.status.idle": "2022-08-14T13:27:43.326299Z",
     "shell.execute_reply": "2022-08-14T13:27:43.324733Z"
    },
    "papermill": {
     "duration": 0.032207,
     "end_time": "2022-08-14T13:27:43.329029",
     "exception": false,
     "start_time": "2022-08-14T13:27:43.296822",
     "status": "completed"
    },
    "tags": []
   },
   "outputs": [
    {
     "name": "stdout",
     "output_type": "stream",
     "text": [
      "Shape of X (100000, 165)\n"
     ]
    }
   ],
   "source": [
    "print(\"Shape of X\", X.shape)"
   ]
  },
  {
   "cell_type": "code",
   "execution_count": 25,
   "id": "b93d59fd",
   "metadata": {
    "_kg_hide-input": true,
    "execution": {
     "iopub.execute_input": "2022-08-14T13:27:43.372048Z",
     "iopub.status.busy": "2022-08-14T13:27:43.371238Z",
     "iopub.status.idle": "2022-08-14T13:27:43.377232Z",
     "shell.execute_reply": "2022-08-14T13:27:43.375811Z"
    },
    "papermill": {
     "duration": 0.029671,
     "end_time": "2022-08-14T13:27:43.379936",
     "exception": false,
     "start_time": "2022-08-14T13:27:43.350265",
     "status": "completed"
    },
    "tags": []
   },
   "outputs": [
    {
     "name": "stdout",
     "output_type": "stream",
     "text": [
      "Shape of y (100000,)\n"
     ]
    }
   ],
   "source": [
    "print(\"Shape of y\", y.shape)"
   ]
  },
  {
   "cell_type": "markdown",
   "id": "eec13bce",
   "metadata": {
    "papermill": {
     "duration": 0.020597,
     "end_time": "2022-08-14T13:27:43.420032",
     "exception": false,
     "start_time": "2022-08-14T13:27:43.399435",
     "status": "completed"
    },
    "tags": []
   },
   "source": [
    "Separate training and validation set for train dataframe"
   ]
  },
  {
   "cell_type": "code",
   "execution_count": 26,
   "id": "59de96f1",
   "metadata": {
    "_kg_hide-input": true,
    "execution": {
     "iopub.execute_input": "2022-08-14T13:27:43.463360Z",
     "iopub.status.busy": "2022-08-14T13:27:43.462415Z",
     "iopub.status.idle": "2022-08-14T13:27:43.698736Z",
     "shell.execute_reply": "2022-08-14T13:27:43.697395Z"
    },
    "papermill": {
     "duration": 0.261302,
     "end_time": "2022-08-14T13:27:43.701637",
     "exception": false,
     "start_time": "2022-08-14T13:27:43.440335",
     "status": "completed"
    },
    "tags": []
   },
   "outputs": [],
   "source": [
    "# splitting training data into training and testing (validation) set\n",
    "X_train, X_test, y_train, y_test = train_test_split(X, y, test_size=0.25, stratify=y, random_state=42)"
   ]
  },
  {
   "cell_type": "code",
   "execution_count": 27,
   "id": "34a97e8f",
   "metadata": {
    "_kg_hide-input": true,
    "execution": {
     "iopub.execute_input": "2022-08-14T13:27:43.745126Z",
     "iopub.status.busy": "2022-08-14T13:27:43.744670Z",
     "iopub.status.idle": "2022-08-14T13:27:43.751349Z",
     "shell.execute_reply": "2022-08-14T13:27:43.749672Z"
    },
    "papermill": {
     "duration": 0.033846,
     "end_time": "2022-08-14T13:27:43.755488",
     "exception": false,
     "start_time": "2022-08-14T13:27:43.721642",
     "status": "completed"
    },
    "tags": []
   },
   "outputs": [
    {
     "name": "stdout",
     "output_type": "stream",
     "text": [
      "Shape of X_train (75000, 165)\n"
     ]
    }
   ],
   "source": [
    "print(\"Shape of X_train\", X_train.shape)"
   ]
  },
  {
   "cell_type": "code",
   "execution_count": 28,
   "id": "411f539c",
   "metadata": {
    "_kg_hide-input": true,
    "execution": {
     "iopub.execute_input": "2022-08-14T13:27:43.798242Z",
     "iopub.status.busy": "2022-08-14T13:27:43.797789Z",
     "iopub.status.idle": "2022-08-14T13:27:43.803967Z",
     "shell.execute_reply": "2022-08-14T13:27:43.802659Z"
    },
    "papermill": {
     "duration": 0.029954,
     "end_time": "2022-08-14T13:27:43.806521",
     "exception": false,
     "start_time": "2022-08-14T13:27:43.776567",
     "status": "completed"
    },
    "tags": []
   },
   "outputs": [
    {
     "name": "stdout",
     "output_type": "stream",
     "text": [
      "Shape of X_test (25000, 165)\n"
     ]
    }
   ],
   "source": [
    "print(\"Shape of X_test\", X_test.shape)"
   ]
  },
  {
   "cell_type": "code",
   "execution_count": 29,
   "id": "72aeb298",
   "metadata": {
    "_kg_hide-input": true,
    "execution": {
     "iopub.execute_input": "2022-08-14T13:27:43.850952Z",
     "iopub.status.busy": "2022-08-14T13:27:43.850444Z",
     "iopub.status.idle": "2022-08-14T13:27:43.856915Z",
     "shell.execute_reply": "2022-08-14T13:27:43.855407Z"
    },
    "papermill": {
     "duration": 0.032824,
     "end_time": "2022-08-14T13:27:43.860358",
     "exception": false,
     "start_time": "2022-08-14T13:27:43.827534",
     "status": "completed"
    },
    "tags": []
   },
   "outputs": [
    {
     "name": "stdout",
     "output_type": "stream",
     "text": [
      "Shape of y_train (75000,)\n"
     ]
    }
   ],
   "source": [
    "print(\"Shape of y_train\", y_train.shape)"
   ]
  },
  {
   "cell_type": "code",
   "execution_count": 30,
   "id": "be834e59",
   "metadata": {
    "_kg_hide-input": true,
    "execution": {
     "iopub.execute_input": "2022-08-14T13:27:43.903828Z",
     "iopub.status.busy": "2022-08-14T13:27:43.903335Z",
     "iopub.status.idle": "2022-08-14T13:27:43.909889Z",
     "shell.execute_reply": "2022-08-14T13:27:43.908540Z"
    },
    "papermill": {
     "duration": 0.031285,
     "end_time": "2022-08-14T13:27:43.912545",
     "exception": false,
     "start_time": "2022-08-14T13:27:43.881260",
     "status": "completed"
    },
    "tags": []
   },
   "outputs": [
    {
     "name": "stdout",
     "output_type": "stream",
     "text": [
      "Shape of y_test (25000,)\n"
     ]
    }
   ],
   "source": [
    "print(\"Shape of y_test\", y_test.shape)"
   ]
  },
  {
   "cell_type": "markdown",
   "id": "9caec339",
   "metadata": {
    "papermill": {
     "duration": 0.020576,
     "end_time": "2022-08-14T13:27:43.955167",
     "exception": false,
     "start_time": "2022-08-14T13:27:43.934591",
     "status": "completed"
    },
    "tags": []
   },
   "source": [
    "Separate Categorical and Numerical variables (columns) for train dataframe"
   ]
  },
  {
   "cell_type": "code",
   "execution_count": 31,
   "id": "2303eda1",
   "metadata": {
    "_kg_hide-input": true,
    "execution": {
     "iopub.execute_input": "2022-08-14T13:27:43.997849Z",
     "iopub.status.busy": "2022-08-14T13:27:43.997326Z",
     "iopub.status.idle": "2022-08-14T13:27:44.148154Z",
     "shell.execute_reply": "2022-08-14T13:27:44.146496Z"
    },
    "papermill": {
     "duration": 0.176097,
     "end_time": "2022-08-14T13:27:44.151981",
     "exception": false,
     "start_time": "2022-08-14T13:27:43.975884",
     "status": "completed"
    },
    "tags": []
   },
   "outputs": [
    {
     "name": "stdout",
     "output_type": "stream",
     "text": [
      "Categorical variables (columns) are: ['D_63', 'D_64', 'D_68', 'B_30', 'B_38', 'D_114', 'D_116', 'D_117', 'D_120', 'D_126']\n",
      "Numerical variables (columns) are: ['P_2', 'D_39', 'B_1', 'B_2', 'R_1', 'S_3', 'D_41', 'B_3', 'D_43', 'D_44', 'B_4', 'D_45', 'B_5', 'R_2', 'D_46', 'D_47', 'D_48', 'B_6', 'B_7', 'B_8', 'D_50', 'D_51', 'B_9', 'R_3', 'D_52', 'P_3', 'B_10', 'D_53', 'S_5', 'B_11', 'S_6', 'D_54', 'R_4', 'S_7', 'B_12', 'S_8', 'D_55', 'D_56', 'B_13', 'R_5', 'D_58', 'S_9', 'B_14', 'D_59', 'D_60', 'D_61', 'B_15', 'S_11', 'D_62', 'D_65', 'B_16', 'B_17', 'B_18', 'B_19', 'B_20', 'S_12', 'R_6', 'S_13', 'B_21', 'D_69', 'B_22', 'D_70', 'D_71', 'D_72', 'S_15', 'B_23', 'P_4', 'D_74', 'D_75', 'B_24', 'R_7', 'D_77', 'B_25', 'B_26', 'D_78', 'D_79', 'R_8', 'S_16', 'D_80', 'R_10', 'R_11', 'B_27', 'D_81', 'D_82', 'S_17', 'R_12', 'B_28', 'R_13', 'D_83', 'R_14', 'R_15', 'D_84', 'R_16', 'S_18', 'D_86', 'R_17', 'R_18', 'B_31', 'S_19', 'R_19', 'B_32', 'S_20', 'R_20', 'R_21', 'B_33', 'D_89', 'R_22', 'R_23', 'D_91', 'D_92', 'D_93', 'D_94', 'R_24', 'R_25', 'D_96', 'S_22', 'S_23', 'S_24', 'S_25', 'S_26', 'D_102', 'D_103', 'D_104', 'D_105', 'D_107', 'B_36', 'B_37', 'R_27', 'D_109', 'D_112', 'B_40', 'S_27', 'D_113', 'D_115', 'D_118', 'D_119', 'D_121', 'D_122', 'D_123', 'D_124', 'D_125', 'D_127', 'D_128', 'D_129', 'B_41', 'D_130', 'D_131', 'D_133', 'R_28', 'D_139', 'D_140', 'D_141', 'D_143', 'D_144', 'D_145']\n"
     ]
    }
   ],
   "source": [
    "# define categorical variables (columns)\n",
    "categorical = list(X_train.select_dtypes('object').columns)\n",
    "print(f\"Categorical variables (columns) are: {categorical}\")\n",
    "\n",
    "# define numerical variables (columns)\n",
    "numerical = list(X_train.select_dtypes('number').columns)\n",
    "print(f\"Numerical variables (columns) are: {numerical}\")"
   ]
  },
  {
   "cell_type": "markdown",
   "id": "3d6b8701",
   "metadata": {
    "papermill": {
     "duration": 0.019409,
     "end_time": "2022-08-14T13:27:44.192483",
     "exception": false,
     "start_time": "2022-08-14T13:27:44.173074",
     "status": "completed"
    },
    "tags": []
   },
   "source": [
    "---\n",
    "**Handle Categorical Variable (Column)**\n",
    "\n",
    "---"
   ]
  },
  {
   "cell_type": "code",
   "execution_count": 32,
   "id": "04fadeef",
   "metadata": {
    "_kg_hide-input": true,
    "execution": {
     "iopub.execute_input": "2022-08-14T13:27:44.234195Z",
     "iopub.status.busy": "2022-08-14T13:27:44.233708Z",
     "iopub.status.idle": "2022-08-14T13:27:44.245680Z",
     "shell.execute_reply": "2022-08-14T13:27:44.244018Z"
    },
    "papermill": {
     "duration": 0.036215,
     "end_time": "2022-08-14T13:27:44.248488",
     "exception": false,
     "start_time": "2022-08-14T13:27:44.212273",
     "status": "completed"
    },
    "tags": []
   },
   "outputs": [
    {
     "name": "stdout",
     "output_type": "stream",
     "text": [
      "Pipeline(steps=[('imputer', SimpleImputer(strategy='most_frequent')),\n",
      "                ('encoder',\n",
      "                 OneHotEncoder(handle_unknown='ignore', sparse=False)),\n",
      "                ('scaler', StandardScaler())])\n"
     ]
    }
   ],
   "source": [
    "# define categorical pipeline\n",
    "cat_pipe = Pipeline([\n",
    "    ('imputer', SimpleImputer(strategy='most_frequent', missing_values=np.nan)),\n",
    "    ('encoder', OneHotEncoder(handle_unknown='ignore', sparse=False)),\n",
    "    ('scaler', StandardScaler())\n",
    "])\n",
    "\n",
    "print(cat_pipe)"
   ]
  },
  {
   "cell_type": "markdown",
   "id": "2f9d72ca",
   "metadata": {
    "papermill": {
     "duration": 0.020792,
     "end_time": "2022-08-14T13:27:44.290232",
     "exception": false,
     "start_time": "2022-08-14T13:27:44.269440",
     "status": "completed"
    },
    "tags": []
   },
   "source": [
    "---\n",
    "**Handle Numerical Variable (Column)**\n",
    "\n",
    "---"
   ]
  },
  {
   "cell_type": "code",
   "execution_count": 33,
   "id": "659b090a",
   "metadata": {
    "_kg_hide-input": true,
    "execution": {
     "iopub.execute_input": "2022-08-14T13:27:44.335699Z",
     "iopub.status.busy": "2022-08-14T13:27:44.334899Z",
     "iopub.status.idle": "2022-08-14T13:27:44.343822Z",
     "shell.execute_reply": "2022-08-14T13:27:44.342162Z"
    },
    "papermill": {
     "duration": 0.03458,
     "end_time": "2022-08-14T13:27:44.346425",
     "exception": false,
     "start_time": "2022-08-14T13:27:44.311845",
     "status": "completed"
    },
    "tags": []
   },
   "outputs": [
    {
     "name": "stdout",
     "output_type": "stream",
     "text": [
      "Pipeline(steps=[('imputer', SimpleImputer(strategy='most_frequent')),\n",
      "                ('scaler', StandardScaler())])\n"
     ]
    }
   ],
   "source": [
    "# define numerical pipeline\n",
    "num_pipe = Pipeline([\n",
    "    ('imputer', SimpleImputer(strategy='most_frequent', missing_values=np.nan)),\n",
    "    ('scaler', StandardScaler())\n",
    "])\n",
    "print(num_pipe)"
   ]
  },
  {
   "cell_type": "markdown",
   "id": "e673e872",
   "metadata": {
    "papermill": {
     "duration": 0.021421,
     "end_time": "2022-08-14T13:27:44.389394",
     "exception": false,
     "start_time": "2022-08-14T13:27:44.367973",
     "status": "completed"
    },
    "tags": []
   },
   "source": [
    "Combine Categorical and Numerical Pipeline Steps"
   ]
  },
  {
   "cell_type": "code",
   "execution_count": 34,
   "id": "f9ae45e2",
   "metadata": {
    "_kg_hide-input": true,
    "execution": {
     "iopub.execute_input": "2022-08-14T13:27:44.432676Z",
     "iopub.status.busy": "2022-08-14T13:27:44.432161Z",
     "iopub.status.idle": "2022-08-14T13:27:44.456108Z",
     "shell.execute_reply": "2022-08-14T13:27:44.454762Z"
    },
    "papermill": {
     "duration": 0.050142,
     "end_time": "2022-08-14T13:27:44.459752",
     "exception": false,
     "start_time": "2022-08-14T13:27:44.409610",
     "status": "completed"
    },
    "tags": []
   },
   "outputs": [
    {
     "name": "stdout",
     "output_type": "stream",
     "text": [
      "ColumnTransformer(transformers=[('cat',\n",
      "                                 Pipeline(steps=[('imputer',\n",
      "                                                  SimpleImputer(strategy='most_frequent')),\n",
      "                                                 ('encoder',\n",
      "                                                  OneHotEncoder(handle_unknown='ignore',\n",
      "                                                                sparse=False)),\n",
      "                                                 ('scaler', StandardScaler())]),\n",
      "                                 ['D_63', 'D_64', 'D_68', 'B_30', 'B_38',\n",
      "                                  'D_114', 'D_116', 'D_117', 'D_120',\n",
      "                                  'D_126']),\n",
      "                                ('num',\n",
      "                                 Pipeline(steps=[('imputer',\n",
      "                                                  SimpleImputer(strategy='most_frequent')),\n",
      "                                                 ('scaler', StandardScaler())]),\n",
      "                                 ['P_2', 'D_39', 'B_1', 'B_2', 'R_1', 'S_3',\n",
      "                                  'D_41', 'B_3', 'D_43', 'D_44', 'B_4', 'D_45',\n",
      "                                  'B_5', 'R_2', 'D_46', 'D_47', 'D_48', 'B_6',\n",
      "                                  'B_7', 'B_8', 'D_50', 'D_51', 'B_9', 'R_3',\n",
      "                                  'D_52', 'P_3', 'B_10', 'D_53', 'S_5', 'B_11', ...])])\n"
     ]
    }
   ],
   "source": [
    "# combine categorical and numerical pipeline\n",
    "preprocess = ColumnTransformer([\n",
    "    ('cat', cat_pipe, categorical),\n",
    "    ('num', num_pipe, numerical)\n",
    "])\n",
    "\n",
    "print(preprocess)"
   ]
  },
  {
   "cell_type": "markdown",
   "id": "d36a937b",
   "metadata": {
    "papermill": {
     "duration": 0.021699,
     "end_time": "2022-08-14T13:27:44.504643",
     "exception": false,
     "start_time": "2022-08-14T13:27:44.482944",
     "status": "completed"
    },
    "tags": []
   },
   "source": [
    "---\n",
    "# Model Building/Evaluation\n",
    "\n",
    "---"
   ]
  },
  {
   "cell_type": "markdown",
   "id": "a731e02d",
   "metadata": {
    "papermill": {
     "duration": 0.021008,
     "end_time": "2022-08-14T13:27:44.547644",
     "exception": false,
     "start_time": "2022-08-14T13:27:44.526636",
     "status": "completed"
    },
    "tags": []
   },
   "source": [
    "Amex Evaluation Metric for reference"
   ]
  },
  {
   "cell_type": "code",
   "execution_count": 35,
   "id": "3e2e8ca8",
   "metadata": {
    "_kg_hide-input": true,
    "execution": {
     "iopub.execute_input": "2022-08-14T13:27:44.594745Z",
     "iopub.status.busy": "2022-08-14T13:27:44.593025Z",
     "iopub.status.idle": "2022-08-14T13:27:44.609099Z",
     "shell.execute_reply": "2022-08-14T13:27:44.607990Z"
    },
    "papermill": {
     "duration": 0.041721,
     "end_time": "2022-08-14T13:27:44.611676",
     "exception": false,
     "start_time": "2022-08-14T13:27:44.569955",
     "status": "completed"
    },
    "tags": []
   },
   "outputs": [],
   "source": [
    "# please refer sample notebook provided under competition page\n",
    "def amex_metric(y_true: pd.DataFrame, y_pred: pd.DataFrame) -> float:\n",
    "\n",
    "    def top_four_percent_captured(y_true: pd.DataFrame, y_pred: pd.DataFrame) -> float:\n",
    "        df = (pd.concat([y_true, y_pred], axis='columns')\n",
    "              .sort_values('prediction', ascending=False))\n",
    "        df['weight'] = df['target'].apply(lambda x: 20 if x==0 else 1)\n",
    "        four_pct_cutoff = int(0.04 * df['weight'].sum())\n",
    "        df['weight_cumsum'] = df['weight'].cumsum()\n",
    "        df_cutoff = df.loc[df['weight_cumsum'] <= four_pct_cutoff]\n",
    "        return (df_cutoff['target'] == 1).sum() / (df['target'] == 1).sum()\n",
    "    \n",
    "    def weighted_gini(y_true: pd.DataFrame, y_pred: pd.DataFrame) -> float:\n",
    "        df = (pd.concat([y_true, y_pred], axis='columns')\n",
    "              .sort_values('prediction', ascending=False))\n",
    "        df['weight'] = df['target'].apply(lambda x: 20 if x==0 else 1)\n",
    "        df['random'] = (df['weight'] / df['weight'].sum()).cumsum()\n",
    "        total_pos = (df['target'] * df['weight']).sum()\n",
    "        df['cum_pos_found'] = (df['target'] * df['weight']).cumsum()\n",
    "        df['lorentz'] = df['cum_pos_found'] / total_pos\n",
    "        df['gini'] = (df['lorentz'] - df['random']) * df['weight']\n",
    "        return df['gini'].sum()\n",
    "    \n",
    "    def normalized_weighted_gini(y_true: pd.DataFrame, y_pred: pd.DataFrame) -> float:\n",
    "        y_true_pred = y_true.rename(columns={'target': 'prediction'})\n",
    "        return weighted_gini(y_true, y_pred) / weighted_gini(y_true, y_true_pred)\n",
    "\n",
    "    g = normalized_weighted_gini(y_true, y_pred)\n",
    "    d = top_four_percent_captured(y_true, y_pred)\n",
    "\n",
    "    return 0.5 * (g + d)"
   ]
  },
  {
   "cell_type": "markdown",
   "id": "60d1f4d2",
   "metadata": {
    "papermill": {
     "duration": 0.020865,
     "end_time": "2022-08-14T13:27:44.652792",
     "exception": false,
     "start_time": "2022-08-14T13:27:44.631927",
     "status": "completed"
    },
    "tags": []
   },
   "source": [
    "Using multiple classifier with pipeline steps for Model Building & Evaluation"
   ]
  },
  {
   "cell_type": "code",
   "execution_count": 36,
   "id": "8ff905f9",
   "metadata": {
    "_kg_hide-input": true,
    "execution": {
     "iopub.execute_input": "2022-08-14T13:27:44.699452Z",
     "iopub.status.busy": "2022-08-14T13:27:44.698388Z",
     "iopub.status.idle": "2022-08-14T13:44:35.383404Z",
     "shell.execute_reply": "2022-08-14T13:44:35.380111Z"
    },
    "papermill": {
     "duration": 1010.712425,
     "end_time": "2022-08-14T13:44:35.387120",
     "exception": false,
     "start_time": "2022-08-14T13:27:44.674695",
     "status": "completed"
    },
    "tags": []
   },
   "outputs": [
    {
     "name": "stdout",
     "output_type": "stream",
     "text": [
      "Using preprocess, smote, under sampler, feature selection and PCA\n",
      "preprocess - Categorical: Missing value Impute, OneHotEncoding and Scaling\n",
      "preprocess - Numerical: Missing value Impute and Scaling\n",
      "###########################################################################\n",
      "[Pipeline] ........ (step 1 of 6) Processing preprocess, total=   2.9s\n",
      "[Pipeline] ............. (step 2 of 6) Processing smote, total=  19.1s\n",
      "[Pipeline] ..... (step 3 of 6) Processing under_sampler, total=   0.1s\n",
      "[Pipeline] . (step 4 of 6) Processing feature_selection, total=  10.8s\n",
      "[Pipeline] ............... (step 5 of 6) Processing pca, total=   0.4s\n",
      "[Pipeline] ... (step 6 of 6) Processing model_estimator, total=   0.0s\n",
      "#######################################################################\n",
      "KNeighborsClassifier()\n",
      "#######################################################################\n",
      "Pipeline(steps=[('preprocess',\n",
      "                 ColumnTransformer(transformers=[('cat',\n",
      "                                                  Pipeline(steps=[('imputer',\n",
      "                                                                   SimpleImputer(strategy='most_frequent')),\n",
      "                                                                  ('encoder',\n",
      "                                                                   OneHotEncoder(handle_unknown='ignore',\n",
      "                                                                                 sparse=False)),\n",
      "                                                                  ('scaler',\n",
      "                                                                   StandardScaler())]),\n",
      "                                                  ['D_63', 'D_64', 'D_68',\n",
      "                                                   'B_30', 'B_38', 'D_114',\n",
      "                                                   'D_116', 'D_117', 'D_120',\n",
      "                                                   'D_126']),\n",
      "                                                 ('num',\n",
      "                                                  Pipeline(steps=[('imputer',\n",
      "                                                                   SimpleI...\n",
      "                                                   'B_8', 'D_50', 'D_51', 'B_9',\n",
      "                                                   'R_3', 'D_52', 'P_3', 'B_10',\n",
      "                                                   'D_53', 'S_5', 'B_11', ...])])),\n",
      "                ('smote', SMOTE(random_state=42)),\n",
      "                ('under_sampler', RandomUnderSampler()),\n",
      "                ('feature_selection',\n",
      "                 SelectFromModel(estimator=RandomForestClassifier(n_estimators=10,\n",
      "                                                                  n_jobs=-1,\n",
      "                                                                  random_state=42))),\n",
      "                ('pca', PCA(n_components='mle', random_state=42)),\n",
      "                ('model_estimator', KNeighborsClassifier())],\n",
      "         verbose=True)\n",
      "model training score: 0.962\n",
      "model validation score: 0.930\n",
      "#######################################################################\n",
      "Amex Evaluation Metric - Training: 0.020\n",
      "Amex Evaluation Metric - Validation: -0.003\n",
      "#######################################################################\n",
      "[Pipeline] ........ (step 1 of 6) Processing preprocess, total=   2.6s\n",
      "[Pipeline] ............. (step 2 of 6) Processing smote, total=   9.6s\n",
      "[Pipeline] ..... (step 3 of 6) Processing under_sampler, total=   0.1s\n",
      "[Pipeline] . (step 4 of 6) Processing feature_selection, total=  10.7s\n",
      "[Pipeline] ............... (step 5 of 6) Processing pca, total=   0.3s\n",
      "[Pipeline] ... (step 6 of 6) Processing model_estimator, total=  13.5s\n",
      "#######################################################################\n",
      "DecisionTreeClassifier()\n",
      "#######################################################################\n",
      "Pipeline(steps=[('preprocess',\n",
      "                 ColumnTransformer(transformers=[('cat',\n",
      "                                                  Pipeline(steps=[('imputer',\n",
      "                                                                   SimpleImputer(strategy='most_frequent')),\n",
      "                                                                  ('encoder',\n",
      "                                                                   OneHotEncoder(handle_unknown='ignore',\n",
      "                                                                                 sparse=False)),\n",
      "                                                                  ('scaler',\n",
      "                                                                   StandardScaler())]),\n",
      "                                                  ['D_63', 'D_64', 'D_68',\n",
      "                                                   'B_30', 'B_38', 'D_114',\n",
      "                                                   'D_116', 'D_117', 'D_120',\n",
      "                                                   'D_126']),\n",
      "                                                 ('num',\n",
      "                                                  Pipeline(steps=[('imputer',\n",
      "                                                                   SimpleI...\n",
      "                                                   'B_8', 'D_50', 'D_51', 'B_9',\n",
      "                                                   'R_3', 'D_52', 'P_3', 'B_10',\n",
      "                                                   'D_53', 'S_5', 'B_11', ...])])),\n",
      "                ('smote', SMOTE(random_state=42)),\n",
      "                ('under_sampler', RandomUnderSampler()),\n",
      "                ('feature_selection',\n",
      "                 SelectFromModel(estimator=RandomForestClassifier(n_estimators=10,\n",
      "                                                                  n_jobs=-1,\n",
      "                                                                  random_state=42))),\n",
      "                ('pca', PCA(n_components='mle', random_state=42)),\n",
      "                ('model_estimator', DecisionTreeClassifier())],\n",
      "         verbose=True)\n",
      "model training score: 1.000\n",
      "model validation score: 0.863\n",
      "#######################################################################\n",
      "Amex Evaluation Metric - Training: 0.016\n",
      "Amex Evaluation Metric - Validation: -0.002\n",
      "#######################################################################\n",
      "[Pipeline] ........ (step 1 of 6) Processing preprocess, total=   2.5s\n",
      "[Pipeline] ............. (step 2 of 6) Processing smote, total=   9.3s\n",
      "[Pipeline] ..... (step 3 of 6) Processing under_sampler, total=   0.1s\n",
      "[Pipeline] . (step 4 of 6) Processing feature_selection, total=  10.1s\n",
      "[Pipeline] ............... (step 5 of 6) Processing pca, total=   0.2s\n",
      "[Pipeline] ... (step 6 of 6) Processing model_estimator, total= 1.8min\n",
      "#######################################################################\n",
      "RandomForestClassifier()\n",
      "#######################################################################\n",
      "Pipeline(steps=[('preprocess',\n",
      "                 ColumnTransformer(transformers=[('cat',\n",
      "                                                  Pipeline(steps=[('imputer',\n",
      "                                                                   SimpleImputer(strategy='most_frequent')),\n",
      "                                                                  ('encoder',\n",
      "                                                                   OneHotEncoder(handle_unknown='ignore',\n",
      "                                                                                 sparse=False)),\n",
      "                                                                  ('scaler',\n",
      "                                                                   StandardScaler())]),\n",
      "                                                  ['D_63', 'D_64', 'D_68',\n",
      "                                                   'B_30', 'B_38', 'D_114',\n",
      "                                                   'D_116', 'D_117', 'D_120',\n",
      "                                                   'D_126']),\n",
      "                                                 ('num',\n",
      "                                                  Pipeline(steps=[('imputer',\n",
      "                                                                   SimpleI...\n",
      "                                                   'B_8', 'D_50', 'D_51', 'B_9',\n",
      "                                                   'R_3', 'D_52', 'P_3', 'B_10',\n",
      "                                                   'D_53', 'S_5', 'B_11', ...])])),\n",
      "                ('smote', SMOTE(random_state=42)),\n",
      "                ('under_sampler', RandomUnderSampler()),\n",
      "                ('feature_selection',\n",
      "                 SelectFromModel(estimator=RandomForestClassifier(n_estimators=10,\n",
      "                                                                  n_jobs=-1,\n",
      "                                                                  random_state=42))),\n",
      "                ('pca', PCA(n_components='mle', random_state=42)),\n",
      "                ('model_estimator', RandomForestClassifier())],\n",
      "         verbose=True)\n",
      "model training score: 1.000\n",
      "model validation score: 0.915\n",
      "#######################################################################\n",
      "Amex Evaluation Metric - Training: 0.016\n",
      "Amex Evaluation Metric - Validation: -0.001\n",
      "#######################################################################\n",
      "[Pipeline] ........ (step 1 of 6) Processing preprocess, total=   2.6s\n",
      "[Pipeline] ............. (step 2 of 6) Processing smote, total=   9.5s\n",
      "[Pipeline] ..... (step 3 of 6) Processing under_sampler, total=   0.1s\n",
      "[Pipeline] . (step 4 of 6) Processing feature_selection, total=  10.4s\n",
      "[Pipeline] ............... (step 5 of 6) Processing pca, total=   0.3s\n",
      "[Pipeline] ... (step 6 of 6) Processing model_estimator, total=  45.6s\n",
      "#######################################################################\n",
      "AdaBoostClassifier(random_state=42)\n",
      "#######################################################################\n",
      "Pipeline(steps=[('preprocess',\n",
      "                 ColumnTransformer(transformers=[('cat',\n",
      "                                                  Pipeline(steps=[('imputer',\n",
      "                                                                   SimpleImputer(strategy='most_frequent')),\n",
      "                                                                  ('encoder',\n",
      "                                                                   OneHotEncoder(handle_unknown='ignore',\n",
      "                                                                                 sparse=False)),\n",
      "                                                                  ('scaler',\n",
      "                                                                   StandardScaler())]),\n",
      "                                                  ['D_63', 'D_64', 'D_68',\n",
      "                                                   'B_30', 'B_38', 'D_114',\n",
      "                                                   'D_116', 'D_117', 'D_120',\n",
      "                                                   'D_126']),\n",
      "                                                 ('num',\n",
      "                                                  Pipeline(steps=[('imputer',\n",
      "                                                                   SimpleI...\n",
      "                                                   'R_3', 'D_52', 'P_3', 'B_10',\n",
      "                                                   'D_53', 'S_5', 'B_11', ...])])),\n",
      "                ('smote', SMOTE(random_state=42)),\n",
      "                ('under_sampler', RandomUnderSampler()),\n",
      "                ('feature_selection',\n",
      "                 SelectFromModel(estimator=RandomForestClassifier(n_estimators=10,\n",
      "                                                                  n_jobs=-1,\n",
      "                                                                  random_state=42))),\n",
      "                ('pca', PCA(n_components='mle', random_state=42)),\n",
      "                ('model_estimator', AdaBoostClassifier(random_state=42))],\n",
      "         verbose=True)\n",
      "model training score: 0.836\n",
      "model validation score: 0.829\n",
      "#######################################################################\n",
      "Amex Evaluation Metric - Training: 0.020\n",
      "Amex Evaluation Metric - Validation: -0.001\n",
      "#######################################################################\n",
      "[Pipeline] ........ (step 1 of 6) Processing preprocess, total=   2.7s\n",
      "[Pipeline] ............. (step 2 of 6) Processing smote, total=   9.5s\n",
      "[Pipeline] ..... (step 3 of 6) Processing under_sampler, total=   0.1s\n",
      "[Pipeline] . (step 4 of 6) Processing feature_selection, total=  10.1s\n",
      "[Pipeline] ............... (step 5 of 6) Processing pca, total=   0.4s\n",
      "[Pipeline] ... (step 6 of 6) Processing model_estimator, total= 4.4min\n",
      "#######################################################################\n",
      "GradientBoostingClassifier(random_state=42)\n",
      "#######################################################################\n",
      "Pipeline(steps=[('preprocess',\n",
      "                 ColumnTransformer(transformers=[('cat',\n",
      "                                                  Pipeline(steps=[('imputer',\n",
      "                                                                   SimpleImputer(strategy='most_frequent')),\n",
      "                                                                  ('encoder',\n",
      "                                                                   OneHotEncoder(handle_unknown='ignore',\n",
      "                                                                                 sparse=False)),\n",
      "                                                                  ('scaler',\n",
      "                                                                   StandardScaler())]),\n",
      "                                                  ['D_63', 'D_64', 'D_68',\n",
      "                                                   'B_30', 'B_38', 'D_114',\n",
      "                                                   'D_116', 'D_117', 'D_120',\n",
      "                                                   'D_126']),\n",
      "                                                 ('num',\n",
      "                                                  Pipeline(steps=[('imputer',\n",
      "                                                                   SimpleI...\n",
      "                                                   'R_3', 'D_52', 'P_3', 'B_10',\n",
      "                                                   'D_53', 'S_5', 'B_11', ...])])),\n",
      "                ('smote', SMOTE(random_state=42)),\n",
      "                ('under_sampler', RandomUnderSampler()),\n",
      "                ('feature_selection',\n",
      "                 SelectFromModel(estimator=RandomForestClassifier(n_estimators=10,\n",
      "                                                                  n_jobs=-1,\n",
      "                                                                  random_state=42))),\n",
      "                ('pca', PCA(n_components='mle', random_state=42)),\n",
      "                ('model_estimator',\n",
      "                 GradientBoostingClassifier(random_state=42))],\n",
      "         verbose=True)\n",
      "model training score: 0.846\n",
      "model validation score: 0.838\n",
      "#######################################################################\n",
      "Amex Evaluation Metric - Training: 0.026\n",
      "Amex Evaluation Metric - Validation: -0.001\n",
      "#######################################################################\n"
     ]
    }
   ],
   "source": [
    "# using some of the best known classifiers\n",
    "classifiers = [\n",
    "    KNeighborsClassifier(),\n",
    "    DecisionTreeClassifier(),\n",
    "    RandomForestClassifier(),\n",
    "    AdaBoostClassifier(random_state=42),\n",
    "    GradientBoostingClassifier(random_state=42)\n",
    "    ]\n",
    "print(\"Using preprocess, smote, under sampler, feature selection and PCA\")\n",
    "print(\"preprocess - Categorical: Missing value Impute, OneHotEncoding and Scaling\")\n",
    "print(\"preprocess - Numerical: Missing value Impute and Scaling\")\n",
    "print(\"###########################################################################\")\n",
    "for classifier in classifiers:\n",
    "    steps = [\n",
    "        ('preprocess', preprocess),\n",
    "        ('smote',SMOTE(random_state=42)),\n",
    "        ('under_sampler',RandomUnderSampler()),\n",
    "        ('feature_selection', SelectFromModel(RandomForestClassifier(n_estimators = 10, random_state = 42, n_jobs = -1))),\n",
    "        ('pca', PCA(n_components='mle',random_state = 42)),\n",
    "        ('model_estimator', classifier) \n",
    "    ]\n",
    "    pipe = Pipeline(steps, verbose=True)\n",
    "    model = pipe.fit(X_train, y_train)  \n",
    "    print(\"#######################################################################\")\n",
    "    print(classifier)\n",
    "    print(\"#######################################################################\")\n",
    "    print (model)\n",
    "    print(\"model training score: %.3f\" % pipe.score(X_train, y_train))\n",
    "    print(\"model validation score: %.3f\" % pipe.score(X_test, y_test))\n",
    "    print(\"#######################################################################\")\n",
    "    print(\"Amex Evaluation Metric - Training: %.3f\"% amex_metric(pd.DataFrame(y_train), pd.DataFrame(pipe.predict(X_train), columns=['prediction'])))\n",
    "    print(\"Amex Evaluation Metric - Validation: %.3f\"% amex_metric(pd.DataFrame(y_test), pd.DataFrame(pipe.predict(X_test), columns=['prediction'])))\n",
    "    print(\"#######################################################################\")"
   ]
  },
  {
   "cell_type": "markdown",
   "id": "85106797",
   "metadata": {
    "papermill": {
     "duration": 0.028437,
     "end_time": "2022-08-14T13:44:35.441318",
     "exception": false,
     "start_time": "2022-08-14T13:44:35.412881",
     "status": "completed"
    },
    "tags": []
   },
   "source": [
    "\n"
   ]
  },
  {
   "cell_type": "markdown",
   "id": "a16f5877",
   "metadata": {
    "papermill": {
     "duration": 0.027604,
     "end_time": "2022-08-14T13:44:35.497645",
     "exception": false,
     "start_time": "2022-08-14T13:44:35.470041",
     "status": "completed"
    },
    "tags": []
   },
   "source": [
    "Using XGBClassifier\n",
    "\n",
    "TBD"
   ]
  },
  {
   "cell_type": "markdown",
   "id": "5de3e97d",
   "metadata": {
    "papermill": {
     "duration": 0.028079,
     "end_time": "2022-08-14T13:44:35.552009",
     "exception": false,
     "start_time": "2022-08-14T13:44:35.523930",
     "status": "completed"
    },
    "tags": []
   },
   "source": [
    "Using LGBMClassifier\n",
    "\n",
    "TBD"
   ]
  },
  {
   "cell_type": "markdown",
   "id": "f23f9e90",
   "metadata": {
    "papermill": {
     "duration": 0.025548,
     "end_time": "2022-08-14T13:44:35.606358",
     "exception": false,
     "start_time": "2022-08-14T13:44:35.580810",
     "status": "completed"
    },
    "tags": []
   },
   "source": [
    "Using Cross-Validation\n",
    "\n",
    "TBD"
   ]
  },
  {
   "cell_type": "code",
   "execution_count": 37,
   "id": "9b54cfc8",
   "metadata": {
    "_kg_hide-input": true,
    "execution": {
     "iopub.execute_input": "2022-08-14T13:44:35.662688Z",
     "iopub.status.busy": "2022-08-14T13:44:35.662080Z",
     "iopub.status.idle": "2022-08-14T13:44:35.670002Z",
     "shell.execute_reply": "2022-08-14T13:44:35.668025Z"
    },
    "papermill": {
     "duration": 0.040804,
     "end_time": "2022-08-14T13:44:35.672786",
     "exception": false,
     "start_time": "2022-08-14T13:44:35.631982",
     "status": "completed"
    },
    "tags": []
   },
   "outputs": [],
   "source": [
    "#pipe.set_params(model_estimator=xgb)\n",
    "#scoring ={'recall_score':'recall','f1_score':'f1','amex_metric':make_scorer(amex_metric)}\n",
    "#cv = RepeatedStratifiedKFold(n_splits=5, n_repeats=3, random_state=42)\n",
    "#scores = cross_validate(pipe, X_train, y_train, scoring=scoring, cv=cv, n_jobs=-1,return_train_score=True)\n",
    "# print(\"Model Training Score:\")\n",
    "# print('Recall: {:.2f}, f1-score: {:.2f}, Amex Metric: {:.2f}'.format(np.mean(scores['train_recall_score']), np.mean(scores['train_f1_score']), np.mean(scores['train_amex_metric'])))\n",
    "# print(\"#######################################################################\")\n",
    "# print(\"Model Validation Score:\")\n",
    "# print('Recall: {:.2f}, f1-score: {:.2f}, Amex Metric: {:.2f}'.format(np.mean(scores['test_recall_score']), np.mean(scores['test_f1_score']), np.mean(scores['test_amex_metric'])))\n"
   ]
  },
  {
   "cell_type": "markdown",
   "id": "a90a5f39",
   "metadata": {
    "papermill": {
     "duration": 0.024398,
     "end_time": "2022-08-14T13:44:35.724622",
     "exception": false,
     "start_time": "2022-08-14T13:44:35.700224",
     "status": "completed"
    },
    "tags": []
   },
   "source": [
    "---\n",
    "**Prediction/Sample Submission file**\n",
    "\n",
    "---"
   ]
  },
  {
   "cell_type": "code",
   "execution_count": 38,
   "id": "63ff6191",
   "metadata": {
    "_kg_hide-input": true,
    "execution": {
     "iopub.execute_input": "2022-08-14T13:44:35.777323Z",
     "iopub.status.busy": "2022-08-14T13:44:35.775908Z",
     "iopub.status.idle": "2022-08-14T13:44:35.791565Z",
     "shell.execute_reply": "2022-08-14T13:44:35.789042Z"
    },
    "papermill": {
     "duration": 0.045557,
     "end_time": "2022-08-14T13:44:35.795706",
     "exception": false,
     "start_time": "2022-08-14T13:44:35.750149",
     "status": "completed"
    },
    "tags": []
   },
   "outputs": [
    {
     "name": "stderr",
     "output_type": "stream",
     "text": [
      "/opt/conda/lib/python3.7/site-packages/ipykernel_launcher.py:1: PerformanceWarning: DataFrame is highly fragmented.  This is usually the result of calling `frame.insert` many times, which has poor performance.  Consider joining all columns at once using pd.concat(axis=1) instead.  To get a de-fragmented frame, use `newframe = frame.copy()`\n",
      "  \"\"\"Entry point for launching an IPython kernel.\n"
     ]
    }
   ],
   "source": [
    "test_df.reset_index(inplace=True)"
   ]
  },
  {
   "cell_type": "code",
   "execution_count": 39,
   "id": "b2644cff",
   "metadata": {
    "_kg_hide-input": true,
    "execution": {
     "iopub.execute_input": "2022-08-14T13:44:35.848943Z",
     "iopub.status.busy": "2022-08-14T13:44:35.848435Z",
     "iopub.status.idle": "2022-08-14T13:44:36.061680Z",
     "shell.execute_reply": "2022-08-14T13:44:36.060488Z"
    },
    "papermill": {
     "duration": 0.242367,
     "end_time": "2022-08-14T13:44:36.064545",
     "exception": false,
     "start_time": "2022-08-14T13:44:35.822178",
     "status": "completed"
    },
    "tags": []
   },
   "outputs": [],
   "source": [
    "X_test_predict = test_df.groupby('customer_ID').tail(1)"
   ]
  },
  {
   "cell_type": "code",
   "execution_count": 40,
   "id": "173d6f76",
   "metadata": {
    "_kg_hide-input": true,
    "execution": {
     "iopub.execute_input": "2022-08-14T13:44:36.117476Z",
     "iopub.status.busy": "2022-08-14T13:44:36.117025Z",
     "iopub.status.idle": "2022-08-14T13:44:36.131412Z",
     "shell.execute_reply": "2022-08-14T13:44:36.130022Z"
    },
    "papermill": {
     "duration": 0.044618,
     "end_time": "2022-08-14T13:44:36.134646",
     "exception": false,
     "start_time": "2022-08-14T13:44:36.090028",
     "status": "completed"
    },
    "tags": []
   },
   "outputs": [
    {
     "data": {
      "text/plain": [
       "(8154, 166)"
      ]
     },
     "execution_count": 40,
     "metadata": {},
     "output_type": "execute_result"
    }
   ],
   "source": [
    "X_test_predict.shape"
   ]
  },
  {
   "cell_type": "code",
   "execution_count": 41,
   "id": "3dc164b2",
   "metadata": {
    "_kg_hide-input": true,
    "execution": {
     "iopub.execute_input": "2022-08-14T13:44:36.188084Z",
     "iopub.status.busy": "2022-08-14T13:44:36.186584Z",
     "iopub.status.idle": "2022-08-14T13:44:36.196013Z",
     "shell.execute_reply": "2022-08-14T13:44:36.194747Z"
    },
    "papermill": {
     "duration": 0.038878,
     "end_time": "2022-08-14T13:44:36.198864",
     "exception": false,
     "start_time": "2022-08-14T13:44:36.159986",
     "status": "completed"
    },
    "tags": []
   },
   "outputs": [],
   "source": [
    "X_test_predict.set_index('customer_ID', inplace=True)"
   ]
  },
  {
   "cell_type": "markdown",
   "id": "ccbdcab6",
   "metadata": {
    "papermill": {
     "duration": 0.025754,
     "end_time": "2022-08-14T13:44:36.252518",
     "exception": false,
     "start_time": "2022-08-14T13:44:36.226764",
     "status": "completed"
    },
    "tags": []
   },
   "source": [
    "Prediction on test dataset "
   ]
  },
  {
   "cell_type": "code",
   "execution_count": 42,
   "id": "028200e4",
   "metadata": {
    "_kg_hide-input": true,
    "execution": {
     "iopub.execute_input": "2022-08-14T13:44:36.308026Z",
     "iopub.status.busy": "2022-08-14T13:44:36.307529Z",
     "iopub.status.idle": "2022-08-14T13:44:36.663321Z",
     "shell.execute_reply": "2022-08-14T13:44:36.661778Z"
    },
    "papermill": {
     "duration": 0.388367,
     "end_time": "2022-08-14T13:44:36.667877",
     "exception": false,
     "start_time": "2022-08-14T13:44:36.279510",
     "status": "completed"
    },
    "tags": []
   },
   "outputs": [],
   "source": [
    "# prediction on test dataset using pipeline steps\n",
    "y_test_pred = pipe.predict(X_test_predict)"
   ]
  },
  {
   "cell_type": "markdown",
   "id": "018dc92b",
   "metadata": {
    "papermill": {
     "duration": 0.040686,
     "end_time": "2022-08-14T13:44:36.753497",
     "exception": false,
     "start_time": "2022-08-14T13:44:36.712811",
     "status": "completed"
    },
    "tags": []
   },
   "source": [
    "Generation of submission.csv file with customer_ID and prediction as header"
   ]
  },
  {
   "cell_type": "code",
   "execution_count": 43,
   "id": "f82ec926",
   "metadata": {
    "_kg_hide-input": true,
    "execution": {
     "iopub.execute_input": "2022-08-14T13:44:36.810165Z",
     "iopub.status.busy": "2022-08-14T13:44:36.809704Z",
     "iopub.status.idle": "2022-08-14T13:44:36.845808Z",
     "shell.execute_reply": "2022-08-14T13:44:36.844081Z"
    },
    "papermill": {
     "duration": 0.067427,
     "end_time": "2022-08-14T13:44:36.848772",
     "exception": false,
     "start_time": "2022-08-14T13:44:36.781345",
     "status": "completed"
    },
    "tags": []
   },
   "outputs": [],
   "source": [
    "# generate submission file\n",
    "output = pd.DataFrame({'customer_ID': X_test_predict.index,'prediction': y_test_pred})\n",
    "output.to_csv('submission.csv', index=False, header=True)"
   ]
  },
  {
   "cell_type": "markdown",
   "id": "605eb923",
   "metadata": {
    "papermill": {
     "duration": 0.026421,
     "end_time": "2022-08-14T13:44:36.899314",
     "exception": false,
     "start_time": "2022-08-14T13:44:36.872893",
     "status": "completed"
    },
    "tags": []
   },
   "source": [
    "---\n",
    "# Summary\n",
    "\n",
    "---"
   ]
  },
  {
   "cell_type": "markdown",
   "id": "144f860d",
   "metadata": {
    "papermill": {
     "duration": 0.026618,
     "end_time": "2022-08-14T13:44:36.952196",
     "exception": false,
     "start_time": "2022-08-14T13:44:36.925578",
     "status": "completed"
    },
    "tags": []
   },
   "source": [
    "* Variables (Columns) with missing value >= 75% was removed\n",
    "* SimpleImputer was used for Variables (Columns) with missing value <= 25%\n",
    "* OneHotEncoder was used for encoding Categorical Variables\n",
    "* SMOTE was used to address Data Imbalance along with RandomUnderSampler\n",
    "* RandomForestClassifier was used for Feature Selection\n",
    "* PCA was used for Dimensionality Reduction\n",
    "\n"
   ]
  },
  {
   "cell_type": "markdown",
   "id": "f010f62d",
   "metadata": {
    "papermill": {
     "duration": 0.026229,
     "end_time": "2022-08-14T13:44:37.004191",
     "exception": false,
     "start_time": "2022-08-14T13:44:36.977962",
     "status": "completed"
    },
    "tags": []
   },
   "source": [
    "---\n",
    "# Next Steps\n",
    "\n",
    "---"
   ]
  },
  {
   "cell_type": "markdown",
   "id": "9adadf4c",
   "metadata": {
    "papermill": {
     "duration": 0.024953,
     "end_time": "2022-08-14T13:44:37.053192",
     "exception": false,
     "start_time": "2022-08-14T13:44:37.028239",
     "status": "completed"
    },
    "tags": []
   },
   "source": [
    "* **For Model Selection and Submission**\n",
    "    * Usage of GridSearchCV or RandomizedSearchCV to search hyperparameter for model\n",
    "    * Model selection based on best cross validation score \n",
    "    * Minimum 925000+ unique test data points needed for prediction in submission file\n",
    "    * Generate submission.csv file with customer_ID and prediction as header"
   ]
  },
  {
   "cell_type": "markdown",
   "id": "d0d9477e",
   "metadata": {
    "papermill": {
     "duration": 0.023382,
     "end_time": "2022-08-14T13:44:37.102379",
     "exception": false,
     "start_time": "2022-08-14T13:44:37.078997",
     "status": "completed"
    },
    "tags": []
   },
   "source": [
    "---\n",
    "**Thank you and Happy Learning.**\n",
    "\n",
    "---"
   ]
  },
  {
   "cell_type": "code",
   "execution_count": 44,
   "id": "5d8b2cfd",
   "metadata": {
    "_kg_hide-input": true,
    "execution": {
     "iopub.execute_input": "2022-08-14T13:44:37.154848Z",
     "iopub.status.busy": "2022-08-14T13:44:37.154026Z",
     "iopub.status.idle": "2022-08-14T13:44:37.794306Z",
     "shell.execute_reply": "2022-08-14T13:44:37.792933Z"
    },
    "papermill": {
     "duration": 0.670428,
     "end_time": "2022-08-14T13:44:37.797505",
     "exception": false,
     "start_time": "2022-08-14T13:44:37.127077",
     "status": "completed"
    },
    "tags": []
   },
   "outputs": [
    {
     "data": {
      "image/png": "[encoded data removed]",
      "text/plain": [
       "<Figure size 1440x1440 with 1 Axes>"
      ]
     },
     "metadata": {},
     "output_type": "display_data"
    }
   ],
   "source": [
    "thank_you_str=\"Thanks,Happy Learning,Collaboration,Thankyou,Keep Learning\"\n",
    "# create WordCloud with converted string\n",
    "wordcloud = WordCloud(width = 1000, height = 500, random_state=1, background_color='white', collocations=True).generate(thank_you_str)\n",
    "plt.figure(figsize=(20, 20))\n",
    "plt.imshow(wordcloud) \n",
    "plt.axis(\"off\")\n",
    "plt.show()"
   ]
  }
 ],
 "metadata": {
  "kernelspec": {
   "display_name": "Python 3",
   "language": "python",
   "name": "python3"
  },
  "language_info": {
   "codemirror_mode": {
    "name": "ipython",
    "version": 3
   },
   "file_extension": ".py",
   "mimetype": "text/x-python",
   "name": "python",
   "nbconvert_exporter": "python",
   "pygments_lexer": "ipython3",
   "version": "3.8.8"
  },
  "papermill": {
   "default_parameters": {},
   "duration": 1060.344882,
   "end_time": "2022-08-14T13:44:39.860304",
   "environment_variables": {},
   "exception": null,
   "input_path": "__notebook__.ipynb",
   "output_path": "__notebook__.ipynb",
   "parameters": {},
   "start_time": "2022-08-14T13:26:59.515422",
   "version": "2.3.4"
  }
 },
 "nbformat": 4,
 "nbformat_minor": 5
}
