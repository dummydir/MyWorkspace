{
 "cells": [
  {
   "cell_type": "markdown",
   "id": "ea24c568",
   "metadata": {
    "papermill": {
     "duration": 0.013243,
     "end_time": "2022-07-17T17:32:41.828038",
     "exception": false,
     "start_time": "2022-07-17T17:32:41.814795",
     "status": "completed"
    },
    "tags": []
   },
   "source": [
    "## Exploring the Bitcoin Cryptocurrency Market"
   ]
  },
  {
   "cell_type": "markdown",
   "id": "4bda8bf4",
   "metadata": {
    "papermill": {
     "duration": 0.012617,
     "end_time": "2022-07-17T17:32:41.853016",
     "exception": false,
     "start_time": "2022-07-17T17:32:41.840399",
     "status": "completed"
    },
    "tags": []
   },
   "source": [
    "Explore the market capitalization of Bitcoin and other cryptocurrencies."
   ]
  },
  {
   "cell_type": "markdown",
   "id": "7ff43ce2",
   "metadata": {
    "papermill": {
     "duration": 0.012022,
     "end_time": "2022-07-17T17:32:41.877709",
     "exception": false,
     "start_time": "2022-07-17T17:32:41.865687",
     "status": "completed"
    },
    "tags": []
   },
   "source": [
    "#### Project Description"
   ]
  },
  {
   "cell_type": "markdown",
   "id": "1eec6d1e",
   "metadata": {
    "papermill": {
     "duration": 0.012245,
     "end_time": "2022-07-17T17:32:41.902177",
     "exception": false,
     "start_time": "2022-07-17T17:32:41.889932",
     "status": "completed"
    },
    "tags": []
   },
   "source": [
    "Exploring the Bitcoin Cryptocurrency MarketTo better understand the growth and impact of Bitcoin and other cryptocurrencies you will, in this project, explore the market capitalization of different cryptocurrencies."
   ]
  },
  {
   "cell_type": "markdown",
   "id": "f1753200",
   "metadata": {
    "papermill": {
     "duration": 0.012933,
     "end_time": "2022-07-17T17:32:41.927601",
     "exception": false,
     "start_time": "2022-07-17T17:32:41.914668",
     "status": "completed"
    },
    "tags": []
   },
   "source": [
    "<b>Warning:</b> The cryptocurrency market is exceptionally volatile, and any money you put in might disappear into thin air. Never invest money you can't afford to lose."
   ]
  },
  {
   "cell_type": "markdown",
   "id": "c08592d1",
   "metadata": {
    "papermill": {
     "duration": 0.012431,
     "end_time": "2022-07-17T17:32:41.952525",
     "exception": false,
     "start_time": "2022-07-17T17:32:41.940094",
     "status": "completed"
    },
    "tags": []
   },
   "source": [
    "### Project Tasks"
   ]
  },
  {
   "cell_type": "markdown",
   "id": "60eef0de",
   "metadata": {
    "papermill": {
     "duration": 0.012272,
     "end_time": "2022-07-17T17:32:41.976953",
     "exception": false,
     "start_time": "2022-07-17T17:32:41.964681",
     "status": "completed"
    },
    "tags": []
   },
   "source": [
    "1. Bitcoin and Cryptocurrencies: Full dataset, filtering, and reproducibility\n",
    "2. Discard the cryptocurrencies without a market capitalization\n",
    "3. How big is Bitcoin compared with the rest of the cryptocurrencies?\n",
    "4. Making the plot easier to read and more informative\n",
    "5. What is going on?! Volatility in cryptocurrencies\n",
    "6. Well, we can already see that things are *a bit* crazy\n",
    "7. Ok, those are... interesting. Let's check the weekly Series too.\n",
    "8. How small is small?\n",
    "9. Most coins are tiny"
   ]
  },
  {
   "cell_type": "markdown",
   "id": "1fa1a830",
   "metadata": {
    "papermill": {
     "duration": 0.012307,
     "end_time": "2022-07-17T17:32:42.001595",
     "exception": false,
     "start_time": "2022-07-17T17:32:41.989288",
     "status": "completed"
    },
    "tags": []
   },
   "source": [
    "## 1. Bitcoin and Cryptocurrencies: Full dataset, filtering, and reproducibility\n",
    "<p>Since the <a href=\"https://newfronttest.bitcoin.com/bitcoin.pdf\">launch of Bitcoin in 2008</a>, hundreds of similar projects based on the blockchain technology have emerged. We call these cryptocurrencies (also coins or cryptos in the Internet slang). Some are extremely valuable nowadays, and others may have the potential to become extremely valuable in the future<sup>1</sup>. In fact, on the 6th of December of 2017, Bitcoin has a <a href=\"https://en.wikipedia.org/wiki/Market_capitalization\">market capitalization</a> above $200 billion. </p>\n",
    "<p"
   ]
  },
  {
   "cell_type": "markdown",
   "id": "960225b2",
   "metadata": {
    "papermill": {
     "duration": 0.012609,
     "end_time": "2022-07-17T17:32:42.026926",
     "exception": false,
     "start_time": "2022-07-17T17:32:42.014317",
     "status": "completed"
    },
    "tags": []
   },
   "source": [
    "<center>\n",
    "<img src=\"datasets//bitcoint_market_cap_2017.png\" style=\"width:500px\"> <br> \n",
    "<em>The astonishing increase of Bitcoin market capitalization in 2017.</em></center>"
   ]
  },
  {
   "cell_type": "markdown",
   "id": "609bde8f",
   "metadata": {
    "papermill": {
     "duration": 0.012155,
     "end_time": "2022-07-17T17:32:42.051868",
     "exception": false,
     "start_time": "2022-07-17T17:32:42.039713",
     "status": "completed"
    },
    "tags": []
   },
   "source": [
    "<p>*<sup>1</sup> <strong>WARNING</strong>: The cryptocurrency market is exceptionally volatile<sup>2</sup> and any money you put in might disappear into thin air.  Cryptocurrencies mentioned here <strong>might be scams</strong> similar to <a href=\"https://en.wikipedia.org/wiki/Ponzi_scheme\">Ponzi Schemes</a> or have many other issues (overvaluation, technical, etc.). <strong>Please do not mistake this for investment advice</strong>. *</p>\n",
    "<p><em><sup>2</sup> <strong>Update on March 2020</strong>: Well, it turned out to be volatile indeed :D</em></p>\n",
    "<p>That said, let's get to business. We will start with a CSV we conveniently downloaded on the 6th of December of 2017 using the coinmarketcap API (NOTE: The public API went private in 2020 and is no longer available) named <code>datasets/coinmarketcap_06122017.csv</code>. </p>"
   ]
  },
  {
   "cell_type": "code",
   "execution_count": 1,
   "id": "1e9ee126",
   "metadata": {
    "execution": {
     "iopub.execute_input": "2022-07-17T17:32:42.078464Z",
     "iopub.status.busy": "2022-07-17T17:32:42.077940Z",
     "iopub.status.idle": "2022-07-17T17:32:42.086262Z",
     "shell.execute_reply": "2022-07-17T17:32:42.085661Z"
    },
    "papermill": {
     "duration": 0.024042,
     "end_time": "2022-07-17T17:32:42.088146",
     "exception": false,
     "start_time": "2022-07-17T17:32:42.064104",
     "status": "completed"
    },
    "tags": []
   },
   "outputs": [],
   "source": [
    "# Importing pandas\n",
    "import pandas as pd\n",
    "\n",
    "# Importing matplotlib and setting aesthetics for plotting later.\n",
    "import matplotlib.pyplot as plt\n"
   ]
  },
  {
   "cell_type": "code",
   "execution_count": 2,
   "id": "68b3d1d2",
   "metadata": {
    "execution": {
     "iopub.execute_input": "2022-07-17T17:32:42.114566Z",
     "iopub.status.busy": "2022-07-17T17:32:42.114243Z",
     "iopub.status.idle": "2022-07-17T17:32:43.248713Z",
     "shell.execute_reply": "2022-07-17T17:32:43.247801Z"
    },
    "papermill": {
     "duration": 1.15076,
     "end_time": "2022-07-17T17:32:43.251265",
     "exception": false,
     "start_time": "2022-07-17T17:32:42.100505",
     "status": "completed"
    },
    "tags": []
   },
   "outputs": [],
   "source": [
    "import seaborn as sns"
   ]
  },
  {
   "cell_type": "code",
   "execution_count": 3,
   "id": "bac3a17d",
   "metadata": {
    "execution": {
     "iopub.execute_input": "2022-07-17T17:32:43.278312Z",
     "iopub.status.busy": "2022-07-17T17:32:43.277992Z",
     "iopub.status.idle": "2022-07-17T17:32:43.307110Z",
     "shell.execute_reply": "2022-07-17T17:32:43.306162Z"
    },
    "papermill": {
     "duration": 0.04513,
     "end_time": "2022-07-17T17:32:43.309551",
     "exception": false,
     "start_time": "2022-07-17T17:32:43.264421",
     "status": "completed"
    },
    "tags": []
   },
   "outputs": [],
   "source": [
    "\n",
    "# Reading datasets/coinmarketcap_06122017.csv into pandas\n",
    "dec6 = pd.read_csv\n",
    "('../input/exploring-the-bitcoin-cryptocurrency-markets/coinmarketcap_06122017.csv')\n",
    "dec6\n",
    "# Selecting the 'id' and the 'market_cap_usd' columns\n",
    "market_cap_raw = dec6[['id','market_cap_usd']]\n",
    "\n",
    "# Counting the number of values\n",
    "# ... YOUR CODE FOR TASK 2 ..."
   ]
  },
  {
   "cell_type": "code",
   "execution_count": 4,
   "id": "193cacbe",
   "metadata": {
    "collapsed": true,
    "execution": {
     "iopub.execute_input": "2022-07-17T17:32:43.337446Z",
     "iopub.status.busy": "2022-07-17T17:32:43.337112Z",
     "iopub.status.idle": "2022-07-17T17:32:43.354049Z",
     "shell.execute_reply": "2022-07-17T17:32:43.353482Z"
    },
    "papermill": {
     "duration": 0.033692,
     "end_time": "2022-07-17T17:32:43.356482",
     "exception": false,
     "start_time": "2022-07-17T17:32:43.322790",
     "status": "completed"
    },
    "tags": []
   },
   "outputs": [
    {
     "data": {
      "text/html": [
       "<div>\n",
       "<style scoped>\n",
       "    .dataframe tbody tr th:only-of-type {\n",
       "        vertical-align: middle;\n",
       "    }\n",
       "\n",
       "    .dataframe tbody tr th {\n",
       "        vertical-align: top;\n",
       "    }\n",
       "\n",
       "    .dataframe thead th {\n",
       "        text-align: right;\n",
       "    }\n",
       "</style>\n",
       "<table border=\"1\" class=\"dataframe\">\n",
       "  <thead>\n",
       "    <tr style=\"text-align: right;\">\n",
       "      <th></th>\n",
       "      <th>id</th>\n",
       "      <th>market_cap_usd</th>\n",
       "    </tr>\n",
       "  </thead>\n",
       "  <tbody>\n",
       "    <tr>\n",
       "      <th>0</th>\n",
       "      <td>bitcoin</td>\n",
       "      <td>2.130493e+11</td>\n",
       "    </tr>\n",
       "    <tr>\n",
       "      <th>1</th>\n",
       "      <td>ethereum</td>\n",
       "      <td>4.352945e+10</td>\n",
       "    </tr>\n",
       "    <tr>\n",
       "      <th>2</th>\n",
       "      <td>bitcoin-cash</td>\n",
       "      <td>2.529585e+10</td>\n",
       "    </tr>\n",
       "    <tr>\n",
       "      <th>3</th>\n",
       "      <td>iota</td>\n",
       "      <td>1.475225e+10</td>\n",
       "    </tr>\n",
       "    <tr>\n",
       "      <th>4</th>\n",
       "      <td>ripple</td>\n",
       "      <td>9.365343e+09</td>\n",
       "    </tr>\n",
       "    <tr>\n",
       "      <th>...</th>\n",
       "      <td>...</td>\n",
       "      <td>...</td>\n",
       "    </tr>\n",
       "    <tr>\n",
       "      <th>1321</th>\n",
       "      <td>turbocoin</td>\n",
       "      <td>NaN</td>\n",
       "    </tr>\n",
       "    <tr>\n",
       "      <th>1322</th>\n",
       "      <td>birds</td>\n",
       "      <td>NaN</td>\n",
       "    </tr>\n",
       "    <tr>\n",
       "      <th>1323</th>\n",
       "      <td>bitcoincashscrypt</td>\n",
       "      <td>NaN</td>\n",
       "    </tr>\n",
       "    <tr>\n",
       "      <th>1324</th>\n",
       "      <td>swisscoin</td>\n",
       "      <td>NaN</td>\n",
       "    </tr>\n",
       "    <tr>\n",
       "      <th>1325</th>\n",
       "      <td>faceblock</td>\n",
       "      <td>NaN</td>\n",
       "    </tr>\n",
       "  </tbody>\n",
       "</table>\n",
       "<p>1326 rows × 2 columns</p>\n",
       "</div>"
      ],
      "text/plain": [
       "                     id  market_cap_usd\n",
       "0               bitcoin    2.130493e+11\n",
       "1              ethereum    4.352945e+10\n",
       "2          bitcoin-cash    2.529585e+10\n",
       "3                  iota    1.475225e+10\n",
       "4                ripple    9.365343e+09\n",
       "...                 ...             ...\n",
       "1321          turbocoin             NaN\n",
       "1322              birds             NaN\n",
       "1323  bitcoincashscrypt             NaN\n",
       "1324          swisscoin             NaN\n",
       "1325          faceblock             NaN\n",
       "\n",
       "[1326 rows x 2 columns]"
      ]
     },
     "execution_count": 4,
     "metadata": {},
     "output_type": "execute_result"
    }
   ],
   "source": [
    "market_cap_raw"
   ]
  },
  {
   "cell_type": "code",
   "execution_count": 5,
   "id": "31176e37",
   "metadata": {
    "execution": {
     "iopub.execute_input": "2022-07-17T17:32:43.384368Z",
     "iopub.status.busy": "2022-07-17T17:32:43.384067Z",
     "iopub.status.idle": "2022-07-17T17:32:43.393829Z",
     "shell.execute_reply": "2022-07-17T17:32:43.393232Z"
    },
    "papermill": {
     "duration": 0.025709,
     "end_time": "2022-07-17T17:32:43.395673",
     "exception": false,
     "start_time": "2022-07-17T17:32:43.369964",
     "status": "completed"
    },
    "tags": []
   },
   "outputs": [
    {
     "data": {
      "text/plain": [
       "id                1326\n",
       "market_cap_usd    1031\n",
       "dtype: int64"
      ]
     },
     "execution_count": 5,
     "metadata": {},
     "output_type": "execute_result"
    }
   ],
   "source": [
    "market_cap_raw.count()"
   ]
  },
  {
   "cell_type": "markdown",
   "id": "383ddcf5",
   "metadata": {
    "papermill": {
     "duration": 0.012987,
     "end_time": "2022-07-17T17:32:43.422237",
     "exception": false,
     "start_time": "2022-07-17T17:32:43.409250",
     "status": "completed"
    },
    "tags": []
   },
   "source": [
    "## 2. Discard the cryptocurrencies without a market capitalization\n",
    "<p>Why do the <code>count()</code> for <code>id</code> and <code>market_cap_usd</code> differ above? It is because some cryptocurrencies listed in coinmarketcap.com have no known market capitalization, this is represented by <code>NaN</code> in the data, and <code>NaN</code>s are not counted by <code>count()</code>. These cryptocurrencies are of little interest to us in this analysis, so they are safe to remove.</p>"
   ]
  },
  {
   "cell_type": "code",
   "execution_count": 6,
   "id": "a23b733b",
   "metadata": {
    "collapsed": true,
    "execution": {
     "iopub.execute_input": "2022-07-17T17:32:43.454066Z",
     "iopub.status.busy": "2022-07-17T17:32:43.453137Z",
     "iopub.status.idle": "2022-07-17T17:32:43.462833Z",
     "shell.execute_reply": "2022-07-17T17:32:43.461862Z"
    },
    "papermill": {
     "duration": 0.026232,
     "end_time": "2022-07-17T17:32:43.464880",
     "exception": false,
     "start_time": "2022-07-17T17:32:43.438648",
     "status": "completed"
    },
    "tags": []
   },
   "outputs": [
    {
     "data": {
      "text/plain": [
       "id                1031\n",
       "market_cap_usd    1031\n",
       "dtype: int64"
      ]
     },
     "execution_count": 6,
     "metadata": {},
     "output_type": "execute_result"
    }
   ],
   "source": [
    "# Filtering out rows without a market capitalization\n",
    "cap = market_cap_raw.dropna()\n",
    "cap.count()\n",
    "# Counting the number of values again\n",
    "# ... YOUR CODE FOR TASK 3 ..."
   ]
  },
  {
   "cell_type": "markdown",
   "id": "69f02801",
   "metadata": {
    "papermill": {
     "duration": 0.012872,
     "end_time": "2022-07-17T17:32:43.491270",
     "exception": false,
     "start_time": "2022-07-17T17:32:43.478398",
     "status": "completed"
    },
    "tags": []
   },
   "source": [
    "## 3. How big is Bitcoin compared with the rest of the cryptocurrencies?\n",
    "<p>At the time of writing, Bitcoin is under serious competition from other projects, but it is still dominant in market capitalization. Let's plot the market capitalization for the top 10 coins as a barplot to better visualize this.</p>"
   ]
  },
  {
   "cell_type": "code",
   "execution_count": 7,
   "id": "f02d67f6",
   "metadata": {
    "execution": {
     "iopub.execute_input": "2022-07-17T17:32:43.519715Z",
     "iopub.status.busy": "2022-07-17T17:32:43.519242Z",
     "iopub.status.idle": "2022-07-17T17:32:43.525656Z",
     "shell.execute_reply": "2022-07-17T17:32:43.524951Z"
    },
    "papermill": {
     "duration": 0.023006,
     "end_time": "2022-07-17T17:32:43.527639",
     "exception": false,
     "start_time": "2022-07-17T17:32:43.504633",
     "status": "completed"
    },
    "tags": []
   },
   "outputs": [],
   "source": [
    "cap10=cap.sort_values('market_cap_usd',ascending=False).head(10)"
   ]
  },
  {
   "cell_type": "code",
   "execution_count": 8,
   "id": "ab84328e",
   "metadata": {
    "execution": {
     "iopub.execute_input": "2022-07-17T17:32:43.545926Z",
     "iopub.status.busy": "2022-07-17T17:32:43.545381Z",
     "iopub.status.idle": "2022-07-17T17:32:43.549562Z",
     "shell.execute_reply": "2022-07-17T17:32:43.548883Z"
    },
    "papermill": {
     "duration": 0.015161,
     "end_time": "2022-07-17T17:32:43.551228",
     "exception": false,
     "start_time": "2022-07-17T17:32:43.536067",
     "status": "completed"
    },
    "tags": []
   },
   "outputs": [],
   "source": [
    "market_cap_usd_sum=cap10['market_cap_usd'].sum()"
   ]
  },
  {
   "cell_type": "code",
   "execution_count": 9,
   "id": "58255fc3",
   "metadata": {
    "execution": {
     "iopub.execute_input": "2022-07-17T17:32:43.587384Z",
     "iopub.status.busy": "2022-07-17T17:32:43.586836Z",
     "iopub.status.idle": "2022-07-17T17:32:43.592232Z",
     "shell.execute_reply": "2022-07-17T17:32:43.591708Z"
    },
    "papermill": {
     "duration": 0.016362,
     "end_time": "2022-07-17T17:32:43.593825",
     "exception": false,
     "start_time": "2022-07-17T17:32:43.577463",
     "status": "completed"
    },
    "tags": []
   },
   "outputs": [],
   "source": [
    "cap10=cap10.assign(market_cap_perc=lambda x:(x['market_cap_usd']/market_cap_usd_sum)*100).set_index('id')"
   ]
  },
  {
   "cell_type": "code",
   "execution_count": 11,
   "id": "b4fe3bd6",
   "metadata": {
    "collapsed": true,
    "execution": {
     "iopub.execute_input": "2022-07-17T17:32:43.640484Z",
     "iopub.status.busy": "2022-07-17T17:32:43.639986Z",
     "iopub.status.idle": "2022-07-17T17:32:43.876698Z",
     "shell.execute_reply": "2022-07-17T17:32:43.875298Z"
    },
    "papermill": {
     "duration": 0.247733,
     "end_time": "2022-07-17T17:32:43.878624",
     "exception": false,
     "start_time": "2022-07-17T17:32:43.630891",
     "status": "completed"
    },
    "tags": []
   },
   "outputs": [
    {
     "data": {
      "text/plain": [
       "(array([0, 1, 2, 3, 4, 5, 6, 7, 8, 9]),\n",
       " [Text(0, 0, 'bitcoin'),\n",
       "  Text(1, 0, 'ethereum'),\n",
       "  Text(2, 0, 'bitcoin-cash'),\n",
       "  Text(3, 0, 'iota'),\n",
       "  Text(4, 0, 'ripple'),\n",
       "  Text(5, 0, 'dash'),\n",
       "  Text(6, 0, 'litecoin'),\n",
       "  Text(7, 0, 'bitcoin-gold'),\n",
       "  Text(8, 0, 'monero'),\n",
       "  Text(9, 0, 'cardano')])"
      ]
     },
     "execution_count": 11,
     "metadata": {},
     "output_type": "execute_result"
    },
    {
     "data": {
      "image/png": "[encoded data removed]",
      "text/plain": [
       "<Figure size 432x288 with 1 Axes>"
      ]
     },
     "metadata": {
      "needs_background": "light"
     },
     "output_type": "display_data"
    }
   ],
   "source": [
    "TOP_CAP_TITLE = 'Top 10 market capitalization'\n",
    "TOP_CAP_YLABEL = '% of total cap'\n",
    "\n",
    "ax=sns.barplot(data=cap10,x=cap10.index,y='market_cap_perc')\n",
    "ax\n",
    "plt.title(TOP_CAP_TITLE)\n",
    "plt.ylabel(TOP_CAP_YLABEL)\n",
    "plt.xticks(rotation=45)"
   ]
  },
  {
   "cell_type": "code",
   "execution_count": 12,
   "id": "a34cc5ff",
   "metadata": {
    "execution": {
     "iopub.execute_input": "2022-07-17T17:32:43.914924Z",
     "iopub.status.busy": "2022-07-17T17:32:43.914564Z",
     "iopub.status.idle": "2022-07-17T17:32:43.920023Z",
     "shell.execute_reply": "2022-07-17T17:32:43.919019Z"
    },
    "papermill": {
     "duration": 0.017157,
     "end_time": "2022-07-17T17:32:43.921722",
     "exception": false,
     "start_time": "2022-07-17T17:32:43.904565",
     "status": "completed"
    },
    "tags": []
   },
   "outputs": [],
   "source": [
    "# #Declaring these now for later use in the plots\n",
    "# TOP_CAP_TITLE = 'Top 10 market capitalization'\n",
    "# TOP_CAP_YLABEL = '% of total cap'\n",
    "\n",
    "# # Selecting the first 10 rows and setting the index\n",
    "# cap10 =...\n",
    "\n",
    "# # Calculating market_cap_perc\n",
    "# cap10 = ...\n",
    "\n",
    "\n",
    "# # Plotting the barplot with the title defined above \n",
    "# ax =...\n",
    "\n",
    "# # Annotating the y axis with the label defined above\n",
    "# # ... YOUR CODE FOR TASK 4 ..."
   ]
  },
  {
   "cell_type": "markdown",
   "id": "4e2e4278",
   "metadata": {
    "papermill": {
     "duration": 0.008399,
     "end_time": "2022-07-17T17:32:43.938854",
     "exception": false,
     "start_time": "2022-07-17T17:32:43.930455",
     "status": "completed"
    },
    "tags": []
   },
   "source": [
    "## 4. Making the plot easier to read and more informative\n",
    "<p>While the plot above is informative enough, it can be improved. Bitcoin is too big, and the other coins are hard to distinguish because of this. Instead of the percentage, let's use a log<sup>10</sup> scale of the \"raw\" capitalization. Plus, let's use color to group similar coins and make the plot more informative<sup>1</sup>. </p>\n",
    "<p>For the colors rationale: bitcoin-cash and bitcoin-gold are forks of the bitcoin <a href=\"https://en.wikipedia.org/wiki/Blockchain\">blockchain</a><sup>2</sup>. Ethereum and Cardano both offer Turing Complete <a href=\"https://en.wikipedia.org/wiki/Smart_contract\">smart contracts</a>. Iota and Ripple are not minable. Dash, Litecoin, and Monero get their own color.</p>\n",
    "<p><sup>1</sup> <em>This coloring is a simplification. There are more differences and similarities that are not being represented here.</em></p>\n",
    "<p><sup>2</sup> <em>The bitcoin forks are actually <strong>very</strong> different, but it is out of scope to talk about them here. Please see the warning above and do your own research.</em></p>"
   ]
  },
  {
   "cell_type": "code",
   "execution_count": 13,
   "id": "4f1bf6bf",
   "metadata": {
    "execution": {
     "iopub.execute_input": "2022-07-17T17:32:43.958395Z",
     "iopub.status.busy": "2022-07-17T17:32:43.957766Z",
     "iopub.status.idle": "2022-07-17T17:32:44.543102Z",
     "shell.execute_reply": "2022-07-17T17:32:44.542202Z"
    },
    "papermill": {
     "duration": 0.597482,
     "end_time": "2022-07-17T17:32:44.545254",
     "exception": false,
     "start_time": "2022-07-17T17:32:43.947772",
     "status": "completed"
    },
    "tags": []
   },
   "outputs": [
    {
     "data": {
      "text/plain": [
       "<AxesSubplot:xlabel='id'>"
      ]
     },
     "execution_count": 13,
     "metadata": {},
     "output_type": "execute_result"
    },
    {
     "data": {
      "image/png": "[encoded data removed]",
      "text/plain": [
       "<Figure size 432x288 with 1 Axes>"
      ]
     },
     "metadata": {
      "needs_background": "light"
     },
     "output_type": "display_data"
    }
   ],
   "source": [
    "COLORS = ['orange', 'green', 'orange', 'cyan', 'cyan', 'blue', 'silver', 'orange', 'red', 'green']\n",
    "cap10.market_cap_usd.plot.bar( y = 'market_cap_perc', color = COLORS,logy=True)"
   ]
  },
  {
   "cell_type": "code",
   "execution_count": null,
   "id": "d61ddb93",
   "metadata": {
    "papermill": {
     "duration": 0.014112,
     "end_time": "2022-07-17T17:32:44.574732",
     "exception": false,
     "start_time": "2022-07-17T17:32:44.560620",
     "status": "completed"
    },
    "tags": []
   },
   "outputs": [],
   "source": []
  },
  {
   "cell_type": "code",
   "execution_count": 14,
   "id": "5c03bb37",
   "metadata": {
    "execution": {
     "iopub.execute_input": "2022-07-17T17:32:44.605000Z",
     "iopub.status.busy": "2022-07-17T17:32:44.604654Z",
     "iopub.status.idle": "2022-07-17T17:32:44.609058Z",
     "shell.execute_reply": "2022-07-17T17:32:44.608491Z"
    },
    "papermill": {
     "duration": 0.021836,
     "end_time": "2022-07-17T17:32:44.610900",
     "exception": false,
     "start_time": "2022-07-17T17:32:44.589064",
     "status": "completed"
    },
    "tags": []
   },
   "outputs": [],
   "source": [
    "# Colors for the bar plot\n",
    "COLORS = ['orange', 'green', 'orange', 'cyan', 'cyan', 'blue', 'silver', 'orange', 'red', 'green']\n",
    "\n",
    "# Plotting market_cap_usd as before but adding the colors and scaling the y-axis  \n",
    "\n",
    "\n",
    "# Annotating the y axis with 'USD'\n",
    "# ... YOUR CODE FOR TASK 5 ...\n",
    "# Final touch! Removing the xlabel as it is not very informative\n",
    "# ... YOUR CODE FOR TASK 5 ..."
   ]
  },
  {
   "cell_type": "markdown",
   "id": "8f528870",
   "metadata": {
    "papermill": {
     "duration": 0.013555,
     "end_time": "2022-07-17T17:32:44.638869",
     "exception": false,
     "start_time": "2022-07-17T17:32:44.625314",
     "status": "completed"
    },
    "tags": []
   },
   "source": [
    "## 5. What is going on?! Volatility in cryptocurrencies\n",
    "<p>The cryptocurrencies market has been spectacularly volatile since the first exchange opened. This notebook didn't start with a big, bold warning for nothing. Let's explore this volatility a bit more! We will begin by selecting and plotting the 24 hours and 7 days percentage change, which we already have available.</p>"
   ]
  },
  {
   "cell_type": "code",
   "execution_count": 15,
   "id": "80218755",
   "metadata": {
    "execution": {
     "iopub.execute_input": "2022-07-17T17:32:44.668557Z",
     "iopub.status.busy": "2022-07-17T17:32:44.668119Z",
     "iopub.status.idle": "2022-07-17T17:32:44.678981Z",
     "shell.execute_reply": "2022-07-17T17:32:44.678441Z"
    },
    "papermill": {
     "duration": 0.02794,
     "end_time": "2022-07-17T17:32:44.680888",
     "exception": false,
     "start_time": "2022-07-17T17:32:44.652948",
     "status": "completed"
    },
    "tags": []
   },
   "outputs": [
    {
     "data": {
      "text/html": [
       "<div>\n",
       "<style scoped>\n",
       "    .dataframe tbody tr th:only-of-type {\n",
       "        vertical-align: middle;\n",
       "    }\n",
       "\n",
       "    .dataframe tbody tr th {\n",
       "        vertical-align: top;\n",
       "    }\n",
       "\n",
       "    .dataframe thead th {\n",
       "        text-align: right;\n",
       "    }\n",
       "</style>\n",
       "<table border=\"1\" class=\"dataframe\">\n",
       "  <thead>\n",
       "    <tr style=\"text-align: right;\">\n",
       "      <th></th>\n",
       "      <th>percent_change_24h</th>\n",
       "      <th>percent_change_7d</th>\n",
       "    </tr>\n",
       "    <tr>\n",
       "      <th>id</th>\n",
       "      <th></th>\n",
       "      <th></th>\n",
       "    </tr>\n",
       "  </thead>\n",
       "  <tbody>\n",
       "    <tr>\n",
       "      <th>flappycoin</th>\n",
       "      <td>-95.85</td>\n",
       "      <td>-96.61</td>\n",
       "    </tr>\n",
       "    <tr>\n",
       "      <th>credence-coin</th>\n",
       "      <td>-94.22</td>\n",
       "      <td>-95.31</td>\n",
       "    </tr>\n",
       "    <tr>\n",
       "      <th>coupecoin</th>\n",
       "      <td>-93.93</td>\n",
       "      <td>-61.24</td>\n",
       "    </tr>\n",
       "    <tr>\n",
       "      <th>tyrocoin</th>\n",
       "      <td>-79.02</td>\n",
       "      <td>-87.43</td>\n",
       "    </tr>\n",
       "    <tr>\n",
       "      <th>petrodollar</th>\n",
       "      <td>-76.55</td>\n",
       "      <td>542.96</td>\n",
       "    </tr>\n",
       "  </tbody>\n",
       "</table>\n",
       "</div>"
      ],
      "text/plain": [
       "               percent_change_24h  percent_change_7d\n",
       "id                                                  \n",
       "flappycoin                 -95.85             -96.61\n",
       "credence-coin              -94.22             -95.31\n",
       "coupecoin                  -93.93             -61.24\n",
       "tyrocoin                   -79.02             -87.43\n",
       "petrodollar                -76.55             542.96"
      ]
     },
     "execution_count": 15,
     "metadata": {},
     "output_type": "execute_result"
    }
   ],
   "source": [
    "# Selecting the id, percent_change_24h and percent_change_7d columns\n",
    "volatility = dec6[['id','percent_change_24h','percent_change_7d']]\n",
    "\n",
    "# Setting the index to 'id' and dropping all NaN rows\n",
    "volatility = volatility.set_index('id').dropna()\n",
    "\n",
    "# Sorting the DataFrame by percent_change_24h in ascending order\n",
    "volatility = volatility.sort_values('percent_change_24h')\n",
    "volatility.head()\n",
    "# Checking the first few rows\n",
    "# ... YOUR CODE FOR TASK 6 ..."
   ]
  },
  {
   "cell_type": "markdown",
   "id": "69ee1810",
   "metadata": {
    "papermill": {
     "duration": 0.014678,
     "end_time": "2022-07-17T17:32:44.710261",
     "exception": false,
     "start_time": "2022-07-17T17:32:44.695583",
     "status": "completed"
    },
    "tags": []
   },
   "source": [
    "## 6. Well, we can already see that things are *a bit* crazy\n",
    "<p>It seems you can lose a lot of money quickly on cryptocurrencies. Let's plot the top 10 biggest gainers and top 10 losers in market capitalization.</p>"
   ]
  },
  {
   "cell_type": "code",
   "execution_count": 16,
   "id": "788082e4",
   "metadata": {
    "execution": {
     "iopub.execute_input": "2022-07-17T17:32:44.740899Z",
     "iopub.status.busy": "2022-07-17T17:32:44.740495Z",
     "iopub.status.idle": "2022-07-17T17:32:44.944228Z",
     "shell.execute_reply": "2022-07-17T17:32:44.942919Z"
    },
    "papermill": {
     "duration": 0.222092,
     "end_time": "2022-07-17T17:32:44.946811",
     "exception": false,
     "start_time": "2022-07-17T17:32:44.724719",
     "status": "completed"
    },
    "tags": []
   },
   "outputs": [
    {
     "data": {
      "text/plain": [
       "<AxesSubplot:xlabel='id'>"
      ]
     },
     "execution_count": 16,
     "metadata": {},
     "output_type": "execute_result"
    },
    {
     "data": {
      "image/png": "[encoded data removed]",
      "text/plain": [
       "<Figure size 432x288 with 1 Axes>"
      ]
     },
     "metadata": {
      "needs_background": "light"
     },
     "output_type": "display_data"
    }
   ],
   "source": [
    "volatility.head(10).plot.bar()"
   ]
  },
  {
   "cell_type": "code",
   "execution_count": null,
   "id": "d9d5f790",
   "metadata": {
    "papermill": {
     "duration": 0.009842,
     "end_time": "2022-07-17T17:32:44.966426",
     "exception": false,
     "start_time": "2022-07-17T17:32:44.956584",
     "status": "completed"
    },
    "tags": []
   },
   "outputs": [],
   "source": []
  },
  {
   "cell_type": "code",
   "execution_count": 17,
   "id": "b941bebc",
   "metadata": {
    "execution": {
     "iopub.execute_input": "2022-07-17T17:32:44.988920Z",
     "iopub.status.busy": "2022-07-17T17:32:44.986869Z",
     "iopub.status.idle": "2022-07-17T17:32:45.247482Z",
     "shell.execute_reply": "2022-07-17T17:32:45.246913Z"
    },
    "papermill": {
     "duration": 0.27356,
     "end_time": "2022-07-17T17:32:45.249567",
     "exception": false,
     "start_time": "2022-07-17T17:32:44.976007",
     "status": "completed"
    },
    "tags": []
   },
   "outputs": [
    {
     "data": {
      "image/png": "[encoded data removed]",
      "text/plain": [
       "<Figure size 720x432 with 2 Axes>"
      ]
     },
     "metadata": {
      "needs_background": "light"
     },
     "output_type": "display_data"
    }
   ],
   "source": [
    "#Defining a function with 2 parameters, the series to plot and the title\n",
    "def top10_subplot(volatility_series, title):\n",
    "    # Making the subplot and the figure for two side by side plots\n",
    "    fig, axes = plt.subplots(nrows=1, ncols=2, figsize=(10, 6))\n",
    "    \n",
    "    # Plotting with pandas the barchart for the top 10 losers\n",
    "    ax =( volatility_series[:10].plot.bar(color='darkred',ax=axes[0]))\n",
    "    \n",
    "    # Setting the figure's main title to the text passed as parameter\n",
    "    # ... YOUR CODE FOR TASK 7 ...\n",
    "    \n",
    "    # Setting the ylabel to '% change'\n",
    "    # ... YOUR CODE FOR TASK 7 ...\n",
    "    fig.suptitle(title)\n",
    "\n",
    "    ax.set_ylabel('% change')\n",
    "    # Same as above, but for the top 10 winners\n",
    "    ax =( volatility_series[-10:].plot.bar(color='darkblue',ax=axes[1]))\n",
    "    \n",
    "    # Returning this for good practice, might use later\n",
    "    return fig, ax\n",
    "\n",
    "DTITLE = \"24 hours top losers and winners\"\n",
    "\n",
    "# Calling the function above with the 24 hours period series and title DTITLE  \n",
    "fig, ax = top10_subplot(volatility.percent_change_24h, DTITLE)"
   ]
  },
  {
   "cell_type": "markdown",
   "id": "a3661960",
   "metadata": {
    "papermill": {
     "duration": 0.014842,
     "end_time": "2022-07-17T17:32:45.279859",
     "exception": false,
     "start_time": "2022-07-17T17:32:45.265017",
     "status": "completed"
    },
    "tags": []
   },
   "source": [
    "## 7. Ok, those are... interesting. Let's check the weekly Series too.\n",
    "<p>800% daily increase?! Why are we doing this tutorial and not buying random coins?<sup>1</sup></p>\n",
    "<p>After calming down, let's reuse the function defined above to see what is going weekly instead of daily.</p>\n",
    "<p><em><sup>1</sup> Please take a moment to understand the implications of the red plots on how much value some cryptocurrencies lose in such short periods of time</em></p>"
   ]
  },
  {
   "cell_type": "code",
   "execution_count": 18,
   "id": "90259f84",
   "metadata": {
    "execution": {
     "iopub.execute_input": "2022-07-17T17:32:45.312088Z",
     "iopub.status.busy": "2022-07-17T17:32:45.311652Z",
     "iopub.status.idle": "2022-07-17T17:32:45.567528Z",
     "shell.execute_reply": "2022-07-17T17:32:45.566810Z"
    },
    "papermill": {
     "duration": 0.274756,
     "end_time": "2022-07-17T17:32:45.569714",
     "exception": false,
     "start_time": "2022-07-17T17:32:45.294958",
     "status": "completed"
    },
    "tags": []
   },
   "outputs": [
    {
     "data": {
      "image/png": "[encoded data removed]",
      "text/plain": [
       "<Figure size 720x432 with 2 Axes>"
      ]
     },
     "metadata": {
      "needs_background": "light"
     },
     "output_type": "display_data"
    }
   ],
   "source": [
    "# Sorting in ascending order\n",
    "volatility7d =volatility.sort_values('percent_change_7d',ascending=True)\n",
    "\n",
    "WTITLE = \"Weekly top losers and winners\"\n",
    "\n",
    "# Calling the top10_subplot function\n",
    "fig, ax = top10_subplot(volatility7d.percent_change_7d,WTITLE)"
   ]
  },
  {
   "cell_type": "markdown",
   "id": "8baf076f",
   "metadata": {
    "papermill": {
     "duration": 0.016171,
     "end_time": "2022-07-17T17:32:45.601873",
     "exception": false,
     "start_time": "2022-07-17T17:32:45.585702",
     "status": "completed"
    },
    "tags": []
   },
   "source": [
    "## 8. How small is small?\n",
    "<p>The names of the cryptocurrencies above are quite unknown, and there is a considerable fluctuation between the 1 and 7 days percentage changes. As with stocks, and many other financial products, the smaller the capitalization, the bigger the risk and reward. Smaller cryptocurrencies are less stable projects in general, and therefore even riskier investments than the bigger ones<sup>1</sup>. Let's classify our dataset based on Investopedia's capitalization <a href=\"https://www.investopedia.com/video/play/large-cap/\">definitions</a> for company stocks. </p>\n",
    "<p><sup>1</sup> <em>Cryptocurrencies are a new asset class, so they are not directly comparable to stocks. Furthermore, there are no limits set in stone for what a \"small\" or \"large\" stock is. Finally, some investors argue that bitcoin is similar to gold, this would make them more comparable to a <a href=\"https://www.investopedia.com/terms/c/commodity.asp\">commodity</a> instead.</em></p>"
   ]
  },
  {
   "cell_type": "code",
   "execution_count": 19,
   "id": "a99342c8",
   "metadata": {
    "execution": {
     "iopub.execute_input": "2022-07-17T17:32:45.634986Z",
     "iopub.status.busy": "2022-07-17T17:32:45.634512Z",
     "iopub.status.idle": "2022-07-17T17:32:45.647911Z",
     "shell.execute_reply": "2022-07-17T17:32:45.647293Z"
    },
    "papermill": {
     "duration": 0.031959,
     "end_time": "2022-07-17T17:32:45.649728",
     "exception": false,
     "start_time": "2022-07-17T17:32:45.617769",
     "status": "completed"
    },
    "tags": []
   },
   "outputs": [
    {
     "data": {
      "text/html": [
       "<div>\n",
       "<style scoped>\n",
       "    .dataframe tbody tr th:only-of-type {\n",
       "        vertical-align: middle;\n",
       "    }\n",
       "\n",
       "    .dataframe tbody tr th {\n",
       "        vertical-align: top;\n",
       "    }\n",
       "\n",
       "    .dataframe thead th {\n",
       "        text-align: right;\n",
       "    }\n",
       "</style>\n",
       "<table border=\"1\" class=\"dataframe\">\n",
       "  <thead>\n",
       "    <tr style=\"text-align: right;\">\n",
       "      <th></th>\n",
       "      <th>Unnamed: 0</th>\n",
       "      <th>24h_volume_usd</th>\n",
       "      <th>available_supply</th>\n",
       "      <th>id</th>\n",
       "      <th>last_updated</th>\n",
       "      <th>market_cap_usd</th>\n",
       "      <th>max_supply</th>\n",
       "      <th>name</th>\n",
       "      <th>percent_change_1h</th>\n",
       "      <th>percent_change_24h</th>\n",
       "      <th>percent_change_7d</th>\n",
       "      <th>price_btc</th>\n",
       "      <th>price_usd</th>\n",
       "      <th>rank</th>\n",
       "      <th>symbol</th>\n",
       "      <th>total_supply</th>\n",
       "    </tr>\n",
       "  </thead>\n",
       "  <tbody>\n",
       "    <tr>\n",
       "      <th>0</th>\n",
       "      <td>0</td>\n",
       "      <td>9.007640e+09</td>\n",
       "      <td>16723525.0</td>\n",
       "      <td>bitcoin</td>\n",
       "      <td>1512549554</td>\n",
       "      <td>2.130493e+11</td>\n",
       "      <td>21000000.0</td>\n",
       "      <td>Bitcoin</td>\n",
       "      <td>0.12</td>\n",
       "      <td>7.33</td>\n",
       "      <td>17.45</td>\n",
       "      <td>1.0</td>\n",
       "      <td>12739.5</td>\n",
       "      <td>1</td>\n",
       "      <td>BTC</td>\n",
       "      <td>16723525.0</td>\n",
       "    </tr>\n",
       "  </tbody>\n",
       "</table>\n",
       "</div>"
      ],
      "text/plain": [
       "   Unnamed: 0  24h_volume_usd  available_supply       id  last_updated  \\\n",
       "0           0    9.007640e+09        16723525.0  bitcoin    1512549554   \n",
       "\n",
       "   market_cap_usd  max_supply     name  percent_change_1h  percent_change_24h  \\\n",
       "0    2.130493e+11  21000000.0  Bitcoin               0.12                7.33   \n",
       "\n",
       "   percent_change_7d  price_btc  price_usd  rank symbol  total_supply  \n",
       "0              17.45        1.0    12739.5     1    BTC    16723525.0  "
      ]
     },
     "execution_count": 19,
     "metadata": {},
     "output_type": "execute_result"
    }
   ],
   "source": [
    "dec6.head(1)"
   ]
  },
  {
   "cell_type": "code",
   "execution_count": 20,
   "id": "c211e697",
   "metadata": {
    "execution": {
     "iopub.execute_input": "2022-07-17T17:32:45.683969Z",
     "iopub.status.busy": "2022-07-17T17:32:45.683492Z",
     "iopub.status.idle": "2022-07-17T17:32:45.693181Z",
     "shell.execute_reply": "2022-07-17T17:32:45.692631Z"
    },
    "papermill": {
     "duration": 0.028989,
     "end_time": "2022-07-17T17:32:45.695032",
     "exception": false,
     "start_time": "2022-07-17T17:32:45.666043",
     "status": "completed"
    },
    "tags": []
   },
   "outputs": [
    {
     "data": {
      "text/html": [
       "<div>\n",
       "<style scoped>\n",
       "    .dataframe tbody tr th:only-of-type {\n",
       "        vertical-align: middle;\n",
       "    }\n",
       "\n",
       "    .dataframe tbody tr th {\n",
       "        vertical-align: top;\n",
       "    }\n",
       "\n",
       "    .dataframe thead th {\n",
       "        text-align: right;\n",
       "    }\n",
       "</style>\n",
       "<table border=\"1\" class=\"dataframe\">\n",
       "  <thead>\n",
       "    <tr style=\"text-align: right;\">\n",
       "      <th></th>\n",
       "      <th>id</th>\n",
       "      <th>market_cap_usd</th>\n",
       "    </tr>\n",
       "  </thead>\n",
       "  <tbody>\n",
       "    <tr>\n",
       "      <th>0</th>\n",
       "      <td>bitcoin</td>\n",
       "      <td>2.130493e+11</td>\n",
       "    </tr>\n",
       "    <tr>\n",
       "      <th>1</th>\n",
       "      <td>ethereum</td>\n",
       "      <td>4.352945e+10</td>\n",
       "    </tr>\n",
       "    <tr>\n",
       "      <th>2</th>\n",
       "      <td>bitcoin-cash</td>\n",
       "      <td>2.529585e+10</td>\n",
       "    </tr>\n",
       "    <tr>\n",
       "      <th>3</th>\n",
       "      <td>iota</td>\n",
       "      <td>1.475225e+10</td>\n",
       "    </tr>\n",
       "  </tbody>\n",
       "</table>\n",
       "</div>"
      ],
      "text/plain": [
       "             id  market_cap_usd\n",
       "0       bitcoin    2.130493e+11\n",
       "1      ethereum    4.352945e+10\n",
       "2  bitcoin-cash    2.529585e+10\n",
       "3          iota    1.475225e+10"
      ]
     },
     "execution_count": 20,
     "metadata": {},
     "output_type": "execute_result"
    }
   ],
   "source": [
    "# Selecting everything bigger than 10 billion \n",
    "largecaps = cap.query('market_cap_usd>10000000000')\n",
    "\n",
    "# Printing out largecaps\n",
    "largecaps\n",
    "# ... YOUR CODE FOR TASK 9 ..."
   ]
  },
  {
   "cell_type": "markdown",
   "id": "e65e17e9",
   "metadata": {
    "papermill": {
     "duration": 0.016474,
     "end_time": "2022-07-17T17:32:45.728291",
     "exception": false,
     "start_time": "2022-07-17T17:32:45.711817",
     "status": "completed"
    },
    "tags": []
   },
   "source": [
    "## 9. Most coins are tiny\n",
    "<p>Note that many coins are not comparable to large companies in market cap, so let's divert from the original Investopedia definition by merging categories.</p>\n",
    "<p><em>This is all for now. Thanks for completing this project!</em></p>"
   ]
  },
  {
   "cell_type": "code",
   "execution_count": 21,
   "id": "a9923f10",
   "metadata": {
    "execution": {
     "iopub.execute_input": "2022-07-17T17:32:45.762302Z",
     "iopub.status.busy": "2022-07-17T17:32:45.761725Z",
     "iopub.status.idle": "2022-07-17T17:32:45.776570Z",
     "shell.execute_reply": "2022-07-17T17:32:45.775708Z"
    },
    "papermill": {
     "duration": 0.034122,
     "end_time": "2022-07-17T17:32:45.778576",
     "exception": false,
     "start_time": "2022-07-17T17:32:45.744454",
     "status": "completed"
    },
    "tags": []
   },
   "outputs": [
    {
     "data": {
      "text/html": [
       "<div>\n",
       "<style scoped>\n",
       "    .dataframe tbody tr th:only-of-type {\n",
       "        vertical-align: middle;\n",
       "    }\n",
       "\n",
       "    .dataframe tbody tr th {\n",
       "        vertical-align: top;\n",
       "    }\n",
       "\n",
       "    .dataframe thead th {\n",
       "        text-align: right;\n",
       "    }\n",
       "</style>\n",
       "<table border=\"1\" class=\"dataframe\">\n",
       "  <thead>\n",
       "    <tr style=\"text-align: right;\">\n",
       "      <th></th>\n",
       "      <th>Unnamed: 0</th>\n",
       "      <th>24h_volume_usd</th>\n",
       "      <th>available_supply</th>\n",
       "      <th>id</th>\n",
       "      <th>last_updated</th>\n",
       "      <th>market_cap_usd</th>\n",
       "      <th>max_supply</th>\n",
       "      <th>name</th>\n",
       "      <th>percent_change_1h</th>\n",
       "      <th>percent_change_24h</th>\n",
       "      <th>percent_change_7d</th>\n",
       "      <th>price_btc</th>\n",
       "      <th>price_usd</th>\n",
       "      <th>rank</th>\n",
       "      <th>symbol</th>\n",
       "      <th>total_supply</th>\n",
       "    </tr>\n",
       "  </thead>\n",
       "  <tbody>\n",
       "    <tr>\n",
       "      <th>0</th>\n",
       "      <td>0</td>\n",
       "      <td>9.007640e+09</td>\n",
       "      <td>16723525.0</td>\n",
       "      <td>bitcoin</td>\n",
       "      <td>1512549554</td>\n",
       "      <td>2.130493e+11</td>\n",
       "      <td>21000000.0</td>\n",
       "      <td>Bitcoin</td>\n",
       "      <td>0.12</td>\n",
       "      <td>7.33</td>\n",
       "      <td>17.45</td>\n",
       "      <td>1.0</td>\n",
       "      <td>12739.5</td>\n",
       "      <td>1</td>\n",
       "      <td>BTC</td>\n",
       "      <td>16723525.0</td>\n",
       "    </tr>\n",
       "  </tbody>\n",
       "</table>\n",
       "</div>"
      ],
      "text/plain": [
       "   Unnamed: 0  24h_volume_usd  available_supply       id  last_updated  \\\n",
       "0           0    9.007640e+09        16723525.0  bitcoin    1512549554   \n",
       "\n",
       "   market_cap_usd  max_supply     name  percent_change_1h  percent_change_24h  \\\n",
       "0    2.130493e+11  21000000.0  Bitcoin               0.12                7.33   \n",
       "\n",
       "   percent_change_7d  price_btc  price_usd  rank symbol  total_supply  \n",
       "0              17.45        1.0    12739.5     1    BTC    16723525.0  "
      ]
     },
     "execution_count": 21,
     "metadata": {},
     "output_type": "execute_result"
    }
   ],
   "source": [
    "dec6.head(1)"
   ]
  },
  {
   "cell_type": "code",
   "execution_count": 22,
   "id": "9209b71d",
   "metadata": {
    "execution": {
     "iopub.execute_input": "2022-07-17T17:32:45.813804Z",
     "iopub.status.busy": "2022-07-17T17:32:45.813490Z",
     "iopub.status.idle": "2022-07-17T17:32:45.915698Z",
     "shell.execute_reply": "2022-07-17T17:32:45.915002Z"
    },
    "papermill": {
     "duration": 0.122622,
     "end_time": "2022-07-17T17:32:45.917916",
     "exception": false,
     "start_time": "2022-07-17T17:32:45.795294",
     "status": "completed"
    },
    "tags": []
   },
   "outputs": [
    {
     "data": {
      "text/plain": [
       "<BarContainer object of 3 artists>"
      ]
     },
     "execution_count": 22,
     "metadata": {},
     "output_type": "execute_result"
    },
    {
     "data": {
      "image/png": "[encoded data removed]",
      "text/plain": [
       "<Figure size 432x288 with 1 Axes>"
      ]
     },
     "metadata": {
      "needs_background": "light"
     },
     "output_type": "display_data"
    }
   ],
   "source": [
    "# Making a nice function for counting different marketcaps from the\n",
    "# \"cap\" DataFrame. Returns an int.\n",
    "# INSTRUCTORS NOTE: Since you made it to the end, consider it a gift :D\n",
    "def capcount(query_string):\n",
    "    return cap.query(query_string).count().id\n",
    "\n",
    "# Labels for the plot\n",
    "LABELS = [\"biggish\", \"micro\", \"nano\"]\n",
    "\n",
    "# Using capcount count the biggish cryptos\n",
    "biggish = capcount('market_cap_usd>10000000000')\n",
    "\n",
    "# Same as above for micro ...\n",
    "micro=capcount('market_cap_usd>50000000'or'market_cap_usd<300000000')\n",
    "# ... and for nano\n",
    "nano = capcount('market_cap_usd<50000000')\n",
    "\n",
    "# Making a list with the 3 counts\n",
    "values = [biggish,micro,nano]\n",
    "\n",
    "# Plotting them with matplotlib \n",
    "plt.bar(range(len(values)),values,tick_label=LABELS)\n",
    "# ... YOUR CODE FOR TASK 10 ..."
   ]
  },
  {
   "cell_type": "code",
   "execution_count": 23,
   "id": "1e222718",
   "metadata": {
    "execution": {
     "iopub.execute_input": "2022-07-17T17:32:45.960964Z",
     "iopub.status.busy": "2022-07-17T17:32:45.960637Z",
     "iopub.status.idle": "2022-07-17T17:32:45.966762Z",
     "shell.execute_reply": "2022-07-17T17:32:45.966016Z"
    },
    "papermill": {
     "duration": 0.02994,
     "end_time": "2022-07-17T17:32:45.968686",
     "exception": false,
     "start_time": "2022-07-17T17:32:45.938746",
     "status": "completed"
    },
    "tags": []
   },
   "outputs": [
    {
     "data": {
      "text/plain": [
       "[4, 135, 896]"
      ]
     },
     "execution_count": 23,
     "metadata": {},
     "output_type": "execute_result"
    }
   ],
   "source": [
    "values"
   ]
  },
  {
   "cell_type": "code",
   "execution_count": null,
   "id": "5eede9d2",
   "metadata": {
    "papermill": {
     "duration": 0.010677,
     "end_time": "2022-07-17T17:32:45.990522",
     "exception": false,
     "start_time": "2022-07-17T17:32:45.979845",
     "status": "completed"
    },
    "tags": []
   },
   "outputs": [],
   "source": []
  },
  {
   "cell_type": "markdown",
   "id": "2e91dbc0",
   "metadata": {
    "papermill": {
     "duration": 0.010381,
     "end_time": "2022-07-17T17:32:46.011777",
     "exception": false,
     "start_time": "2022-07-17T17:32:46.001396",
     "status": "completed"
    },
    "tags": []
   },
   "source": [
    "### Happy Learning :)"
   ]
  },
  {
   "cell_type": "code",
   "execution_count": null,
   "id": "bfc929a7",
   "metadata": {
    "papermill": {
     "duration": 0.010821,
     "end_time": "2022-07-17T17:32:46.033386",
     "exception": false,
     "start_time": "2022-07-17T17:32:46.022565",
     "status": "completed"
    },
    "tags": []
   },
   "outputs": [],
   "source": []
  }
 ],
 "metadata": {
  "kernelspec": {
   "display_name": "Python 3",
   "language": "python",
   "name": "python3"
  },
  "language_info": {
   "codemirror_mode": {
    "name": "ipython",
    "version": 3
   },
   "file_extension": ".py",
   "mimetype": "text/x-python",
   "name": "python",
   "nbconvert_exporter": "python",
   "pygments_lexer": "ipython3",
   "version": "3.8.8"
  },
  "papermill": {
   "default_parameters": {},
   "duration": 15.585463,
   "end_time": "2022-07-17T17:32:46.965702",
   "environment_variables": {},
   "exception": null,
   "input_path": "__notebook__.ipynb",
   "output_path": "__notebook__.ipynb",
   "parameters": {},
   "start_time": "2022-07-17T17:32:31.380239",
   "version": "2.3.4"
  }
 },
 "nbformat": 4,
 "nbformat_minor": 5
}
